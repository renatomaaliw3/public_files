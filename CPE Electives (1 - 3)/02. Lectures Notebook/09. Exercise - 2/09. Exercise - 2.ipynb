{
 "cells": [
  {
   "cell_type": "code",
   "execution_count": 1,
   "metadata": {},
   "outputs": [],
   "source": [
    "import numpy as np"
   ]
  },
  {
   "cell_type": "markdown",
   "metadata": {},
   "source": [
    "### 1. Using NumPy create the following Matrices\n",
    "\n",
    "$ a = \\begin{bmatrix} 3 & -4 \\\\ 8 & 5 \\end{bmatrix}$\n",
    "\n",
    "$ b = \\begin{bmatrix} 7 & 8 & -1 \\\\ 3 & 6 & 9 \\end{bmatrix}$"
   ]
  },
  {
   "cell_type": "code",
   "execution_count": null,
   "metadata": {},
   "outputs": [],
   "source": []
  },
  {
   "cell_type": "code",
   "execution_count": null,
   "metadata": {},
   "outputs": [],
   "source": []
  },
  {
   "cell_type": "markdown",
   "metadata": {},
   "source": [
    "### 2. Using NumPy .arange() create the following:\n",
    "\n",
    "    a. array([2, 4, 6, 8, 10, 12, 14, 18])\n",
    "\n",
    "    b. array([4, 8, 12, 16, 20, 24, 28, 32])"
   ]
  },
  {
   "cell_type": "code",
   "execution_count": null,
   "metadata": {},
   "outputs": [],
   "source": []
  },
  {
   "cell_type": "code",
   "execution_count": null,
   "metadata": {},
   "outputs": [],
   "source": []
  },
  {
   "cell_type": "markdown",
   "metadata": {},
   "source": [
    "### 3. Using NumPy .ones() create the Matrix below:\n",
    "    \n",
    "$ c = \\begin{bmatrix} 5 & 5 & 5 \\\\ 5 & 5 & 5 \\end{bmatrix} $"
   ]
  },
  {
   "cell_type": "code",
   "execution_count": null,
   "metadata": {},
   "outputs": [],
   "source": []
  },
  {
   "cell_type": "code",
   "execution_count": null,
   "metadata": {},
   "outputs": [],
   "source": []
  },
  {
   "cell_type": "markdown",
   "metadata": {},
   "source": [
    "### 4. Using NumPy .linspace create the array below:\n",
    "\n",
    "    a. array([0, 2.5, 5., 7.5, 10.])\n",
    "    \n",
    "    b. array([2, 4, 6, 8, 10, 12, 14, 16, 18, 20])"
   ]
  },
  {
   "cell_type": "code",
   "execution_count": null,
   "metadata": {},
   "outputs": [],
   "source": []
  },
  {
   "cell_type": "code",
   "execution_count": null,
   "metadata": {},
   "outputs": [],
   "source": []
  },
  {
   "cell_type": "markdown",
   "metadata": {},
   "source": [
    "### 5. Using NumPy .rand create 5 random numbers"
   ]
  },
  {
   "cell_type": "code",
   "execution_count": null,
   "metadata": {},
   "outputs": [],
   "source": []
  },
  {
   "cell_type": "code",
   "execution_count": null,
   "metadata": {},
   "outputs": [],
   "source": []
  },
  {
   "cell_type": "markdown",
   "metadata": {},
   "source": [
    "### 6. Using NumPy .rand create a 3 X 3 Matrix of random numbers"
   ]
  },
  {
   "cell_type": "code",
   "execution_count": null,
   "metadata": {},
   "outputs": [],
   "source": []
  },
  {
   "cell_type": "code",
   "execution_count": null,
   "metadata": {},
   "outputs": [],
   "source": []
  },
  {
   "cell_type": "markdown",
   "metadata": {},
   "source": [
    "### 7. Create the following NumPy array and then select the following submatrices:\n",
    "\n",
    "$ d = \\begin{bmatrix} 2 & 4 & 6 & 8 & 10 & 12 & 14 & 16 \\\\ 18 & 20 & 22 & 24 & 26 & 28 & 30 & 32 \\\\ 34 & 36 & 38 & 40 & 42 & 44 & 46 & 48 \\\\ 50 & 52 & 54 & 56 & 58 & 60 & 62 & 64\\end{bmatrix}$"
   ]
  },
  {
   "cell_type": "code",
   "execution_count": null,
   "metadata": {},
   "outputs": [],
   "source": []
  },
  {
   "cell_type": "code",
   "execution_count": null,
   "metadata": {},
   "outputs": [],
   "source": []
  },
  {
   "cell_type": "markdown",
   "metadata": {},
   "source": [
    "### From Number 7, select the following submatrices"
   ]
  },
  {
   "cell_type": "markdown",
   "metadata": {},
   "source": [
    "$ subd1 = \\begin{bmatrix} 8 & 10 & 12 & 14 & 16 \\\\ 24 & 26 & 28 & 30 & 32 \\\\ 40 & 42 & 44 & 46 & 48\\end{bmatrix}$"
   ]
  },
  {
   "cell_type": "code",
   "execution_count": null,
   "metadata": {},
   "outputs": [],
   "source": []
  },
  {
   "cell_type": "code",
   "execution_count": null,
   "metadata": {},
   "outputs": [],
   "source": []
  },
  {
   "cell_type": "markdown",
   "metadata": {},
   "source": [
    "$ subd2 = \\begin{bmatrix} 22 & 24 & 26 \\\\ 38 & 40 & 42 \\end{bmatrix}$"
   ]
  },
  {
   "cell_type": "code",
   "execution_count": null,
   "metadata": {},
   "outputs": [],
   "source": []
  },
  {
   "cell_type": "code",
   "execution_count": null,
   "metadata": {},
   "outputs": [],
   "source": []
  },
  {
   "cell_type": "markdown",
   "metadata": {},
   "source": [
    "$ subd3 = \\begin{bmatrix} 8 \\\\ 24 \\\\ 40 \\end{bmatrix}$"
   ]
  },
  {
   "cell_type": "code",
   "execution_count": null,
   "metadata": {},
   "outputs": [],
   "source": []
  },
  {
   "cell_type": "code",
   "execution_count": null,
   "metadata": {},
   "outputs": [],
   "source": []
  },
  {
   "cell_type": "markdown",
   "metadata": {},
   "source": [
    "$ subd4 = \\begin{bmatrix} 36 & 38 & 40 & 42 \\end{bmatrix}$"
   ]
  },
  {
   "cell_type": "code",
   "execution_count": null,
   "metadata": {},
   "outputs": [],
   "source": []
  },
  {
   "cell_type": "code",
   "execution_count": null,
   "metadata": {},
   "outputs": [],
   "source": []
  },
  {
   "cell_type": "markdown",
   "metadata": {},
   "source": [
    "$ subd5 = \\begin{bmatrix} 20 & 26 \\\\ 36 & 42 \\\\ 52 & 58 \\end{bmatrix}$ hint: use numpy.concatenate and numpy.transpose"
   ]
  },
  {
   "cell_type": "code",
   "execution_count": null,
   "metadata": {},
   "outputs": [],
   "source": []
  },
  {
   "cell_type": "code",
   "execution_count": null,
   "metadata": {},
   "outputs": [],
   "source": []
  },
  {
   "cell_type": "markdown",
   "metadata": {},
   "source": [
    "### Matrix Operations"
   ]
  },
  {
   "cell_type": "markdown",
   "metadata": {},
   "source": [
    "### Add and Subtract the two Matrices\n",
    "\n",
    " $ e = \\begin{bmatrix} 5 & -1 \\\\ 3 & -4 \\\\ 8 & 5 \\end{bmatrix}$ \n",
    "\n",
    " $ f = \\begin{bmatrix} 2 & 4 \\\\ -4 & 8 \\\\ 3 & 5 \\end{bmatrix}$"
   ]
  },
  {
   "cell_type": "code",
   "execution_count": null,
   "metadata": {},
   "outputs": [],
   "source": []
  },
  {
   "cell_type": "code",
   "execution_count": null,
   "metadata": {},
   "outputs": [],
   "source": []
  },
  {
   "cell_type": "markdown",
   "metadata": {},
   "source": [
    "### Multiply the matrix to the scalar value\n",
    "\n",
    " $ e = 4\\begin{bmatrix} 2 & 4 & 6 \\\\ 1 & 2 & 3 \\\\ 5 & 4 & 3 \\end{bmatrix}$ "
   ]
  },
  {
   "cell_type": "code",
   "execution_count": null,
   "metadata": {},
   "outputs": [],
   "source": []
  },
  {
   "cell_type": "code",
   "execution_count": null,
   "metadata": {},
   "outputs": [],
   "source": []
  },
  {
   "cell_type": "markdown",
   "metadata": {},
   "source": [
    "### Multiply the following Matrices\n",
    "\n",
    " $ e = \\begin{bmatrix} 3 & -2 & 8 \\\\ 5 & 3 & 2 \\\\ 4 & -2 & 4 \\end{bmatrix} $\n",
    " \n",
    " $ f = \\begin{bmatrix} 1 & 4 \\\\ 1 & 2 \\\\ -1 & 3 \\end{bmatrix} $\n",
    " "
   ]
  },
  {
   "cell_type": "code",
   "execution_count": null,
   "metadata": {},
   "outputs": [],
   "source": []
  },
  {
   "cell_type": "code",
   "execution_count": null,
   "metadata": {},
   "outputs": [],
   "source": []
  },
  {
   "cell_type": "markdown",
   "metadata": {},
   "source": [
    "### Find the transpose of the Matrix\n",
    "\n",
    "$ g = \\begin{bmatrix} 2 & 4  \\\\ 2 & 2 \\\\ 4 & 5 \\end{bmatrix} $"
   ]
  },
  {
   "cell_type": "code",
   "execution_count": 30,
   "metadata": {},
   "outputs": [],
   "source": []
  },
  {
   "cell_type": "code",
   "execution_count": null,
   "metadata": {},
   "outputs": [],
   "source": []
  },
  {
   "cell_type": "markdown",
   "metadata": {},
   "source": [
    "### Find the determinant of the Matrix\n",
    "\n",
    " $ h = \\begin{bmatrix} 1 & -3 & 4 \\\\ 1 & -4 & 1 \\\\ -2 & -3 & 5 \\end{bmatrix} $"
   ]
  },
  {
   "cell_type": "code",
   "execution_count": 32,
   "metadata": {},
   "outputs": [],
   "source": []
  },
  {
   "cell_type": "code",
   "execution_count": null,
   "metadata": {},
   "outputs": [],
   "source": []
  },
  {
   "cell_type": "markdown",
   "metadata": {},
   "source": [
    "### Find the Inverse of the Matrix and prove that it is the Inverse of the Original\n",
    "\n",
    " $ i = \\begin{bmatrix} 7 & 2 & 1 \\\\ 0 & 3 & -1 \\\\ -3 & 4 & -2 \\end{bmatrix} $"
   ]
  },
  {
   "cell_type": "code",
   "execution_count": null,
   "metadata": {},
   "outputs": [],
   "source": []
  },
  {
   "cell_type": "code",
   "execution_count": null,
   "metadata": {},
   "outputs": [],
   "source": []
  },
  {
   "cell_type": "markdown",
   "metadata": {},
   "source": [
    "### Solve for the value of x:  $ e^{2x} = 32 $"
   ]
  },
  {
   "cell_type": "code",
   "execution_count": null,
   "metadata": {},
   "outputs": [],
   "source": []
  },
  {
   "cell_type": "code",
   "execution_count": null,
   "metadata": {},
   "outputs": [],
   "source": []
  },
  {
   "cell_type": "markdown",
   "metadata": {},
   "source": [
    "### Solve the following problem using Systems of Linear Equations\n",
    "\n",
    "    1. If twice the age of son is added to age of father, the sum is 56. But if twice the age of the father is added to the age of son, the sum is 82. \n",
    "\n",
    "    Find the ages of father and son."
   ]
  },
  {
   "cell_type": "code",
   "execution_count": null,
   "metadata": {},
   "outputs": [],
   "source": []
  },
  {
   "cell_type": "code",
   "execution_count": null,
   "metadata": {},
   "outputs": [],
   "source": []
  },
  {
   "cell_type": "markdown",
   "metadata": {},
   "source": [
    "### Solve the following problem using Systems of Linear Equations\n",
    "\n",
    "    2. A cab scout is selling bags of popcorn. A small bag sells for $3, the medium size bag sells for $5, \n",
    "    and a large bag sells for $7.\n",
    "    \n",
    "    The scout has sold a total of 15 bags and has made $77.\n",
    "    He has sold 2 more medium bags than small bags. How many of each size did he sell?"
   ]
  },
  {
   "cell_type": "code",
   "execution_count": null,
   "metadata": {},
   "outputs": [],
   "source": []
  },
  {
   "cell_type": "code",
   "execution_count": null,
   "metadata": {},
   "outputs": [],
   "source": []
  },
  {
   "cell_type": "markdown",
   "metadata": {},
   "source": [
    "### Find the Eigen Values and Eigen Vectors of the Matrix Below\n",
    "\n",
    "Note: Also find the unnormalized version of the Eigen Vectors\n",
    "\n",
    "\n",
    "$ eg = \\begin{bmatrix} 5 & -3 \\\\ -6 & 2 \\end{bmatrix} $"
   ]
  },
  {
   "cell_type": "code",
   "execution_count": null,
   "metadata": {},
   "outputs": [],
   "source": []
  },
  {
   "cell_type": "code",
   "execution_count": null,
   "metadata": {},
   "outputs": [],
   "source": []
  }
 ],
 "metadata": {
  "kernelspec": {
   "display_name": "Python 3",
   "language": "python",
   "name": "python3"
  },
  "language_info": {
   "codemirror_mode": {
    "name": "ipython",
    "version": 3
   },
   "file_extension": ".py",
   "mimetype": "text/x-python",
   "name": "python",
   "nbconvert_exporter": "python",
   "pygments_lexer": "ipython3",
   "version": "3.7.6"
  }
 },
 "nbformat": 4,
 "nbformat_minor": 4
}
