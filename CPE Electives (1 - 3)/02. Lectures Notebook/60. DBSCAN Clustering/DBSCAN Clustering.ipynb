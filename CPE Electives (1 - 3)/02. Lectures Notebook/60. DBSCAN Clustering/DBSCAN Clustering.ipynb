{
  "cells": [
    {
      "cell_type": "markdown",
      "metadata": {
        "id": "52EKH075XlW9"
      },
      "source": [
        "# DBScan Clustering\n",
        "\n",
        "  - Density-Based Spatial Clustering of Applications with Noise, is a popular learning method utilized in model building and machine learning algorithms. This is a clustering method that is used in machine learning to separate clusters of high density from clusters of low density"
      ]
    },
    {
      "cell_type": "markdown",
      "source": [
        "## Imports"
      ],
      "metadata": {
        "id": "LOOhhu2OVPzs"
      }
    },
    {
      "cell_type": "code",
      "execution_count": 52,
      "metadata": {
        "_kg_hide-input": true,
        "id": "fYCzevADcO5h"
      },
      "outputs": [],
      "source": [
        "import numpy as np\n",
        "import pandas as pd\n",
        "import matplotlib.pyplot as plt\n",
        "import seaborn as sns"
      ]
    },
    {
      "cell_type": "markdown",
      "metadata": {
        "id": "3CPkewAscpyK"
      },
      "source": [
        "## Load Dataset"
      ]
    },
    {
      "cell_type": "code",
      "execution_count": 53,
      "metadata": {
        "_kg_hide-input": true,
        "id": "dnV20cUxcohO",
        "colab": {
          "base_uri": "https://localhost:8080/",
          "height": 424
        },
        "outputId": "d94aedde-52ee-48cd-9f87-fe7c4f9e541e"
      },
      "outputs": [
        {
          "output_type": "execute_result",
          "data": {
            "text/html": [
              "<div>\n",
              "<style scoped>\n",
              "    .dataframe tbody tr th:only-of-type {\n",
              "        vertical-align: middle;\n",
              "    }\n",
              "\n",
              "    .dataframe tbody tr th {\n",
              "        vertical-align: top;\n",
              "    }\n",
              "\n",
              "    .dataframe thead th {\n",
              "        text-align: right;\n",
              "    }\n",
              "</style>\n",
              "<table border=\"1\" class=\"dataframe\">\n",
              "  <thead>\n",
              "    <tr style=\"text-align: right;\">\n",
              "      <th></th>\n",
              "      <th>CustomerID</th>\n",
              "      <th>Gender</th>\n",
              "      <th>Age</th>\n",
              "      <th>Annual Income (k$)</th>\n",
              "      <th>Spending Score (1-100)</th>\n",
              "    </tr>\n",
              "  </thead>\n",
              "  <tbody>\n",
              "    <tr>\n",
              "      <th>0</th>\n",
              "      <td>1</td>\n",
              "      <td>Male</td>\n",
              "      <td>19</td>\n",
              "      <td>15</td>\n",
              "      <td>39</td>\n",
              "    </tr>\n",
              "    <tr>\n",
              "      <th>1</th>\n",
              "      <td>2</td>\n",
              "      <td>Male</td>\n",
              "      <td>21</td>\n",
              "      <td>15</td>\n",
              "      <td>81</td>\n",
              "    </tr>\n",
              "    <tr>\n",
              "      <th>2</th>\n",
              "      <td>3</td>\n",
              "      <td>Female</td>\n",
              "      <td>20</td>\n",
              "      <td>16</td>\n",
              "      <td>6</td>\n",
              "    </tr>\n",
              "    <tr>\n",
              "      <th>3</th>\n",
              "      <td>4</td>\n",
              "      <td>Female</td>\n",
              "      <td>23</td>\n",
              "      <td>16</td>\n",
              "      <td>77</td>\n",
              "    </tr>\n",
              "    <tr>\n",
              "      <th>4</th>\n",
              "      <td>5</td>\n",
              "      <td>Female</td>\n",
              "      <td>31</td>\n",
              "      <td>17</td>\n",
              "      <td>40</td>\n",
              "    </tr>\n",
              "    <tr>\n",
              "      <th>...</th>\n",
              "      <td>...</td>\n",
              "      <td>...</td>\n",
              "      <td>...</td>\n",
              "      <td>...</td>\n",
              "      <td>...</td>\n",
              "    </tr>\n",
              "    <tr>\n",
              "      <th>195</th>\n",
              "      <td>196</td>\n",
              "      <td>Female</td>\n",
              "      <td>35</td>\n",
              "      <td>120</td>\n",
              "      <td>79</td>\n",
              "    </tr>\n",
              "    <tr>\n",
              "      <th>196</th>\n",
              "      <td>197</td>\n",
              "      <td>Female</td>\n",
              "      <td>45</td>\n",
              "      <td>126</td>\n",
              "      <td>28</td>\n",
              "    </tr>\n",
              "    <tr>\n",
              "      <th>197</th>\n",
              "      <td>198</td>\n",
              "      <td>Male</td>\n",
              "      <td>32</td>\n",
              "      <td>126</td>\n",
              "      <td>74</td>\n",
              "    </tr>\n",
              "    <tr>\n",
              "      <th>198</th>\n",
              "      <td>199</td>\n",
              "      <td>Male</td>\n",
              "      <td>32</td>\n",
              "      <td>137</td>\n",
              "      <td>18</td>\n",
              "    </tr>\n",
              "    <tr>\n",
              "      <th>199</th>\n",
              "      <td>200</td>\n",
              "      <td>Male</td>\n",
              "      <td>30</td>\n",
              "      <td>137</td>\n",
              "      <td>83</td>\n",
              "    </tr>\n",
              "  </tbody>\n",
              "</table>\n",
              "<p>200 rows × 5 columns</p>\n",
              "</div>"
            ],
            "text/plain": [
              "     CustomerID  Gender  Age  Annual Income (k$)  Spending Score (1-100)\n",
              "0             1    Male   19                  15                      39\n",
              "1             2    Male   21                  15                      81\n",
              "2             3  Female   20                  16                       6\n",
              "3             4  Female   23                  16                      77\n",
              "4             5  Female   31                  17                      40\n",
              "..          ...     ...  ...                 ...                     ...\n",
              "195         196  Female   35                 120                      79\n",
              "196         197  Female   45                 126                      28\n",
              "197         198    Male   32                 126                      74\n",
              "198         199    Male   32                 137                      18\n",
              "199         200    Male   30                 137                      83\n",
              "\n",
              "[200 rows x 5 columns]"
            ]
          },
          "metadata": {},
          "execution_count": 53
        }
      ],
      "source": [
        "# importing the dataset\n",
        "\n",
        "data = pd.read_csv('Mall_Customers.csv')\n",
        "data"
      ]
    },
    {
      "cell_type": "markdown",
      "metadata": {
        "id": "e_xgv4lqXlXF"
      },
      "source": [
        "## Select Features"
      ]
    },
    {
      "cell_type": "code",
      "source": [
        "x = data.loc[:, ['Annual Income (k$)','Spending Score (1-100)']]\n",
        "x"
      ],
      "metadata": {
        "colab": {
          "base_uri": "https://localhost:8080/",
          "height": 424
        },
        "id": "cws3iWyKV2EU",
        "outputId": "94a4f8c5-bd17-43e0-fbb7-0a277925b65d"
      },
      "execution_count": 54,
      "outputs": [
        {
          "output_type": "execute_result",
          "data": {
            "text/html": [
              "<div>\n",
              "<style scoped>\n",
              "    .dataframe tbody tr th:only-of-type {\n",
              "        vertical-align: middle;\n",
              "    }\n",
              "\n",
              "    .dataframe tbody tr th {\n",
              "        vertical-align: top;\n",
              "    }\n",
              "\n",
              "    .dataframe thead th {\n",
              "        text-align: right;\n",
              "    }\n",
              "</style>\n",
              "<table border=\"1\" class=\"dataframe\">\n",
              "  <thead>\n",
              "    <tr style=\"text-align: right;\">\n",
              "      <th></th>\n",
              "      <th>Annual Income (k$)</th>\n",
              "      <th>Spending Score (1-100)</th>\n",
              "    </tr>\n",
              "  </thead>\n",
              "  <tbody>\n",
              "    <tr>\n",
              "      <th>0</th>\n",
              "      <td>15</td>\n",
              "      <td>39</td>\n",
              "    </tr>\n",
              "    <tr>\n",
              "      <th>1</th>\n",
              "      <td>15</td>\n",
              "      <td>81</td>\n",
              "    </tr>\n",
              "    <tr>\n",
              "      <th>2</th>\n",
              "      <td>16</td>\n",
              "      <td>6</td>\n",
              "    </tr>\n",
              "    <tr>\n",
              "      <th>3</th>\n",
              "      <td>16</td>\n",
              "      <td>77</td>\n",
              "    </tr>\n",
              "    <tr>\n",
              "      <th>4</th>\n",
              "      <td>17</td>\n",
              "      <td>40</td>\n",
              "    </tr>\n",
              "    <tr>\n",
              "      <th>...</th>\n",
              "      <td>...</td>\n",
              "      <td>...</td>\n",
              "    </tr>\n",
              "    <tr>\n",
              "      <th>195</th>\n",
              "      <td>120</td>\n",
              "      <td>79</td>\n",
              "    </tr>\n",
              "    <tr>\n",
              "      <th>196</th>\n",
              "      <td>126</td>\n",
              "      <td>28</td>\n",
              "    </tr>\n",
              "    <tr>\n",
              "      <th>197</th>\n",
              "      <td>126</td>\n",
              "      <td>74</td>\n",
              "    </tr>\n",
              "    <tr>\n",
              "      <th>198</th>\n",
              "      <td>137</td>\n",
              "      <td>18</td>\n",
              "    </tr>\n",
              "    <tr>\n",
              "      <th>199</th>\n",
              "      <td>137</td>\n",
              "      <td>83</td>\n",
              "    </tr>\n",
              "  </tbody>\n",
              "</table>\n",
              "<p>200 rows × 2 columns</p>\n",
              "</div>"
            ],
            "text/plain": [
              "     Annual Income (k$)  Spending Score (1-100)\n",
              "0                    15                      39\n",
              "1                    15                      81\n",
              "2                    16                       6\n",
              "3                    16                      77\n",
              "4                    17                      40\n",
              "..                  ...                     ...\n",
              "195                 120                      79\n",
              "196                 126                      28\n",
              "197                 126                      74\n",
              "198                 137                      18\n",
              "199                 137                      83\n",
              "\n",
              "[200 rows x 2 columns]"
            ]
          },
          "metadata": {},
          "execution_count": 54
        }
      ]
    },
    {
      "cell_type": "code",
      "source": [
        ""
      ],
      "metadata": {
        "id": "bPOOGZCKWURN"
      },
      "execution_count": 54,
      "outputs": []
    },
    {
      "cell_type": "markdown",
      "source": [
        "## Epsilon Parameter Calculation"
      ],
      "metadata": {
        "id": "qnNEl_x9V_ma"
      }
    },
    {
      "cell_type": "code",
      "source": [
        "# Import\n",
        "\n",
        "from sklearn.neighbors import NearestNeighbors\n",
        "\n",
        "neigh = NearestNeighbors(n_neighbors = 2)\n",
        "nbrs = neigh.fit(x)\n",
        "distances, indices = nbrs.kneighbors(x)"
      ],
      "metadata": {
        "id": "OOqV-fXcWSa_"
      },
      "execution_count": 55,
      "outputs": []
    },
    {
      "cell_type": "code",
      "source": [
        "# Check Values\n",
        "\n",
        "distances"
      ],
      "metadata": {
        "colab": {
          "base_uri": "https://localhost:8080/"
        },
        "id": "nF2hUcOuWo_P",
        "outputId": "5ba63a6e-ae79-4717-a8cc-a6feeb4a8c02"
      },
      "execution_count": 56,
      "outputs": [
        {
          "output_type": "execute_result",
          "data": {
            "text/plain": [
              "array([[ 0.        ,  2.23606798],\n",
              "       [ 0.        ,  4.12310563],\n",
              "       [ 0.        ,  2.        ],\n",
              "       [ 0.        ,  1.41421356],\n",
              "       [ 0.        ,  2.23606798],\n",
              "       [ 0.        ,  1.41421356],\n",
              "       [ 0.        ,  2.        ],\n",
              "       [ 0.        ,  5.09901951],\n",
              "       [ 0.        ,  3.16227766],\n",
              "       [ 0.        ,  4.47213595],\n",
              "       [ 0.        ,  1.41421356],\n",
              "       [ 0.        ,  4.12310563],\n",
              "       [ 0.        ,  1.41421356],\n",
              "       [ 0.        ,  2.        ],\n",
              "       [ 0.        ,  1.41421356],\n",
              "       [ 0.        ,  2.        ],\n",
              "       [ 0.        ,  3.        ],\n",
              "       [ 0.        ,  6.32455532],\n",
              "       [ 0.        ,  5.83095189],\n",
              "       [ 0.        ,  4.12310563],\n",
              "       [ 0.        ,  3.        ],\n",
              "       [ 0.        ,  1.        ],\n",
              "       [ 0.        ,  5.09901951],\n",
              "       [ 0.        ,  1.        ],\n",
              "       [ 0.        ,  5.        ],\n",
              "       [ 0.        ,  5.09901951],\n",
              "       [ 0.        ,  1.41421356],\n",
              "       [ 0.        ,  8.60232527],\n",
              "       [ 0.        ,  1.41421356],\n",
              "       [ 0.        ,  5.09901951],\n",
              "       [ 0.        ,  3.        ],\n",
              "       [ 0.        ,  4.        ],\n",
              "       [ 0.        ,  3.        ],\n",
              "       [ 0.        ,  5.        ],\n",
              "       [ 0.        ,  3.16227766],\n",
              "       [ 0.        ,  5.09901951],\n",
              "       [ 0.        ,  3.16227766],\n",
              "       [ 0.        ,  3.60555128],\n",
              "       [ 0.        ,  2.82842712],\n",
              "       [ 0.        ,  3.60555128],\n",
              "       [ 0.        ,  1.41421356],\n",
              "       [ 0.        ,  5.        ],\n",
              "       [ 0.        ,  1.41421356],\n",
              "       [ 0.        ,  3.16227766],\n",
              "       [ 0.        ,  2.82842712],\n",
              "       [ 0.        ,  4.        ],\n",
              "       [ 0.        ,  3.16227766],\n",
              "       [ 0.        ,  3.60555128],\n",
              "       [ 0.        ,  0.        ],\n",
              "       [ 0.        ,  0.        ],\n",
              "       [ 0.        ,  2.23606798],\n",
              "       [ 0.        ,  1.        ],\n",
              "       [ 0.        ,  2.23606798],\n",
              "       [ 0.        ,  1.        ],\n",
              "       [ 0.        ,  1.41421356],\n",
              "       [ 0.        ,  3.16227766],\n",
              "       [ 0.        ,  2.23606798],\n",
              "       [ 0.        ,  1.41421356],\n",
              "       [ 0.        ,  1.41421356],\n",
              "       [ 0.        ,  2.        ],\n",
              "       [ 0.        ,  1.        ],\n",
              "       [ 0.        ,  1.        ],\n",
              "       [ 0.        ,  1.41421356],\n",
              "       [ 0.        ,  1.        ],\n",
              "       [ 0.        ,  1.        ],\n",
              "       [ 0.        ,  0.        ],\n",
              "       [ 0.        ,  1.        ],\n",
              "       [ 0.        ,  1.        ],\n",
              "       [ 0.        ,  0.        ],\n",
              "       [ 0.        ,  1.        ],\n",
              "       [ 0.        ,  1.41421356],\n",
              "       [ 0.        ,  5.        ],\n",
              "       [ 0.        ,  2.23606798],\n",
              "       [ 0.        ,  1.41421356],\n",
              "       [ 0.        ,  1.        ],\n",
              "       [ 0.        ,  1.        ],\n",
              "       [ 0.        ,  1.        ],\n",
              "       [ 0.        ,  1.        ],\n",
              "       [ 0.        ,  1.        ],\n",
              "       [ 0.        ,  1.        ],\n",
              "       [ 0.        ,  1.        ],\n",
              "       [ 0.        ,  1.        ],\n",
              "       [ 0.        ,  1.        ],\n",
              "       [ 0.        ,  2.        ],\n",
              "       [ 0.        ,  2.        ],\n",
              "       [ 0.        ,  1.        ],\n",
              "       [ 0.        ,  2.23606798],\n",
              "       [ 0.        ,  2.        ],\n",
              "       [ 0.        ,  2.23606798],\n",
              "       [ 0.        ,  2.23606798],\n",
              "       [ 0.        ,  2.        ],\n",
              "       [ 0.        ,  1.41421356],\n",
              "       [ 0.        ,  1.        ],\n",
              "       [ 0.        ,  1.41421356],\n",
              "       [ 0.        ,  1.        ],\n",
              "       [ 0.        ,  2.        ],\n",
              "       [ 0.        ,  2.        ],\n",
              "       [ 0.        ,  1.        ],\n",
              "       [ 0.        ,  1.        ],\n",
              "       [ 0.        ,  1.        ],\n",
              "       [ 0.        ,  1.        ],\n",
              "       [ 0.        ,  1.        ],\n",
              "       [ 0.        ,  3.        ],\n",
              "       [ 0.        ,  1.        ],\n",
              "       [ 0.        ,  1.        ],\n",
              "       [ 0.        ,  1.        ],\n",
              "       [ 0.        ,  2.        ],\n",
              "       [ 0.        ,  1.        ],\n",
              "       [ 0.        ,  1.41421356],\n",
              "       [ 0.        ,  1.        ],\n",
              "       [ 0.        ,  2.        ],\n",
              "       [ 0.        ,  1.41421356],\n",
              "       [ 0.        ,  1.41421356],\n",
              "       [ 0.        ,  1.        ],\n",
              "       [ 0.        ,  2.        ],\n",
              "       [ 0.        ,  2.        ],\n",
              "       [ 0.        ,  1.41421356],\n",
              "       [ 0.        ,  2.82842712],\n",
              "       [ 0.        ,  2.        ],\n",
              "       [ 0.        ,  1.        ],\n",
              "       [ 0.        ,  1.        ],\n",
              "       [ 0.        ,  3.        ],\n",
              "       [ 0.        ,  2.23606798],\n",
              "       [ 0.        ,  4.47213595],\n",
              "       [ 0.        ,  5.38516481],\n",
              "       [ 0.        ,  2.23606798],\n",
              "       [ 0.        ,  1.41421356],\n",
              "       [ 0.        ,  4.47213595],\n",
              "       [ 0.        ,  2.        ],\n",
              "       [ 0.        ,  0.        ],\n",
              "       [ 0.        ,  2.        ],\n",
              "       [ 0.        ,  0.        ],\n",
              "       [ 0.        ,  1.41421356],\n",
              "       [ 0.        ,  2.23606798],\n",
              "       [ 0.        ,  2.        ],\n",
              "       [ 0.        ,  3.16227766],\n",
              "       [ 0.        ,  2.        ],\n",
              "       [ 0.        ,  1.41421356],\n",
              "       [ 0.        ,  3.16227766],\n",
              "       [ 0.        ,  1.41421356],\n",
              "       [ 0.        ,  2.        ],\n",
              "       [ 0.        ,  4.24264069],\n",
              "       [ 0.        ,  4.12310563],\n",
              "       [ 0.        ,  2.23606798],\n",
              "       [ 0.        ,  3.60555128],\n",
              "       [ 0.        ,  4.47213595],\n",
              "       [ 0.        ,  2.23606798],\n",
              "       [ 0.        ,  1.41421356],\n",
              "       [ 0.        ,  2.        ],\n",
              "       [ 0.        ,  1.        ],\n",
              "       [ 0.        ,  1.        ],\n",
              "       [ 0.        ,  1.        ],\n",
              "       [ 0.        ,  2.        ],\n",
              "       [ 0.        ,  2.        ],\n",
              "       [ 0.        ,  1.        ],\n",
              "       [ 0.        ,  1.        ],\n",
              "       [ 0.        ,  0.        ],\n",
              "       [ 0.        ,  2.        ],\n",
              "       [ 0.        ,  0.        ],\n",
              "       [ 0.        ,  1.41421356],\n",
              "       [ 0.        ,  2.23606798],\n",
              "       [ 0.        ,  5.        ],\n",
              "       [ 0.        ,  5.        ],\n",
              "       [ 0.        ,  4.24264069],\n",
              "       [ 0.        ,  2.23606798],\n",
              "       [ 0.        ,  2.        ],\n",
              "       [ 0.        ,  5.38516481],\n",
              "       [ 0.        ,  3.16227766],\n",
              "       [ 0.        ,  2.23606798],\n",
              "       [ 0.        ,  6.08276253],\n",
              "       [ 0.        ,  1.        ],\n",
              "       [ 0.        ,  2.        ],\n",
              "       [ 0.        ,  3.        ],\n",
              "       [ 0.        ,  3.16227766],\n",
              "       [ 0.        ,  1.        ],\n",
              "       [ 0.        ,  6.08276253],\n",
              "       [ 0.        ,  2.        ],\n",
              "       [ 0.        ,  6.08276253],\n",
              "       [ 0.        ,  5.09901951],\n",
              "       [ 0.        ,  5.38516481],\n",
              "       [ 0.        ,  7.28010989],\n",
              "       [ 0.        ,  2.23606798],\n",
              "       [ 0.        ,  5.09901951],\n",
              "       [ 0.        ,  2.23606798],\n",
              "       [ 0.        ,  7.28010989],\n",
              "       [ 0.        ,  9.05538514],\n",
              "       [ 0.        ,  2.23606798],\n",
              "       [ 0.        ,  2.23606798],\n",
              "       [ 0.        ,  5.38516481],\n",
              "       [ 0.        ,  5.83095189],\n",
              "       [ 0.        ,  2.23606798],\n",
              "       [ 0.        ,  2.23606798],\n",
              "       [ 0.        , 10.63014581],\n",
              "       [ 0.        , 11.66190379],\n",
              "       [ 0.        , 10.63014581],\n",
              "       [ 0.        ,  7.81024968],\n",
              "       [ 0.        , 13.41640786],\n",
              "       [ 0.        ,  7.81024968],\n",
              "       [ 0.        , 14.86606875],\n",
              "       [ 0.        , 14.2126704 ]])"
            ]
          },
          "metadata": {},
          "execution_count": 56
        }
      ]
    },
    {
      "cell_type": "code",
      "source": [
        "# Check Values\n",
        "\n",
        "indices"
      ],
      "metadata": {
        "colab": {
          "base_uri": "https://localhost:8080/"
        },
        "id": "F2Vvic9wWvEs",
        "outputId": "c228cc56-2aa0-4a4c-98ad-2ec54dc3801f"
      },
      "execution_count": 57,
      "outputs": [
        {
          "output_type": "execute_result",
          "data": {
            "text/plain": [
              "array([[  0,   4],\n",
              "       [  1,   3],\n",
              "       [  2,   6],\n",
              "       [  3,   5],\n",
              "       [  4,   0],\n",
              "       [  5,   3],\n",
              "       [  6,   2],\n",
              "       [  7,  11],\n",
              "       [  8,   6],\n",
              "       [  9,   5],\n",
              "       [ 10,  12],\n",
              "       [ 11,  19],\n",
              "       [ 12,  10],\n",
              "       [ 13,  15],\n",
              "       [ 14,  10],\n",
              "       [ 15,  13],\n",
              "       [ 16,  20],\n",
              "       [ 17,   9],\n",
              "       [ 18,  26],\n",
              "       [ 19,  11],\n",
              "       [ 20,  16],\n",
              "       [ 21,  23],\n",
              "       [ 22,  30],\n",
              "       [ 23,  21],\n",
              "       [ 24,  34],\n",
              "       [ 25,  29],\n",
              "       [ 26,  28],\n",
              "       [ 27,  17],\n",
              "       [ 28,  26],\n",
              "       [ 29,  25],\n",
              "       [ 30,  32],\n",
              "       [ 31,  37],\n",
              "       [ 32,  30],\n",
              "       [ 33,  41],\n",
              "       [ 34,  36],\n",
              "       [ 35,  25],\n",
              "       [ 36,  34],\n",
              "       [ 37,  39],\n",
              "       [ 38,  44],\n",
              "       [ 39,  37],\n",
              "       [ 40,  42],\n",
              "       [ 41,  33],\n",
              "       [ 42,  40],\n",
              "       [ 43,  51],\n",
              "       [ 44,  38],\n",
              "       [ 45,  43],\n",
              "       [ 46,  52],\n",
              "       [ 47,  54],\n",
              "       [ 48,  49],\n",
              "       [ 48,  49],\n",
              "       [ 50,  52],\n",
              "       [ 51,  53],\n",
              "       [ 52,  50],\n",
              "       [ 53,  51],\n",
              "       [ 54,  57],\n",
              "       [ 55,  49],\n",
              "       [ 56,  58],\n",
              "       [ 57,  54],\n",
              "       [ 58,  62],\n",
              "       [ 59,  57],\n",
              "       [ 60,  61],\n",
              "       [ 61,  60],\n",
              "       [ 62,  64],\n",
              "       [ 63,  65],\n",
              "       [ 64,  66],\n",
              "       [ 68,  65],\n",
              "       [ 66,  64],\n",
              "       [ 67,  69],\n",
              "       [ 68,  65],\n",
              "       [ 69,  67],\n",
              "       [ 70,  73],\n",
              "       [ 71,  79],\n",
              "       [ 72,  67],\n",
              "       [ 73,  70],\n",
              "       [ 74,  77],\n",
              "       [ 75,  76],\n",
              "       [ 76,  75],\n",
              "       [ 77,  74],\n",
              "       [ 78,  80],\n",
              "       [ 79,  82],\n",
              "       [ 80,  78],\n",
              "       [ 81,  75],\n",
              "       [ 82,  79],\n",
              "       [ 83,  85],\n",
              "       [ 84,  81],\n",
              "       [ 85,  74],\n",
              "       [ 86,  88],\n",
              "       [ 87,  90],\n",
              "       [ 88,  86],\n",
              "       [ 89,  96],\n",
              "       [ 90,  87],\n",
              "       [ 91,  94],\n",
              "       [ 92,  99],\n",
              "       [ 93,  91],\n",
              "       [ 94,  98],\n",
              "       [ 95,  97],\n",
              "       [ 96,  92],\n",
              "       [ 97,  92],\n",
              "       [ 98,  94],\n",
              "       [ 99,  92],\n",
              "       [100, 105],\n",
              "       [101, 109],\n",
              "       [102, 104],\n",
              "       [103, 104],\n",
              "       [104, 103],\n",
              "       [105, 100],\n",
              "       [106, 115],\n",
              "       [107, 113],\n",
              "       [108, 105],\n",
              "       [109, 101],\n",
              "       [110, 106],\n",
              "       [111, 103],\n",
              "       [112, 108],\n",
              "       [113, 107],\n",
              "       [114, 109],\n",
              "       [115, 106],\n",
              "       [116, 112],\n",
              "       [117, 119],\n",
              "       [118, 116],\n",
              "       [119, 120],\n",
              "       [120, 119],\n",
              "       [121, 118],\n",
              "       [122, 119],\n",
              "       [123, 127],\n",
              "       [124, 132],\n",
              "       [125, 129],\n",
              "       [126, 132],\n",
              "       [127, 123],\n",
              "       [128, 130],\n",
              "       [131, 129],\n",
              "       [130, 128],\n",
              "       [131, 129],\n",
              "       [132, 126],\n",
              "       [133, 137],\n",
              "       [134, 136],\n",
              "       [135, 143],\n",
              "       [136, 134],\n",
              "       [137, 139],\n",
              "       [138, 128],\n",
              "       [139, 137],\n",
              "       [140, 134],\n",
              "       [141, 149],\n",
              "       [142, 146],\n",
              "       [143, 151],\n",
              "       [144, 138],\n",
              "       [145, 141],\n",
              "       [146, 160],\n",
              "       [147, 159],\n",
              "       [148, 152],\n",
              "       [149, 155],\n",
              "       [150, 154],\n",
              "       [151, 155],\n",
              "       [152, 148],\n",
              "       [153, 157],\n",
              "       [154, 150],\n",
              "       [155, 151],\n",
              "       [156, 158],\n",
              "       [157, 153],\n",
              "       [156, 158],\n",
              "       [159, 147],\n",
              "       [160, 146],\n",
              "       [161, 143],\n",
              "       [162, 158],\n",
              "       [163, 149],\n",
              "       [164, 168],\n",
              "       [165, 171],\n",
              "       [166, 176],\n",
              "       [167, 173],\n",
              "       [168, 164],\n",
              "       [169, 177],\n",
              "       [170, 174],\n",
              "       [171, 165],\n",
              "       [172, 170],\n",
              "       [173, 167],\n",
              "       [174, 170],\n",
              "       [175, 173],\n",
              "       [176, 174],\n",
              "       [177, 169],\n",
              "       [178, 182],\n",
              "       [179, 183],\n",
              "       [180, 184],\n",
              "       [181, 183],\n",
              "       [182, 178],\n",
              "       [183, 181],\n",
              "       [184, 180],\n",
              "       [185, 183],\n",
              "       [186, 190],\n",
              "       [187, 191],\n",
              "       [188, 182],\n",
              "       [189, 183],\n",
              "       [190, 186],\n",
              "       [191, 187],\n",
              "       [192, 194],\n",
              "       [193, 189],\n",
              "       [194, 192],\n",
              "       [195, 197],\n",
              "       [196, 194],\n",
              "       [197, 195],\n",
              "       [198, 196],\n",
              "       [199, 197]])"
            ]
          },
          "metadata": {},
          "execution_count": 57
        }
      ]
    },
    {
      "cell_type": "markdown",
      "source": [
        "## Sort and Plot the Results"
      ],
      "metadata": {
        "id": "6wGQ8_-bW63f"
      }
    },
    {
      "cell_type": "code",
      "source": [
        "distances = np.sort(distances, axis = 0)\n",
        "distances = distances[:, 1]\n",
        "\n",
        "plt.rcParams['figure.figsize'] = (10,8)\n",
        "plt.plot(distances)\n",
        "plt.show()"
      ],
      "metadata": {
        "colab": {
          "base_uri": "https://localhost:8080/",
          "height": 479
        },
        "id": "VPWI6vpCW_Rm",
        "outputId": "493570e8-dae9-456c-ad64-19e55e04ca66"
      },
      "execution_count": 58,
      "outputs": [
        {
          "output_type": "display_data",
          "data": {
            "image/png": "[encoded data removed]",
            "text/plain": [
              "<Figure size 720x576 with 1 Axes>"
            ]
          },
          "metadata": {
            "needs_background": "light"
          }
        }
      ]
    },
    {
      "cell_type": "code",
      "source": [
        "# Epsilon value is the maximum curvature (around 8)\n",
        "# Minimum Sample value is 4"
      ],
      "metadata": {
        "id": "vgVWo9j8XHQ2"
      },
      "execution_count": 59,
      "outputs": []
    },
    {
      "cell_type": "markdown",
      "source": [
        "## DBSCAN Implementation"
      ],
      "metadata": {
        "id": "qtqTEji5X4pj"
      }
    },
    {
      "cell_type": "code",
      "source": [
        "# Import\n",
        "\n",
        "from sklearn.cluster import DBSCAN\n",
        "\n",
        "dbscan = DBSCAN(eps = 8, min_samples = 4)\n",
        "clusters = dbscan.fit_predict(x)"
      ],
      "metadata": {
        "id": "RWPoQJy1X8AN"
      },
      "execution_count": 60,
      "outputs": []
    },
    {
      "cell_type": "markdown",
      "source": [
        "## Plot the Cluster Assignments"
      ],
      "metadata": {
        "id": "e8XxPhCXYFzV"
      }
    },
    {
      "cell_type": "code",
      "source": [
        "plt.scatter(x.iloc[:,0], x.iloc[:,1], c = clusters, cmap = 'plasma')\n",
        "plt.xlabel('Income')\n",
        "plt.ylabel('Spending Score')\n",
        "plt.show()"
      ],
      "metadata": {
        "colab": {
          "base_uri": "https://localhost:8080/",
          "height": 496
        },
        "id": "HEjbL5hSYKmT",
        "outputId": "b72933ad-bbcb-420b-b241-4d14188eebb2"
      },
      "execution_count": 61,
      "outputs": [
        {
          "output_type": "display_data",
          "data": {
            "image/png": "[encoded data removed]",
            "text/plain": [
              "<Figure size 720x576 with 1 Axes>"
            ]
          },
          "metadata": {
            "needs_background": "light"
          }
        }
      ]
    }
  ],
  "metadata": {
    "colab": {
      "name": "DBSCAN Clustering.ipynb",
      "provenance": [],
      "collapsed_sections": []
    },
    "kernelspec": {
      "display_name": "Python 3",
      "language": "python",
      "name": "python3"
    },
    "language_info": {
      "codemirror_mode": {
        "name": "ipython",
        "version": 3
      },
      "file_extension": ".py",
      "mimetype": "text/x-python",
      "name": "python",
      "nbconvert_exporter": "python",
      "pygments_lexer": "ipython3",
      "version": "3.6.1"
    }
  },
  "nbformat": 4,
  "nbformat_minor": 0
}