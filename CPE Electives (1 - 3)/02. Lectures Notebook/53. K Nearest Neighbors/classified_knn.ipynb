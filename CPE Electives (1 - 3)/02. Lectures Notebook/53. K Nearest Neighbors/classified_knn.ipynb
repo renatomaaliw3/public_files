{
  "nbformat": 4,
  "nbformat_minor": 0,
  "metadata": {
    "colab": {
      "name": "KNN.ipynb",
      "provenance": [],
      "collapsed_sections": []
    },
    "kernelspec": {
      "name": "python3",
      "display_name": "Python 3"
    },
    "language_info": {
      "name": "python"
    }
  },
  "cells": [
    {
      "cell_type": "markdown",
      "metadata": {
        "id": "Cv6RkEvFL4Bs"
      },
      "source": [
        "# K Nearest Neighbors"
      ]
    },
    {
      "cell_type": "markdown",
      "metadata": {
        "id": "CGp6P_OQLpux"
      },
      "source": [
        "## Imports"
      ]
    },
    {
      "cell_type": "code",
      "metadata": {
        "id": "rNqLIOy0L2Hx"
      },
      "source": [
        "import pandas as pd\n",
        "import numpy as np\n",
        "import matplotlib.pyplot as plt\n",
        "import seaborn as sns"
      ],
      "execution_count": 1,
      "outputs": []
    },
    {
      "cell_type": "markdown",
      "metadata": {
        "id": "xN_yLu83L_MV"
      },
      "source": [
        "## DataSet/s"
      ]
    },
    {
      "cell_type": "code",
      "metadata": {
        "colab": {
          "base_uri": "https://localhost:8080/",
          "height": 206
        },
        "id": "SpOfof1kNsRi",
        "outputId": "1f8aa4f3-caac-460e-ba49-bc7ff58626f5"
      },
      "source": [
        "# Load Dataset\n",
        "# Preview Dataset\n",
        "\n",
        "df = pd.read_csv('Classified Data', index_col = 0)\n",
        "df.sample(5)"
      ],
      "execution_count": 2,
      "outputs": [
        {
          "output_type": "execute_result",
          "data": {
            "text/html": [
              "<div>\n",
              "<style scoped>\n",
              "    .dataframe tbody tr th:only-of-type {\n",
              "        vertical-align: middle;\n",
              "    }\n",
              "\n",
              "    .dataframe tbody tr th {\n",
              "        vertical-align: top;\n",
              "    }\n",
              "\n",
              "    .dataframe thead th {\n",
              "        text-align: right;\n",
              "    }\n",
              "</style>\n",
              "<table border=\"1\" class=\"dataframe\">\n",
              "  <thead>\n",
              "    <tr style=\"text-align: right;\">\n",
              "      <th></th>\n",
              "      <th>WTT</th>\n",
              "      <th>PTI</th>\n",
              "      <th>EQW</th>\n",
              "      <th>SBI</th>\n",
              "      <th>LQE</th>\n",
              "      <th>QWG</th>\n",
              "      <th>FDJ</th>\n",
              "      <th>PJF</th>\n",
              "      <th>HQE</th>\n",
              "      <th>NXJ</th>\n",
              "      <th>TARGET CLASS</th>\n",
              "    </tr>\n",
              "  </thead>\n",
              "  <tbody>\n",
              "    <tr>\n",
              "      <th>289</th>\n",
              "      <td>0.861841</td>\n",
              "      <td>1.393343</td>\n",
              "      <td>1.078968</td>\n",
              "      <td>1.036510</td>\n",
              "      <td>1.113844</td>\n",
              "      <td>0.834736</td>\n",
              "      <td>1.273052</td>\n",
              "      <td>1.520986</td>\n",
              "      <td>0.908510</td>\n",
              "      <td>1.651151</td>\n",
              "      <td>0</td>\n",
              "    </tr>\n",
              "    <tr>\n",
              "      <th>783</th>\n",
              "      <td>0.724089</td>\n",
              "      <td>0.948056</td>\n",
              "      <td>0.585212</td>\n",
              "      <td>0.671069</td>\n",
              "      <td>0.951400</td>\n",
              "      <td>0.540724</td>\n",
              "      <td>0.676808</td>\n",
              "      <td>0.686228</td>\n",
              "      <td>1.418996</td>\n",
              "      <td>1.221743</td>\n",
              "      <td>1</td>\n",
              "    </tr>\n",
              "    <tr>\n",
              "      <th>1</th>\n",
              "      <td>0.635632</td>\n",
              "      <td>1.003722</td>\n",
              "      <td>0.535342</td>\n",
              "      <td>0.825645</td>\n",
              "      <td>0.924109</td>\n",
              "      <td>0.648450</td>\n",
              "      <td>0.675334</td>\n",
              "      <td>1.013546</td>\n",
              "      <td>0.621552</td>\n",
              "      <td>1.492702</td>\n",
              "      <td>0</td>\n",
              "    </tr>\n",
              "    <tr>\n",
              "      <th>985</th>\n",
              "      <td>1.150205</td>\n",
              "      <td>0.726369</td>\n",
              "      <td>0.858908</td>\n",
              "      <td>0.750856</td>\n",
              "      <td>0.639816</td>\n",
              "      <td>0.495082</td>\n",
              "      <td>0.816259</td>\n",
              "      <td>0.472181</td>\n",
              "      <td>1.263450</td>\n",
              "      <td>1.232706</td>\n",
              "      <td>1</td>\n",
              "    </tr>\n",
              "    <tr>\n",
              "      <th>548</th>\n",
              "      <td>1.125611</td>\n",
              "      <td>1.340628</td>\n",
              "      <td>0.765846</td>\n",
              "      <td>0.486345</td>\n",
              "      <td>1.521747</td>\n",
              "      <td>1.256347</td>\n",
              "      <td>1.143866</td>\n",
              "      <td>1.140271</td>\n",
              "      <td>0.780668</td>\n",
              "      <td>1.350872</td>\n",
              "      <td>0</td>\n",
              "    </tr>\n",
              "  </tbody>\n",
              "</table>\n",
              "</div>"
            ],
            "text/plain": [
              "          WTT       PTI       EQW  ...       HQE       NXJ  TARGET CLASS\n",
              "289  0.861841  1.393343  1.078968  ...  0.908510  1.651151             0\n",
              "783  0.724089  0.948056  0.585212  ...  1.418996  1.221743             1\n",
              "1    0.635632  1.003722  0.535342  ...  0.621552  1.492702             0\n",
              "985  1.150205  0.726369  0.858908  ...  1.263450  1.232706             1\n",
              "548  1.125611  1.340628  0.765846  ...  0.780668  1.350872             0\n",
              "\n",
              "[5 rows x 11 columns]"
            ]
          },
          "metadata": {},
          "execution_count": 2
        }
      ]
    },
    {
      "cell_type": "markdown",
      "metadata": {
        "id": "RxevWFmeN72j"
      },
      "source": [
        "## Data Scaling"
      ]
    },
    {
      "cell_type": "code",
      "metadata": {
        "id": "oPZZ3A3UOQ_q"
      },
      "source": [
        "# Import Standard Scaler\n",
        "\n",
        "from sklearn.preprocessing import StandardScaler"
      ],
      "execution_count": 3,
      "outputs": []
    },
    {
      "cell_type": "code",
      "metadata": {
        "colab": {
          "base_uri": "https://localhost:8080/"
        },
        "id": "cmGbwRMGOWaD",
        "outputId": "bfec3c4c-6795-4f2a-9e82-a422aa426874"
      },
      "source": [
        "# Standard Scaling Instances\n",
        "# You do not need the target class at this point (scaling)\n",
        "\n",
        "scaler = StandardScaler()\n",
        "scaler.fit(df.drop('TARGET CLASS', axis = 1))"
      ],
      "execution_count": 4,
      "outputs": [
        {
          "output_type": "execute_result",
          "data": {
            "text/plain": [
              "StandardScaler(copy=True, with_mean=True, with_std=True)"
            ]
          },
          "metadata": {},
          "execution_count": 4
        }
      ]
    },
    {
      "cell_type": "code",
      "metadata": {
        "colab": {
          "base_uri": "https://localhost:8080/"
        },
        "id": "9i9LE6O3Oid7",
        "outputId": "98ab8ca5-ac8e-4522-d8e9-fc17159f915d"
      },
      "source": [
        "# Transform the Data (Scaled Features)\n",
        "\n",
        "scaled_features = scaler.transform(df.drop('TARGET CLASS', axis = 1))\n",
        "scaled_features"
      ],
      "execution_count": 5,
      "outputs": [
        {
          "output_type": "execute_result",
          "data": {
            "text/plain": [
              "array([[-0.12354188,  0.18590747, -0.91343069, ..., -1.48236813,\n",
              "        -0.9497194 , -0.64331425],\n",
              "       [-1.08483602, -0.43034845, -1.02531333, ..., -0.20224031,\n",
              "        -1.82805088,  0.63675862],\n",
              "       [-0.78870217,  0.33931821,  0.30151137, ...,  0.28570652,\n",
              "        -0.68249379, -0.37784986],\n",
              "       ...,\n",
              "       [ 0.64177714, -0.51308341, -0.17920486, ..., -2.36249443,\n",
              "        -0.81426092,  0.11159651],\n",
              "       [ 0.46707241, -0.98278576, -1.46519359, ..., -0.03677699,\n",
              "         0.40602453, -0.85567   ],\n",
              "       [-0.38765353, -0.59589427, -1.4313981 , ..., -0.56778932,\n",
              "         0.3369971 ,  0.01034996]])"
            ]
          },
          "metadata": {},
          "execution_count": 5
        }
      ]
    },
    {
      "cell_type": "code",
      "metadata": {
        "colab": {
          "base_uri": "https://localhost:8080/",
          "height": 206
        },
        "id": "Rg1FSgNqO-Zt",
        "outputId": "5e4688a6-c3ef-4631-955d-3e6efcb96b52"
      },
      "source": [
        "df_feat = pd.DataFrame(scaled_features, columns = df.columns[:-1]) # excluding the last column (:-1)\n",
        "df_feat.head()"
      ],
      "execution_count": 6,
      "outputs": [
        {
          "output_type": "execute_result",
          "data": {
            "text/html": [
              "<div>\n",
              "<style scoped>\n",
              "    .dataframe tbody tr th:only-of-type {\n",
              "        vertical-align: middle;\n",
              "    }\n",
              "\n",
              "    .dataframe tbody tr th {\n",
              "        vertical-align: top;\n",
              "    }\n",
              "\n",
              "    .dataframe thead th {\n",
              "        text-align: right;\n",
              "    }\n",
              "</style>\n",
              "<table border=\"1\" class=\"dataframe\">\n",
              "  <thead>\n",
              "    <tr style=\"text-align: right;\">\n",
              "      <th></th>\n",
              "      <th>WTT</th>\n",
              "      <th>PTI</th>\n",
              "      <th>EQW</th>\n",
              "      <th>SBI</th>\n",
              "      <th>LQE</th>\n",
              "      <th>QWG</th>\n",
              "      <th>FDJ</th>\n",
              "      <th>PJF</th>\n",
              "      <th>HQE</th>\n",
              "      <th>NXJ</th>\n",
              "    </tr>\n",
              "  </thead>\n",
              "  <tbody>\n",
              "    <tr>\n",
              "      <th>0</th>\n",
              "      <td>-0.123542</td>\n",
              "      <td>0.185907</td>\n",
              "      <td>-0.913431</td>\n",
              "      <td>0.319629</td>\n",
              "      <td>-1.033637</td>\n",
              "      <td>-2.308375</td>\n",
              "      <td>-0.798951</td>\n",
              "      <td>-1.482368</td>\n",
              "      <td>-0.949719</td>\n",
              "      <td>-0.643314</td>\n",
              "    </tr>\n",
              "    <tr>\n",
              "      <th>1</th>\n",
              "      <td>-1.084836</td>\n",
              "      <td>-0.430348</td>\n",
              "      <td>-1.025313</td>\n",
              "      <td>0.625388</td>\n",
              "      <td>-0.444847</td>\n",
              "      <td>-1.152706</td>\n",
              "      <td>-1.129797</td>\n",
              "      <td>-0.202240</td>\n",
              "      <td>-1.828051</td>\n",
              "      <td>0.636759</td>\n",
              "    </tr>\n",
              "    <tr>\n",
              "      <th>2</th>\n",
              "      <td>-0.788702</td>\n",
              "      <td>0.339318</td>\n",
              "      <td>0.301511</td>\n",
              "      <td>0.755873</td>\n",
              "      <td>2.031693</td>\n",
              "      <td>-0.870156</td>\n",
              "      <td>2.599818</td>\n",
              "      <td>0.285707</td>\n",
              "      <td>-0.682494</td>\n",
              "      <td>-0.377850</td>\n",
              "    </tr>\n",
              "    <tr>\n",
              "      <th>3</th>\n",
              "      <td>0.982841</td>\n",
              "      <td>1.060193</td>\n",
              "      <td>-0.621399</td>\n",
              "      <td>0.625299</td>\n",
              "      <td>0.452820</td>\n",
              "      <td>-0.267220</td>\n",
              "      <td>1.750208</td>\n",
              "      <td>1.066491</td>\n",
              "      <td>1.241325</td>\n",
              "      <td>-1.026987</td>\n",
              "    </tr>\n",
              "    <tr>\n",
              "      <th>4</th>\n",
              "      <td>1.139275</td>\n",
              "      <td>-0.640392</td>\n",
              "      <td>-0.709819</td>\n",
              "      <td>-0.057175</td>\n",
              "      <td>0.822886</td>\n",
              "      <td>-0.936773</td>\n",
              "      <td>0.596782</td>\n",
              "      <td>-1.472352</td>\n",
              "      <td>1.040772</td>\n",
              "      <td>0.276510</td>\n",
              "    </tr>\n",
              "  </tbody>\n",
              "</table>\n",
              "</div>"
            ],
            "text/plain": [
              "        WTT       PTI       EQW  ...       PJF       HQE       NXJ\n",
              "0 -0.123542  0.185907 -0.913431  ... -1.482368 -0.949719 -0.643314\n",
              "1 -1.084836 -0.430348 -1.025313  ... -0.202240 -1.828051  0.636759\n",
              "2 -0.788702  0.339318  0.301511  ...  0.285707 -0.682494 -0.377850\n",
              "3  0.982841  1.060193 -0.621399  ...  1.066491  1.241325 -1.026987\n",
              "4  1.139275 -0.640392 -0.709819  ... -1.472352  1.040772  0.276510\n",
              "\n",
              "[5 rows x 10 columns]"
            ]
          },
          "metadata": {},
          "execution_count": 6
        }
      ]
    },
    {
      "cell_type": "markdown",
      "metadata": {
        "id": "RFmeHPcQPUD7"
      },
      "source": [
        "## Train - Test Split"
      ]
    },
    {
      "cell_type": "code",
      "metadata": {
        "id": "6Bl3oDJBPonc"
      },
      "source": [
        "# Import\n",
        "\n",
        "from sklearn.model_selection import train_test_split"
      ],
      "execution_count": 7,
      "outputs": []
    },
    {
      "cell_type": "code",
      "metadata": {
        "id": "AX1zjL2tQBvJ"
      },
      "source": [
        "# Splits\n",
        "X = df_feat\n",
        "y = df['TARGET CLASS']\n",
        "\n",
        "X_train, X_test, y_train, y_test = train_test_split(X, y, test_size = 0.3, random_state = 101)"
      ],
      "execution_count": 8,
      "outputs": []
    },
    {
      "cell_type": "code",
      "metadata": {
        "colab": {
          "base_uri": "https://localhost:8080/",
          "height": 206
        },
        "id": "jAbpuQ-2QR5j",
        "outputId": "74e68c8d-cd3e-4ecb-c1e2-d598cf836637"
      },
      "source": [
        "# Show some features X_train\n",
        "\n",
        "X_train.head(5)"
      ],
      "execution_count": 9,
      "outputs": [
        {
          "output_type": "execute_result",
          "data": {
            "text/html": [
              "<div>\n",
              "<style scoped>\n",
              "    .dataframe tbody tr th:only-of-type {\n",
              "        vertical-align: middle;\n",
              "    }\n",
              "\n",
              "    .dataframe tbody tr th {\n",
              "        vertical-align: top;\n",
              "    }\n",
              "\n",
              "    .dataframe thead th {\n",
              "        text-align: right;\n",
              "    }\n",
              "</style>\n",
              "<table border=\"1\" class=\"dataframe\">\n",
              "  <thead>\n",
              "    <tr style=\"text-align: right;\">\n",
              "      <th></th>\n",
              "      <th>WTT</th>\n",
              "      <th>PTI</th>\n",
              "      <th>EQW</th>\n",
              "      <th>SBI</th>\n",
              "      <th>LQE</th>\n",
              "      <th>QWG</th>\n",
              "      <th>FDJ</th>\n",
              "      <th>PJF</th>\n",
              "      <th>HQE</th>\n",
              "      <th>NXJ</th>\n",
              "    </tr>\n",
              "  </thead>\n",
              "  <tbody>\n",
              "    <tr>\n",
              "      <th>290</th>\n",
              "      <td>-0.865812</td>\n",
              "      <td>-0.426085</td>\n",
              "      <td>-0.098704</td>\n",
              "      <td>-0.358143</td>\n",
              "      <td>-0.090834</td>\n",
              "      <td>-1.445613</td>\n",
              "      <td>0.943619</td>\n",
              "      <td>-0.711715</td>\n",
              "      <td>-1.416361</td>\n",
              "      <td>1.335201</td>\n",
              "    </tr>\n",
              "    <tr>\n",
              "      <th>167</th>\n",
              "      <td>-0.289633</td>\n",
              "      <td>0.427599</td>\n",
              "      <td>-0.324566</td>\n",
              "      <td>-0.291304</td>\n",
              "      <td>-1.047206</td>\n",
              "      <td>-0.847424</td>\n",
              "      <td>0.309935</td>\n",
              "      <td>-2.102427</td>\n",
              "      <td>-1.071680</td>\n",
              "      <td>0.809926</td>\n",
              "    </tr>\n",
              "    <tr>\n",
              "      <th>486</th>\n",
              "      <td>-1.628411</td>\n",
              "      <td>0.840546</td>\n",
              "      <td>1.164633</td>\n",
              "      <td>-0.985219</td>\n",
              "      <td>0.346949</td>\n",
              "      <td>-0.064661</td>\n",
              "      <td>1.008390</td>\n",
              "      <td>-0.184080</td>\n",
              "      <td>0.865138</td>\n",
              "      <td>-0.630975</td>\n",
              "    </tr>\n",
              "    <tr>\n",
              "      <th>683</th>\n",
              "      <td>-0.576123</td>\n",
              "      <td>-0.157888</td>\n",
              "      <td>0.102529</td>\n",
              "      <td>1.176857</td>\n",
              "      <td>-2.475351</td>\n",
              "      <td>-0.599677</td>\n",
              "      <td>-0.249565</td>\n",
              "      <td>0.262795</td>\n",
              "      <td>0.598726</td>\n",
              "      <td>1.376306</td>\n",
              "    </tr>\n",
              "    <tr>\n",
              "      <th>876</th>\n",
              "      <td>0.059207</td>\n",
              "      <td>1.006760</td>\n",
              "      <td>1.932615</td>\n",
              "      <td>2.225987</td>\n",
              "      <td>-0.570004</td>\n",
              "      <td>0.634646</td>\n",
              "      <td>2.427879</td>\n",
              "      <td>1.136821</td>\n",
              "      <td>0.104758</td>\n",
              "      <td>-0.175808</td>\n",
              "    </tr>\n",
              "  </tbody>\n",
              "</table>\n",
              "</div>"
            ],
            "text/plain": [
              "          WTT       PTI       EQW  ...       PJF       HQE       NXJ\n",
              "290 -0.865812 -0.426085 -0.098704  ... -0.711715 -1.416361  1.335201\n",
              "167 -0.289633  0.427599 -0.324566  ... -2.102427 -1.071680  0.809926\n",
              "486 -1.628411  0.840546  1.164633  ... -0.184080  0.865138 -0.630975\n",
              "683 -0.576123 -0.157888  0.102529  ...  0.262795  0.598726  1.376306\n",
              "876  0.059207  1.006760  1.932615  ...  1.136821  0.104758 -0.175808\n",
              "\n",
              "[5 rows x 10 columns]"
            ]
          },
          "metadata": {},
          "execution_count": 9
        }
      ]
    },
    {
      "cell_type": "code",
      "metadata": {
        "colab": {
          "base_uri": "https://localhost:8080/"
        },
        "id": "o76nFwoLQYKs",
        "outputId": "11c3a9d7-34e0-41f0-c031-be801c93e147"
      },
      "source": [
        "# Show some features X_test\n",
        "\n",
        "y_train.head(5)"
      ],
      "execution_count": 10,
      "outputs": [
        {
          "output_type": "execute_result",
          "data": {
            "text/plain": [
              "290    0\n",
              "167    1\n",
              "486    0\n",
              "683    1\n",
              "876    0\n",
              "Name: TARGET CLASS, dtype: int64"
            ]
          },
          "metadata": {},
          "execution_count": 10
        }
      ]
    },
    {
      "cell_type": "markdown",
      "metadata": {
        "id": "T1WWKmkwQvST"
      },
      "source": [
        "## KNN"
      ]
    },
    {
      "cell_type": "code",
      "metadata": {
        "id": "C9VxED46Q4IK"
      },
      "source": [
        "# Import\n",
        "\n",
        "from sklearn.neighbors import KNeighborsClassifier"
      ],
      "execution_count": 11,
      "outputs": []
    },
    {
      "cell_type": "code",
      "metadata": {
        "id": "Ga4gL1JnQ8fb"
      },
      "source": [
        "# Instance of KNN\n",
        "\n",
        "model = KNeighborsClassifier(n_neighbors = 1) # 1? # 2? 3?"
      ],
      "execution_count": 12,
      "outputs": []
    },
    {
      "cell_type": "code",
      "metadata": {
        "colab": {
          "base_uri": "https://localhost:8080/"
        },
        "id": "8EIS9c-hRw7r",
        "outputId": "58c1ff32-b962-4d23-fd7a-0028be7ea061"
      },
      "source": [
        "# Fit\n",
        "\n",
        "model.fit(X_train, y_train)"
      ],
      "execution_count": 13,
      "outputs": [
        {
          "output_type": "execute_result",
          "data": {
            "text/plain": [
              "KNeighborsClassifier(algorithm='auto', leaf_size=30, metric='minkowski',\n",
              "                     metric_params=None, n_jobs=None, n_neighbors=1, p=2,\n",
              "                     weights='uniform')"
            ]
          },
          "metadata": {},
          "execution_count": 13
        }
      ]
    },
    {
      "cell_type": "code",
      "metadata": {
        "colab": {
          "base_uri": "https://localhost:8080/"
        },
        "id": "yevN4IvcR07M",
        "outputId": "d31af8ca-fce3-4632-c409-de05f27c0465"
      },
      "source": [
        "# Predictions\n",
        "\n",
        "predictions = model.predict(X_test)\n",
        "predictions"
      ],
      "execution_count": 14,
      "outputs": [
        {
          "output_type": "execute_result",
          "data": {
            "text/plain": [
              "array([0, 0, 0, 0, 0, 0, 1, 1, 1, 0, 1, 0, 0, 1, 0, 1, 1, 1, 1, 0, 0, 1,\n",
              "       0, 1, 1, 0, 0, 0, 1, 0, 0, 1, 1, 0, 1, 0, 0, 0, 1, 0, 1, 1, 0, 1,\n",
              "       1, 0, 1, 1, 0, 1, 0, 1, 1, 1, 0, 0, 0, 0, 0, 0, 0, 1, 1, 1, 0, 1,\n",
              "       0, 0, 0, 0, 0, 0, 1, 0, 0, 0, 0, 0, 1, 0, 1, 0, 0, 0, 1, 0, 0, 0,\n",
              "       1, 0, 0, 1, 0, 1, 0, 0, 1, 1, 0, 0, 0, 1, 1, 1, 0, 0, 0, 1, 1, 0,\n",
              "       0, 0, 0, 0, 1, 0, 1, 1, 0, 1, 1, 1, 0, 1, 1, 1, 0, 1, 0, 0, 0, 1,\n",
              "       1, 0, 1, 0, 1, 1, 1, 0, 0, 1, 1, 0, 1, 0, 0, 0, 1, 1, 1, 0, 1, 0,\n",
              "       1, 0, 0, 1, 0, 0, 0, 1, 0, 0, 1, 0, 1, 0, 0, 0, 0, 1, 1, 1, 0, 0,\n",
              "       1, 1, 0, 0, 1, 0, 1, 0, 1, 0, 1, 1, 0, 1, 1, 1, 0, 1, 1, 1, 0, 1,\n",
              "       0, 1, 0, 0, 1, 1, 0, 1, 0, 0, 0, 0, 1, 1, 1, 1, 0, 0, 0, 1, 0, 0,\n",
              "       0, 1, 0, 0, 1, 1, 0, 1, 0, 0, 1, 1, 0, 1, 0, 1, 0, 0, 1, 0, 0, 1,\n",
              "       0, 0, 1, 0, 0, 0, 0, 1, 0, 0, 0, 0, 1, 1, 0, 1, 1, 0, 1, 0, 1, 1,\n",
              "       1, 0, 0, 1, 1, 0, 0, 0, 0, 0, 0, 0, 1, 0, 1, 1, 1, 0, 1, 0, 0, 0,\n",
              "       0, 1, 1, 0, 0, 0, 1, 1, 1, 0, 1, 1, 1, 0])"
            ]
          },
          "metadata": {},
          "execution_count": 14
        }
      ]
    },
    {
      "cell_type": "markdown",
      "metadata": {
        "id": "iqdVchAhR6xU"
      },
      "source": [
        "## Evaluation Metrics"
      ]
    },
    {
      "cell_type": "code",
      "metadata": {
        "id": "6ddkvr-VSBwT"
      },
      "source": [
        "# Import\n",
        "\n",
        "from sklearn.metrics import classification_report, confusion_matrix"
      ],
      "execution_count": 15,
      "outputs": []
    },
    {
      "cell_type": "code",
      "metadata": {
        "colab": {
          "base_uri": "https://localhost:8080/",
          "height": 284
        },
        "id": "5Kf3qNmsSIbF",
        "outputId": "80dffb83-2ec0-44f4-f1bd-1513f084d91e"
      },
      "source": [
        "# Confusion Matrix via Heat Map\n",
        "\n",
        "cm = confusion_matrix(y_test, predictions)\n",
        "sns.heatmap(cm, annot = True, fmt = 'g')"
      ],
      "execution_count": 16,
      "outputs": [
        {
          "output_type": "execute_result",
          "data": {
            "text/plain": [
              "<matplotlib.axes._subplots.AxesSubplot at 0x7f22f8eda850>"
            ]
          },
          "metadata": {},
          "execution_count": 16
        },
        {
          "output_type": "display_data",
          "data": {
            "image/png": "[encoded data removed]",
            "text/plain": [
              "<Figure size 432x288 with 2 Axes>"
            ]
          },
          "metadata": {
            "needs_background": "light"
          }
        }
      ]
    },
    {
      "cell_type": "code",
      "metadata": {
        "colab": {
          "base_uri": "https://localhost:8080/"
        },
        "id": "DdjMaEN-SQ6s",
        "outputId": "c3ccbed0-097a-45b6-f888-62b0ff5b0223"
      },
      "source": [
        "# Classification Report\n",
        "\n",
        "print(classification_report(y_test, predictions))"
      ],
      "execution_count": 17,
      "outputs": [
        {
          "output_type": "stream",
          "name": "stdout",
          "text": [
            "              precision    recall  f1-score   support\n",
            "\n",
            "           0       0.91      0.95      0.93       159\n",
            "           1       0.94      0.89      0.92       141\n",
            "\n",
            "    accuracy                           0.92       300\n",
            "   macro avg       0.92      0.92      0.92       300\n",
            "weighted avg       0.92      0.92      0.92       300\n",
            "\n"
          ]
        }
      ]
    },
    {
      "cell_type": "markdown",
      "metadata": {
        "id": "0ym2vIlHTKrM"
      },
      "source": [
        "## Elbow Method for Selecting Optimized K Values"
      ]
    },
    {
      "cell_type": "code",
      "metadata": {
        "id": "mtXrrnfXTP0E"
      },
      "source": [
        "# Iterate through error_rates\n",
        "\n",
        "error_rate = []\n",
        "\n",
        "for i in range(1, 40):\n",
        "\n",
        "  model = KNeighborsClassifier(n_neighbors  = i)\n",
        "\n",
        "  model.fit(X_train, y_train)\n",
        "  pred_i = model.predict(X_test)\n",
        "  \n",
        "  error_rate.append(np.mean(pred_i != y_test))"
      ],
      "execution_count": 18,
      "outputs": []
    },
    {
      "cell_type": "code",
      "metadata": {
        "colab": {
          "base_uri": "https://localhost:8080/",
          "height": 404
        },
        "id": "BdrRKUO-Tv7k",
        "outputId": "9ec677b2-f23c-4334-fbed-946bd0cca7c7"
      },
      "source": [
        "# Plot Graph\n",
        "\n",
        "plt.figure(figsize = (10,6))\n",
        "plt.plot(range(1,40), error_rate, color = 'b', linestyle = '-', marker = 'o', markerfacecolor = 'r', markersize = 10)\n",
        "plt.title('Error Rate vs K Value')\n",
        "plt.xlabel('K')\n",
        "plt.ylabel('Error Rate')\n",
        "plt.grid()"
      ],
      "execution_count": 19,
      "outputs": [
        {
          "output_type": "display_data",
          "data": {
            "image/png": "[encoded data removed]",
            "text/plain": [
              "<Figure size 720x432 with 1 Axes>"
            ]
          },
          "metadata": {
            "needs_background": "light"
          }
        }
      ]
    },
    {
      "cell_type": "markdown",
      "metadata": {
        "id": "8HvJzLwmT2Al"
      },
      "source": [
        "## Re-model with new values"
      ]
    },
    {
      "cell_type": "code",
      "metadata": {
        "colab": {
          "base_uri": "https://localhost:8080/"
        },
        "id": "3LMce1B3U3Pj",
        "outputId": "cdb72803-253c-497a-bb30-583f4926514b"
      },
      "source": [
        "# Re-Model\n",
        "\n",
        "new_model = KNeighborsClassifier(n_neighbors = 17)\n",
        "new_model.fit(X_train, y_train)\n",
        "predictions = new_model.predict(X_test)\n",
        "\n",
        "print(confusion_matrix(y_test, predictions))\n",
        "print('\\n')\n",
        "print(classification_report(y_test, predictions))"
      ],
      "execution_count": 20,
      "outputs": [
        {
          "output_type": "stream",
          "name": "stdout",
          "text": [
            "[[153   6]\n",
            " [  9 132]]\n",
            "\n",
            "\n",
            "              precision    recall  f1-score   support\n",
            "\n",
            "           0       0.94      0.96      0.95       159\n",
            "           1       0.96      0.94      0.95       141\n",
            "\n",
            "    accuracy                           0.95       300\n",
            "   macro avg       0.95      0.95      0.95       300\n",
            "weighted avg       0.95      0.95      0.95       300\n",
            "\n"
          ]
        }
      ]
    },
    {
      "cell_type": "markdown",
      "metadata": {
        "id": "ylIk-NXSVMkU"
      },
      "source": [
        "## Sample Decision Boundaries"
      ]
    },
    {
      "cell_type": "code",
      "metadata": {
        "id": "VGApnbTjly2K"
      },
      "source": [
        "from mlxtend.plotting import plot_decision_regions"
      ],
      "execution_count": 21,
      "outputs": []
    },
    {
      "cell_type": "code",
      "metadata": {
        "id": "ooqdyvWnmAtY"
      },
      "source": [
        "# Function\n",
        "\n",
        "def knn_plots(X, y):\n",
        "\n",
        "  features = X[['WTT','PTI']].values\n",
        "  target = y.values\n",
        "\n",
        "  new_model = KNeighborsClassifier(n_neighbors = 17)\n",
        "  new_model.fit(features, target)\n",
        "\n",
        "  plt.figure(figsize = (7,7))\n",
        "  plot_decision_regions(features, target, clf = new_model, legend = 2)\n",
        "\n",
        "  plt.xlabel('WTT')\n",
        "  plt.ylabel('PTI')\n",
        "  plt.show()"
      ],
      "execution_count": 91,
      "outputs": []
    },
    {
      "cell_type": "code",
      "metadata": {
        "colab": {
          "base_uri": "https://localhost:8080/",
          "height": 498
        },
        "id": "JhDtRqgNmvhK",
        "outputId": "71c88ddc-52a6-40f6-bd43-9c4ac2e66097"
      },
      "source": [
        "# Execute Function\n",
        "\n",
        "knn_plots(X_train, y_train)"
      ],
      "execution_count": 92,
      "outputs": [
        {
          "output_type": "stream",
          "name": "stderr",
          "text": [
            "/usr/local/lib/python3.7/dist-packages/mlxtend/plotting/decision_regions.py:244: MatplotlibDeprecationWarning: Passing unsupported keyword arguments to axis() will raise a TypeError in 3.3.\n",
            "  ax.axis(xmin=xx.min(), xmax=xx.max(), y_min=yy.min(), y_max=yy.max())\n"
          ]
        },
        {
          "output_type": "display_data",
          "data": {
            "image/png": "[encoded data removed]",
            "text/plain": [
              "<Figure size 504x504 with 1 Axes>"
            ]
          },
          "metadata": {
            "needs_background": "light"
          }
        }
      ]
    },
    {
      "cell_type": "code",
      "metadata": {
        "id": "g2Eeqyjon37S"
      },
      "source": [
        ""
      ],
      "execution_count": null,
      "outputs": []
    }
  ]
}