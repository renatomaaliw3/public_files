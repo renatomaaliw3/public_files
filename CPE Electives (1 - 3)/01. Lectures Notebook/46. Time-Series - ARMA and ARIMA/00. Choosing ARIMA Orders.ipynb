{
  "nbformat": 4,
  "nbformat_minor": 0,
  "metadata": {
    "kernelspec": {
      "display_name": "Python 3",
      "language": "python",
      "name": "python3"
    },
    "language_info": {
      "codemirror_mode": {
        "name": "ipython",
        "version": 3
      },
      "file_extension": ".py",
      "mimetype": "text/x-python",
      "name": "python",
      "nbconvert_exporter": "python",
      "pygments_lexer": "ipython3",
      "version": "3.7.2"
    },
    "colab": {
      "name": "04-Choosing-ARIMA-Orders.ipynb",
      "provenance": []
    }
  },
  "cells": [
    {
      "cell_type": "markdown",
      "metadata": {
        "id": "G2Kbce6w1_TF"
      },
      "source": [
        "# Choosing ARIMA Orders\n",
        "\n",
        "* Goals\n",
        "  * Understand PDQ terms for ARIMA (slides)\n",
        "  * Understand how to choose orders manually from ACF and PACF\n",
        "  * Understand how to use automatic order selection techniques using the functions below\n",
        "  \n",
        "Before we can apply an ARIMA forecasting model, we need to review the components of one.<br>\n",
        "ARIMA, or Autoregressive Independent Moving Average is actually a combination of 3 models:\n",
        "* <strong>AR(p)</strong> Autoregression - a regression model that utilizes the dependent relationship between a current observation and observations over a previous period.\n",
        "* <strong>I(d)</strong> Integration - uses differencing of observations (subtracting an observation from an observation at the previous time step) in order to make the time series stationary\n",
        "* <strong>MA(q)</strong> Moving Average - a model that uses the dependency between an observation and a residual error from a moving average model applied to lagged observations.\n",
        "\n",
        "<div class=\"alert alert-info\"><h3>Related Functions:</h3>\n",
        "<tt>\n",
        "<strong>\n",
        "<a href='https://www.alkaline-ml.com/pmdarima/user_guide.html#user-guide'>pmdarima.auto_arima</a></strong><font color=black>(y[,start_p,d,start_q, …])</font>&nbsp;&nbsp;&nbsp;Returns the optimal order for an ARIMA model<br>\n",
        "\n",
        "<h3>Optional Function (see note below):</h3>\n",
        "<strong>\n",
        "<a href='https://www.statsmodels.org/stable/generated/statsmodels.tsa.stattools.arma_order_select_ic.html'>stattools.arma_order_select_ic</a></strong><font color=black>(y[, max_ar, …])</font>&nbsp;&nbsp;Returns information criteria for many ARMA models<br><strong>\n",
        "<a href='https://www.statsmodels.org/stable/generated/statsmodels.tsa.x13.x13_arima_select_order.html'>x13.x13_arima_select_order</a></strong><font color=black>(endog[, …])</font>&nbsp;&nbsp;&nbsp;&nbsp;&nbsp;&nbsp;&nbsp;&nbsp;&nbsp;&nbsp;Perform automatic seasonal ARIMA order identification using x12/x13 ARIMA</tt></div>"
      ]
    },
    {
      "cell_type": "markdown",
      "metadata": {
        "id": "MW1qmFDw1_TH"
      },
      "source": [
        "## Perform standard imports and load datasets"
      ]
    },
    {
      "cell_type": "code",
      "metadata": {
        "id": "4-A3wQPu1_TH"
      },
      "source": [
        "import pandas as pd\n",
        "import numpy as np\n",
        "%matplotlib inline\n",
        "\n",
        "# Load a non-stationary dataset\n",
        "df1 = pd.read_csv('../Data/airline_passengers.csv',index_col='Month',parse_dates=True)\n",
        "df1.index.freq = 'MS'\n",
        "\n",
        "# Load a stationary dataset\n",
        "df2 = pd.read_csv('../Data/DailyTotalFemaleBirths.csv',index_col='Date',parse_dates=True)\n",
        "df2.index.freq = 'D'"
      ],
      "execution_count": null,
      "outputs": []
    },
    {
      "cell_type": "markdown",
      "metadata": {
        "id": "vy-33H0B1_TI"
      },
      "source": [
        "## pmdarima Auto-ARIMA\n",
        "This is a third-party tool separate from statsmodels. It should already be installed if you're using our virtual environment. If not, then at a terminal run:<br>\n",
        "&nbsp;&nbsp;&nbsp;&nbsp;<tt>pip install pmdarima</tt>"
      ]
    },
    {
      "cell_type": "code",
      "metadata": {
        "id": "zwb7xi0_1_TJ"
      },
      "source": [
        "from pmdarima import auto_arima\n",
        "\n",
        "# Ignore harmless warnings\n",
        "import warnings\n",
        "warnings.filterwarnings(\"ignore\")"
      ],
      "execution_count": null,
      "outputs": []
    },
    {
      "cell_type": "code",
      "metadata": {
        "id": "FZ26raaS1_TJ",
        "outputId": "6eeaf336-32cc-4adb-f7cd-1a370952c75f"
      },
      "source": [
        "help(auto_arima)"
      ],
      "execution_count": null,
      "outputs": [
        {
          "output_type": "stream",
          "text": [
            "Help on function auto_arima in module pmdarima.arima.auto:\n",
            "\n",
            "auto_arima(y, exogenous=None, start_p=2, d=None, start_q=2, max_p=5, max_d=2, max_q=5, start_P=1, D=None, start_Q=1, max_P=2, max_D=1, max_Q=2, max_order=10, m=1, seasonal=True, stationary=False, information_criterion='aic', alpha=0.05, test='kpss', seasonal_test='ch', stepwise=True, n_jobs=1, start_params=None, trend=None, method=None, transparams=True, solver='lbfgs', maxiter=50, disp=0, callback=None, offset_test_args=None, seasonal_test_args=None, suppress_warnings=False, error_action='warn', trace=False, random=False, random_state=None, n_fits=10, return_valid_fits=False, out_of_sample_size=0, scoring='mse', scoring_args=None, with_intercept=True, **fit_args)\n",
            "    Automatically discover the optimal order for an ARIMA model.\n",
            "    \n",
            "    The ``auto_arima`` function seeks to identify the most optimal\n",
            "    parameters for an ``ARIMA`` model, and returns a fitted ARIMA model. This\n",
            "    function is based on the commonly-used R function,\n",
            "    ``forecast::auto.arima`` [3].\n",
            "    \n",
            "    The ``auro_arima`` function works by conducting differencing tests (i.e.,\n",
            "    Kwiatkowski–Phillips–Schmidt–Shin, Augmented Dickey-Fuller or\n",
            "    Phillips–Perron) to determine the order of differencing, ``d``, and then\n",
            "    fitting models within ranges of defined ``start_p``, ``max_p``,\n",
            "    ``start_q``, ``max_q`` ranges. If the ``seasonal`` optional is enabled,\n",
            "    ``auto_arima`` also seeks to identify the optimal ``P`` and ``Q`` hyper-\n",
            "    parameters after conducting the Canova-Hansen to determine the optimal\n",
            "    order of seasonal differencing, ``D``.\n",
            "    \n",
            "    In order to find the best model, ``auto_arima`` optimizes for a given\n",
            "    ``information_criterion``, one of {'aic', 'aicc', 'bic', 'hqic', 'oob'}\n",
            "    (Akaike Information Criterion, Corrected Akaike Information Criterion,\n",
            "    Bayesian Information Criterion, Hannan-Quinn Information Criterion, or\n",
            "    \"out of bag\"--for validation scoring--respectively) and returns the ARIMA\n",
            "    which minimizes the value.\n",
            "    \n",
            "    Note that due to stationarity issues, ``auto_arima`` might not find a\n",
            "    suitable model that will converge. If this is the case, a ``ValueError``\n",
            "    will be thrown suggesting stationarity-inducing measures be taken prior\n",
            "    to re-fitting or that a new range of ``order`` values be selected. Non-\n",
            "    stepwise (i.e., essentially a grid search) selection can be slow,\n",
            "    especially for seasonal data. Stepwise algorithm is outlined in Hyndman and\n",
            "    Khandakar (2008).\n",
            "    \n",
            "    Parameters\n",
            "    ----------\n",
            "    y : array-like or iterable, shape=(n_samples,)\n",
            "        The time-series to which to fit the ``ARIMA`` estimator. This may\n",
            "        either be a Pandas ``Series`` object (statsmodels can internally\n",
            "        use the dates in the index), or a numpy array. This should be a\n",
            "        one-dimensional array of floats, and should not contain any\n",
            "        ``np.nan`` or ``np.inf`` values.\n",
            "    \n",
            "    exogenous : array-like, shape=[n_obs, n_vars], optional (default=None)\n",
            "        An optional 2-d array of exogenous variables. If provided, these\n",
            "        variables are used as additional features in the regression\n",
            "        operation. This should not include a constant or trend. Note that\n",
            "        if an ``ARIMA`` is fit on exogenous features, it must be provided\n",
            "        exogenous features for making predictions.\n",
            "    \n",
            "    start_p : int, optional (default=2)\n",
            "        The starting value of ``p``, the order (or number of time lags)\n",
            "        of the auto-regressive (\"AR\") model. Must be a positive integer.\n",
            "    \n",
            "    d : int, optional (default=None)\n",
            "        The order of first-differencing. If None (by default), the value\n",
            "        will automatically be selected based on the results of the ``test``\n",
            "        (i.e., either the Kwiatkowski–Phillips–Schmidt–Shin, Augmented\n",
            "        Dickey-Fuller or the Phillips–Perron test will be conducted to find\n",
            "        the most probable value). Must be a positive integer or None. Note\n",
            "        that if ``d`` is None, the runtime could be significantly longer.\n",
            "    \n",
            "    start_q : int, optional (default=2)\n",
            "        The starting value of ``q``, the order of the moving-average\n",
            "        (\"MA\") model. Must be a positive integer.\n",
            "    \n",
            "    max_p : int, optional (default=5)\n",
            "        The maximum value of ``p``, inclusive. Must be a positive integer\n",
            "        greater than or equal to ``start_p``.\n",
            "    \n",
            "    max_d : int, optional (default=2)\n",
            "        The maximum value of ``d``, or the maximum number of non-seasonal\n",
            "        differences. Must be a positive integer greater than or equal to ``d``.\n",
            "    \n",
            "    max_q : int, optional (default=5)\n",
            "        The maximum value of ``q``, inclusive. Must be a positive integer\n",
            "        greater than ``start_q``.\n",
            "    \n",
            "    start_P : int, optional (default=1)\n",
            "        The starting value of ``P``, the order of the auto-regressive portion\n",
            "        of the seasonal model.\n",
            "    \n",
            "    D : int, optional (default=None)\n",
            "        The order of the seasonal differencing. If None (by default, the value\n",
            "        will automatically be selected based on the results of the\n",
            "        ``seasonal_test``. Must be a positive integer or None.\n",
            "    \n",
            "    start_Q : int, optional (default=1)\n",
            "        The starting value of ``Q``, the order of the moving-average portion\n",
            "        of the seasonal model.\n",
            "    \n",
            "    max_P : int, optional (default=2)\n",
            "        The maximum value of ``P``, inclusive. Must be a positive integer\n",
            "        greater than ``start_P``.\n",
            "    \n",
            "    max_D : int, optional (default=1)\n",
            "        The maximum value of ``D``. Must be a positive integer greater\n",
            "        than ``D``.\n",
            "    \n",
            "    max_Q : int, optional (default=2)\n",
            "        The maximum value of ``Q``, inclusive. Must be a positive integer\n",
            "        greater than ``start_Q``.\n",
            "    \n",
            "    max_order : int, optional (default=10)\n",
            "        If the sum of ``p`` and ``q`` is >= ``max_order``, a model will\n",
            "        *not* be fit with those parameters, but will progress to the next\n",
            "        combination. Default is 5. If ``max_order`` is None, it means there\n",
            "        are no constraints on maximum order.\n",
            "    \n",
            "    m : int, optional (default=1)\n",
            "        The period for seasonal differencing, ``m`` refers to the number of\n",
            "        periods in each season. For example, ``m`` is 4 for quarterly data, 12\n",
            "        for monthly data, or 1 for annual (non-seasonal) data. Default is 1.\n",
            "        Note that if ``m`` == 1 (i.e., is non-seasonal), ``seasonal`` will be\n",
            "        set to False. For more information on setting this parameter, see\n",
            "        :ref:`period`.\n",
            "    \n",
            "    seasonal : bool, optional (default=True)\n",
            "        Whether to fit a seasonal ARIMA. Default is True. Note that if\n",
            "        ``seasonal`` is True and ``m`` == 1, ``seasonal`` will be set to False.\n",
            "    \n",
            "    stationary : bool, optional (default=False)\n",
            "        Whether the time-series is stationary and ``d`` should be set to zero.\n",
            "    \n",
            "    information_criterion : str, optional (default='aic')\n",
            "        The information criterion used to select the best ARIMA model. One of\n",
            "        ``pmdarima.arima.auto_arima.VALID_CRITERIA``, ('aic', 'bic', 'hqic',\n",
            "        'oob').\n",
            "    \n",
            "    alpha : float, optional (default=0.05)\n",
            "        Level of the test for testing significance.\n",
            "    \n",
            "    test : str, optional (default='kpss')\n",
            "        Type of unit root test to use in order to detect stationarity if\n",
            "        ``stationary`` is False and ``d`` is None. Default is 'kpss'\n",
            "        (Kwiatkowski–Phillips–Schmidt–Shin).\n",
            "    \n",
            "    seasonal_test : str, optional (default='ch')\n",
            "        This determines which seasonal unit root test is used if ``seasonal``\n",
            "        is True and ``D`` is None. Default is 'ch' (Canova-Hansen).\n",
            "    \n",
            "    stepwise : bool, optional (default=True)\n",
            "        Whether to use the stepwise algorithm outlined in Hyndman and Khandakar\n",
            "        (2008) to identify the optimal model parameters. The stepwise algorithm\n",
            "        can be significantly faster than fitting all (or a ``random`` subset\n",
            "        of) hyper-parameter combinations and is less likely to over-fit\n",
            "        the model.\n",
            "    \n",
            "    n_jobs : int, optional (default=1)\n",
            "        The number of models to fit in parallel in the case of a grid search\n",
            "        (``stepwise=False``). Default is 1, but -1 can be used to designate\n",
            "        \"as many as possible\".\n",
            "    \n",
            "    start_params : array-like, optional (default=None)\n",
            "        Starting parameters for ``ARMA(p,q)``.  If None, the default is given\n",
            "        by ``ARMA._fit_start_params``.\n",
            "    \n",
            "    transparams : bool, optional (default=True)\n",
            "        Whether or not to transform the parameters to ensure stationarity.\n",
            "        Uses the transformation suggested in Jones (1980).  If False,\n",
            "        no checking for stationarity or invertibility is done.\n",
            "    \n",
            "    method : str, one of {'css-mle','mle','css'}, optional (default=None)\n",
            "        This is the loglikelihood to maximize.  If \"css-mle\", the\n",
            "        conditional sum of squares likelihood is maximized and its values\n",
            "        are used as starting values for the computation of the exact\n",
            "        likelihood via the Kalman filter.  If \"mle\", the exact likelihood\n",
            "        is maximized via the Kalman Filter.  If \"css\" the conditional sum\n",
            "        of squares likelihood is maximized.  All three methods use\n",
            "        `start_params` as starting parameters.  See above for more\n",
            "        information. If fitting a seasonal ARIMA, the default is 'lbfgs'\n",
            "    \n",
            "    trend : str or None, optional (default=None)\n",
            "        The trend parameter. If ``with_intercept`` is True, ``trend`` will be\n",
            "        used. If ``with_intercept`` is False, the trend will be set to a no-\n",
            "        intercept value.\n",
            "    \n",
            "    solver : str or None, optional (default='lbfgs')\n",
            "        Solver to be used.  The default is 'lbfgs' (limited memory\n",
            "        Broyden-Fletcher-Goldfarb-Shanno).  Other choices are 'bfgs',\n",
            "        'newton' (Newton-Raphson), 'nm' (Nelder-Mead), 'cg' -\n",
            "        (conjugate gradient), 'ncg' (non-conjugate gradient), and\n",
            "        'powell'. By default, the limited memory BFGS uses m=12 to\n",
            "        approximate the Hessian, projected gradient tolerance of 1e-8 and\n",
            "        factr = 1e2. You can change these by using kwargs.\n",
            "    \n",
            "    maxiter : int, optional (default=50)\n",
            "        The maximum number of function evaluations. Default is 50.\n",
            "    \n",
            "    disp : int, optional (default=0)\n",
            "        If True, convergence information is printed.  For the default\n",
            "        'lbfgs' ``solver``, disp controls the frequency of the output during\n",
            "        the iterations. disp < 0 means no output in this case.\n",
            "    \n",
            "    callback : callable, optional (default=None)\n",
            "        Called after each iteration as callback(xk) where xk is the current\n",
            "        parameter vector. This is only used in non-seasonal ARIMA models.\n",
            "    \n",
            "    offset_test_args : dict, optional (default=None)\n",
            "        The args to pass to the constructor of the offset (``d``) test. See\n",
            "        ``pmdarima.arima.stationarity`` for more details.\n",
            "    \n",
            "    seasonal_test_args : dict, optional (default=None)\n",
            "        The args to pass to the constructor of the seasonal offset (``D``)\n",
            "        test. See ``pmdarima.arima.seasonality`` for more details.\n",
            "    \n",
            "    suppress_warnings : bool, optional (default=False)\n",
            "        Many warnings might be thrown inside of statsmodels. If\n",
            "        ``suppress_warnings`` is True, all of the warnings coming from\n",
            "        ``ARIMA`` will be squelched.\n",
            "    \n",
            "    error_action : str, optional (default='warn')\n",
            "        If unable to fit an ``ARIMA`` due to stationarity issues, whether to\n",
            "        warn ('warn'), raise the ``ValueError`` ('raise') or ignore ('ignore').\n",
            "        Note that the default behavior is to warn, and fits that fail will be\n",
            "        returned as None. This is the recommended behavior, as statsmodels\n",
            "        ARIMA and SARIMAX models hit bugs periodically that can cause\n",
            "        an otherwise healthy parameter combination to fail for reasons not\n",
            "        related to pmdarima.\n",
            "    \n",
            "    trace : bool, optional (default=False)\n",
            "        Whether to print status on the fits. Note that this can be\n",
            "        very verbose...\n",
            "    \n",
            "    random : bool, optional (default=False)\n",
            "        Similar to grid searches, ``auto_arima`` provides the capability to\n",
            "        perform a \"random search\" over a hyper-parameter space. If ``random``\n",
            "        is True, rather than perform an exhaustive search or ``stepwise``\n",
            "        search, only ``n_fits`` ARIMA models will be fit (``stepwise`` must be\n",
            "        False for this option to do anything).\n",
            "    \n",
            "    random_state : int, long or numpy ``RandomState``, optional (default=None)\n",
            "        The PRNG for when ``random=True``. Ensures replicable testing and\n",
            "        results.\n",
            "    \n",
            "    n_fits : int, optional (default=10)\n",
            "        If ``random`` is True and a \"random search\" is going to be performed,\n",
            "        ``n_iter`` is the number of ARIMA models to be fit.\n",
            "    \n",
            "    return_valid_fits : bool, optional (default=False)\n",
            "        If True, will return all valid ARIMA fits in a list. If False (by\n",
            "        default), will only return the best fit.\n",
            "    \n",
            "    out_of_sample_size : int, optional (default=0)\n",
            "        The ``ARIMA`` class can fit only a portion of the data if specified,\n",
            "        in order to retain an \"out of bag\" sample score. This is the\n",
            "        number of examples from the tail of the time series to hold out\n",
            "        and use as validation examples. The model will not be fit on these\n",
            "        samples, but the observations will be added into the model's ``endog``\n",
            "        and ``exog`` arrays so that future forecast values originate from the\n",
            "        end of the endogenous vector.\n",
            "    \n",
            "        For instance::\n",
            "    \n",
            "            y = [0, 1, 2, 3, 4, 5, 6]\n",
            "            out_of_sample_size = 2\n",
            "    \n",
            "            > Fit on: [0, 1, 2, 3, 4]\n",
            "            > Score on: [5, 6]\n",
            "            > Append [5, 6] to end of self.arima_res_.data.endog values\n",
            "    \n",
            "    scoring : str, optional (default='mse')\n",
            "        If performing validation (i.e., if ``out_of_sample_size`` > 0), the\n",
            "        metric to use for scoring the out-of-sample data. One of {'mse', 'mae'}\n",
            "    \n",
            "    scoring_args : dict, optional (default=None)\n",
            "        A dictionary of key-word arguments to be passed to the ``scoring``\n",
            "        metric.\n",
            "    \n",
            "    with_intercept : bool, optional (default=True)\n",
            "        Whether to include an intercept term. Default is True.\n",
            "    \n",
            "    **fit_args : dict, optional (default=None)\n",
            "        A dictionary of keyword arguments to pass to the :func:`ARIMA.fit`\n",
            "        method.\n",
            "    \n",
            "    See Also\n",
            "    --------\n",
            "    :func:`pmdarima.arima.ARIMA`\n",
            "    \n",
            "    Notes\n",
            "    -----\n",
            "    Fitting with `stepwise=False` can prove slower, especially when\n",
            "    `seasonal=True`.\n",
            "    \n",
            "    References\n",
            "    ----------\n",
            "    .. [1] https://wikipedia.org/wiki/Autoregressive_integrated_moving_average\n",
            "    .. [2] R's auto-arima source code: http://bit.ly/2gOh5z2\n",
            "    .. [3] R's auto-arima documentation: http://bit.ly/2wbBvUN\n",
            "\n"
          ],
          "name": "stdout"
        }
      ]
    },
    {
      "cell_type": "markdown",
      "metadata": {
        "id": "-pZ-iLSJ1_TK"
      },
      "source": [
        "Let's look first at the stationary, non-seasonal <strong>Daily Female Births</strong> dataset:"
      ]
    },
    {
      "cell_type": "code",
      "metadata": {
        "id": "_Mxjh-YI1_TK",
        "outputId": "d2d1a270-7ded-4f44-8d24-9a9c18582caa"
      },
      "source": [
        "auto_arima(df2['Births'])"
      ],
      "execution_count": null,
      "outputs": [
        {
          "output_type": "execute_result",
          "data": {
            "text/plain": [
              "ARIMA(callback=None, disp=0, maxiter=50, method=None, order=(1, 1, 1),\n",
              "   out_of_sample_size=0, scoring='mse', scoring_args={},\n",
              "   seasonal_order=(0, 0, 0, 1), solver='lbfgs', start_params=None,\n",
              "   suppress_warnings=False, transparams=True, trend=None,\n",
              "   with_intercept=True)"
            ]
          },
          "metadata": {
            "tags": []
          },
          "execution_count": 4
        }
      ]
    },
    {
      "cell_type": "markdown",
      "metadata": {
        "id": "bKIjsyyM1_TL"
      },
      "source": [
        "<div class=\"alert alert-info\"><strong>NOTE: </strong>Harmless warnings should have been suppressed, but if you see an error citing unusual behavior you can suppress this message by passing <font color=black><tt>error_action='ignore'</tt></font> into <tt>auto_arima()</tt>. Also, <font color=black><tt>auto_arima().summary()</tt></font> provides a nicely formatted summary table.</div>"
      ]
    },
    {
      "cell_type": "code",
      "metadata": {
        "id": "63DiVIWl1_TL",
        "outputId": "3b5c7577-ce77-4065-fb4b-5a223362c900"
      },
      "source": [
        "auto_arima(df2['Births'],error_action='ignore').summary()"
      ],
      "execution_count": null,
      "outputs": [
        {
          "output_type": "execute_result",
          "data": {
            "text/html": [
              "<table class=\"simpletable\">\n",
              "<caption>Statespace Model Results</caption>\n",
              "<tr>\n",
              "  <th>Dep. Variable:</th>           <td>y</td>        <th>  No. Observations:  </th>    <td>365</td>   \n",
              "</tr>\n",
              "<tr>\n",
              "  <th>Model:</th>           <td>SARIMAX(1, 1, 1)</td> <th>  Log Likelihood     </th> <td>-1226.077</td>\n",
              "</tr>\n",
              "<tr>\n",
              "  <th>Date:</th>            <td>Fri, 22 Mar 2019</td> <th>  AIC                </th> <td>2460.154</td> \n",
              "</tr>\n",
              "<tr>\n",
              "  <th>Time:</th>                <td>10:46:05</td>     <th>  BIC                </th> <td>2475.743</td> \n",
              "</tr>\n",
              "<tr>\n",
              "  <th>Sample:</th>                  <td>0</td>        <th>  HQIC               </th> <td>2466.350</td> \n",
              "</tr>\n",
              "<tr>\n",
              "  <th></th>                      <td> - 365</td>      <th>                     </th>     <td> </td>    \n",
              "</tr>\n",
              "<tr>\n",
              "  <th>Covariance Type:</th>        <td>opg</td>       <th>                     </th>     <td> </td>    \n",
              "</tr>\n",
              "</table>\n",
              "<table class=\"simpletable\">\n",
              "<tr>\n",
              "      <td></td>         <th>coef</th>     <th>std err</th>      <th>z</th>      <th>P>|z|</th>  <th>[0.025</th>    <th>0.975]</th>  \n",
              "</tr>\n",
              "<tr>\n",
              "  <th>intercept</th> <td>    0.0132</td> <td>    0.014</td> <td>    0.975</td> <td> 0.330</td> <td>   -0.013</td> <td>    0.040</td>\n",
              "</tr>\n",
              "<tr>\n",
              "  <th>ar.L1</th>     <td>    0.1299</td> <td>    0.059</td> <td>    2.217</td> <td> 0.027</td> <td>    0.015</td> <td>    0.245</td>\n",
              "</tr>\n",
              "<tr>\n",
              "  <th>ma.L1</th>     <td>   -0.9694</td> <td>    0.016</td> <td>  -62.235</td> <td> 0.000</td> <td>   -1.000</td> <td>   -0.939</td>\n",
              "</tr>\n",
              "<tr>\n",
              "  <th>sigma2</th>    <td>   48.9989</td> <td>    3.432</td> <td>   14.279</td> <td> 0.000</td> <td>   42.273</td> <td>   55.725</td>\n",
              "</tr>\n",
              "</table>\n",
              "<table class=\"simpletable\">\n",
              "<tr>\n",
              "  <th>Ljung-Box (Q):</th>          <td>36.69</td> <th>  Jarque-Bera (JB):  </th> <td>26.17</td>\n",
              "</tr>\n",
              "<tr>\n",
              "  <th>Prob(Q):</th>                <td>0.62</td>  <th>  Prob(JB):          </th> <td>0.00</td> \n",
              "</tr>\n",
              "<tr>\n",
              "  <th>Heteroskedasticity (H):</th> <td>0.97</td>  <th>  Skew:              </th> <td>0.58</td> \n",
              "</tr>\n",
              "<tr>\n",
              "  <th>Prob(H) (two-sided):</th>    <td>0.85</td>  <th>  Kurtosis:          </th> <td>3.62</td> \n",
              "</tr>\n",
              "</table><br/><br/>Warnings:<br/>[1] Covariance matrix calculated using the outer product of gradients (complex-step)."
            ],
            "text/plain": [
              "<class 'statsmodels.iolib.summary.Summary'>\n",
              "\"\"\"\n",
              "                           Statespace Model Results                           \n",
              "==============================================================================\n",
              "Dep. Variable:                      y   No. Observations:                  365\n",
              "Model:               SARIMAX(1, 1, 1)   Log Likelihood               -1226.077\n",
              "Date:                Fri, 22 Mar 2019   AIC                           2460.154\n",
              "Time:                        10:46:05   BIC                           2475.743\n",
              "Sample:                             0   HQIC                          2466.350\n",
              "                                - 365                                         \n",
              "Covariance Type:                  opg                                         \n",
              "==============================================================================\n",
              "                 coef    std err          z      P>|z|      [0.025      0.975]\n",
              "------------------------------------------------------------------------------\n",
              "intercept      0.0132      0.014      0.975      0.330      -0.013       0.040\n",
              "ar.L1          0.1299      0.059      2.217      0.027       0.015       0.245\n",
              "ma.L1         -0.9694      0.016    -62.235      0.000      -1.000      -0.939\n",
              "sigma2        48.9989      3.432     14.279      0.000      42.273      55.725\n",
              "===================================================================================\n",
              "Ljung-Box (Q):                       36.69   Jarque-Bera (JB):                26.17\n",
              "Prob(Q):                              0.62   Prob(JB):                         0.00\n",
              "Heteroskedasticity (H):               0.97   Skew:                             0.58\n",
              "Prob(H) (two-sided):                  0.85   Kurtosis:                         3.62\n",
              "===================================================================================\n",
              "\n",
              "Warnings:\n",
              "[1] Covariance matrix calculated using the outer product of gradients (complex-step).\n",
              "\"\"\""
            ]
          },
          "metadata": {
            "tags": []
          },
          "execution_count": 5
        }
      ]
    },
    {
      "cell_type": "markdown",
      "metadata": {
        "id": "c6x3ulzF1_TM"
      },
      "source": [
        "This shows a recommended (p,d,q) ARIMA Order of (1,1,1), with no seasonal_order component.\n",
        "\n",
        "We can see how this was determined by looking at the stepwise results. The recommended order is the one with the lowest <a href='https://en.wikipedia.org/wiki/Akaike_information_criterion'>Akaike information criterion</a> or AIC score. Note that the recommended model may <em>not</em> be the one with the closest fit. The AIC score takes complexity into account, and tries to identify the best <em>forecasting</em> model."
      ]
    },
    {
      "cell_type": "code",
      "metadata": {
        "id": "eJv0uSig1_TM",
        "outputId": "07a83d15-b435-412d-d74a-6704da1d7c2c"
      },
      "source": [
        "stepwise_fit = auto_arima(df2['Births'], start_p=0, start_q=0,\n",
        "                          max_p=6, max_q=3, m=12,\n",
        "                          seasonal=False,\n",
        "                          d=None, trace=True,\n",
        "                          error_action='ignore',   # we don't want to know if an order does not work\n",
        "                          suppress_warnings=True,  # we don't want convergence warnings\n",
        "                          stepwise=True)           # set to stepwise\n",
        "\n",
        "stepwise_fit.summary()"
      ],
      "execution_count": null,
      "outputs": [
        {
          "output_type": "stream",
          "text": [
            "Fit ARIMA: order=(0, 1, 0); AIC=2650.760, BIC=2658.555, Fit time=0.018 seconds\n",
            "Fit ARIMA: order=(1, 1, 0); AIC=2565.234, BIC=2576.925, Fit time=0.139 seconds\n",
            "Fit ARIMA: order=(0, 1, 1); AIC=2463.584, BIC=2475.275, Fit time=0.047 seconds\n",
            "Fit ARIMA: order=(1, 1, 1); AIC=2460.154, BIC=2475.742, Fit time=0.105 seconds\n",
            "Fit ARIMA: order=(1, 1, 2); AIC=2460.515, BIC=2480.000, Fit time=0.320 seconds\n",
            "Fit ARIMA: order=(2, 1, 2); AIC=2462.045, BIC=2485.428, Fit time=0.373 seconds\n",
            "Fit ARIMA: order=(2, 1, 1); AIC=2461.271, BIC=2480.757, Fit time=0.169 seconds\n",
            "Total fit time: 1.175 seconds\n"
          ],
          "name": "stdout"
        },
        {
          "output_type": "execute_result",
          "data": {
            "text/html": [
              "<table class=\"simpletable\">\n",
              "<caption>ARIMA Model Results</caption>\n",
              "<tr>\n",
              "  <th>Dep. Variable:</th>        <td>D.y</td>       <th>  No. Observations:  </th>    <td>364</td>   \n",
              "</tr>\n",
              "<tr>\n",
              "  <th>Model:</th>          <td>ARIMA(1, 1, 1)</td>  <th>  Log Likelihood     </th> <td>-1226.077</td>\n",
              "</tr>\n",
              "<tr>\n",
              "  <th>Method:</th>             <td>css-mle</td>     <th>  S.D. of innovations</th>   <td>7.000</td>  \n",
              "</tr>\n",
              "<tr>\n",
              "  <th>Date:</th>          <td>Fri, 22 Mar 2019</td> <th>  AIC                </th> <td>2460.154</td> \n",
              "</tr>\n",
              "<tr>\n",
              "  <th>Time:</th>              <td>10:46:20</td>     <th>  BIC                </th> <td>2475.742</td> \n",
              "</tr>\n",
              "<tr>\n",
              "  <th>Sample:</th>                <td>1</td>        <th>  HQIC               </th> <td>2466.350</td> \n",
              "</tr>\n",
              "<tr>\n",
              "  <th></th>                       <td> </td>        <th>                     </th>     <td> </td>    \n",
              "</tr>\n",
              "</table>\n",
              "<table class=\"simpletable\">\n",
              "<tr>\n",
              "      <td></td>         <th>coef</th>     <th>std err</th>      <th>z</th>      <th>P>|z|</th>  <th>[0.025</th>    <th>0.975]</th>  \n",
              "</tr>\n",
              "<tr>\n",
              "  <th>const</th>     <td>    0.0152</td> <td>    0.014</td> <td>    1.068</td> <td> 0.286</td> <td>   -0.013</td> <td>    0.043</td>\n",
              "</tr>\n",
              "<tr>\n",
              "  <th>ar.L1.D.y</th> <td>    0.1299</td> <td>    0.056</td> <td>    2.334</td> <td> 0.020</td> <td>    0.021</td> <td>    0.239</td>\n",
              "</tr>\n",
              "<tr>\n",
              "  <th>ma.L1.D.y</th> <td>   -0.9694</td> <td>    0.019</td> <td>  -51.415</td> <td> 0.000</td> <td>   -1.006</td> <td>   -0.932</td>\n",
              "</tr>\n",
              "</table>\n",
              "<table class=\"simpletable\">\n",
              "<caption>Roots</caption>\n",
              "<tr>\n",
              "    <td></td>   <th>            Real</th>  <th>         Imaginary</th> <th>         Modulus</th>  <th>        Frequency</th>\n",
              "</tr>\n",
              "<tr>\n",
              "  <th>AR.1</th> <td>           7.6996</td> <td>          +0.0000j</td> <td>           7.6996</td> <td>           0.0000</td>\n",
              "</tr>\n",
              "<tr>\n",
              "  <th>MA.1</th> <td>           1.0316</td> <td>          +0.0000j</td> <td>           1.0316</td> <td>           0.0000</td>\n",
              "</tr>\n",
              "</table>"
            ],
            "text/plain": [
              "<class 'statsmodels.iolib.summary.Summary'>\n",
              "\"\"\"\n",
              "                             ARIMA Model Results                              \n",
              "==============================================================================\n",
              "Dep. Variable:                    D.y   No. Observations:                  364\n",
              "Model:                 ARIMA(1, 1, 1)   Log Likelihood               -1226.077\n",
              "Method:                       css-mle   S.D. of innovations              7.000\n",
              "Date:                Fri, 22 Mar 2019   AIC                           2460.154\n",
              "Time:                        10:46:20   BIC                           2475.742\n",
              "Sample:                             1   HQIC                          2466.350\n",
              "                                                                              \n",
              "==============================================================================\n",
              "                 coef    std err          z      P>|z|      [0.025      0.975]\n",
              "------------------------------------------------------------------------------\n",
              "const          0.0152      0.014      1.068      0.286      -0.013       0.043\n",
              "ar.L1.D.y      0.1299      0.056      2.334      0.020       0.021       0.239\n",
              "ma.L1.D.y     -0.9694      0.019    -51.415      0.000      -1.006      -0.932\n",
              "                                    Roots                                    \n",
              "=============================================================================\n",
              "                  Real          Imaginary           Modulus         Frequency\n",
              "-----------------------------------------------------------------------------\n",
              "AR.1            7.6996           +0.0000j            7.6996            0.0000\n",
              "MA.1            1.0316           +0.0000j            1.0316            0.0000\n",
              "-----------------------------------------------------------------------------\n",
              "\"\"\""
            ]
          },
          "metadata": {
            "tags": []
          },
          "execution_count": 6
        }
      ]
    },
    {
      "cell_type": "markdown",
      "metadata": {
        "id": "qPNOr16G1_TN"
      },
      "source": [
        "___\n",
        "Now let's look at the non-stationary, seasonal <strong>Airline Passengers</strong> dataset:"
      ]
    },
    {
      "cell_type": "code",
      "metadata": {
        "id": "DY1msjLt1_TO",
        "outputId": "ca15a7d9-6d54-45c9-80fa-d69d023cb599"
      },
      "source": [
        "stepwise_fit = auto_arima(df1['Thousands of Passengers'], start_p=1, start_q=1,\n",
        "                          max_p=3, max_q=3, m=12,\n",
        "                          start_P=0, seasonal=True,\n",
        "                          d=None, D=1, trace=True,\n",
        "                          error_action='ignore',   # we don't want to know if an order does not work\n",
        "                          suppress_warnings=True,  # we don't want convergence warnings\n",
        "                          stepwise=True)           # set to stepwise\n",
        "\n",
        "stepwise_fit.summary()"
      ],
      "execution_count": null,
      "outputs": [
        {
          "output_type": "stream",
          "text": [
            "Fit ARIMA: order=(1, 1, 1) seasonal_order=(0, 1, 1, 12); AIC=1024.824, BIC=1039.200, Fit time=0.574 seconds\n",
            "Fit ARIMA: order=(0, 1, 0) seasonal_order=(0, 1, 0, 12); AIC=1033.479, BIC=1039.229, Fit time=0.000 seconds\n",
            "Fit ARIMA: order=(1, 1, 0) seasonal_order=(1, 1, 0, 12); AIC=1022.316, BIC=1033.817, Fit time=0.294 seconds\n",
            "Fit ARIMA: order=(0, 1, 1) seasonal_order=(0, 1, 1, 12); AIC=1022.904, BIC=1034.405, Fit time=0.251 seconds\n",
            "Fit ARIMA: order=(1, 1, 0) seasonal_order=(0, 1, 0, 12); AIC=1022.343, BIC=1030.968, Fit time=0.094 seconds\n",
            "Fit ARIMA: order=(1, 1, 0) seasonal_order=(2, 1, 0, 12); AIC=1021.142, BIC=1035.518, Fit time=0.748 seconds\n",
            "Fit ARIMA: order=(1, 1, 0) seasonal_order=(2, 1, 1, 12); AIC=1016.960, BIC=1034.211, Fit time=2.258 seconds\n",
            "Fit ARIMA: order=(0, 1, 0) seasonal_order=(2, 1, 1, 12); AIC=1033.371, BIC=1047.747, Fit time=1.931 seconds\n",
            "Fit ARIMA: order=(2, 1, 0) seasonal_order=(2, 1, 1, 12); AIC=1018.094, BIC=1038.221, Fit time=2.492 seconds\n",
            "Fit ARIMA: order=(1, 1, 1) seasonal_order=(2, 1, 1, 12); AIC=1017.829, BIC=1037.955, Fit time=2.464 seconds\n",
            "Fit ARIMA: order=(2, 1, 1) seasonal_order=(2, 1, 1, 12); AIC=nan, BIC=nan, Fit time=nan seconds\n",
            "Fit ARIMA: order=(1, 1, 0) seasonal_order=(1, 1, 1, 12); AIC=1022.425, BIC=1036.801, Fit time=0.432 seconds\n",
            "Fit ARIMA: order=(1, 1, 0) seasonal_order=(2, 1, 2, 12); AIC=1017.410, BIC=1037.536, Fit time=2.546 seconds\n",
            "Total fit time: 14.093 seconds\n"
          ],
          "name": "stdout"
        },
        {
          "output_type": "execute_result",
          "data": {
            "text/html": [
              "<table class=\"simpletable\">\n",
              "<caption>Statespace Model Results</caption>\n",
              "<tr>\n",
              "  <th>Dep. Variable:</th>                  <td>y</td>               <th>  No. Observations:  </th>    <td>144</td>  \n",
              "</tr>\n",
              "<tr>\n",
              "  <th>Model:</th>           <td>SARIMAX(1, 1, 0)x(2, 1, 1, 12)</td> <th>  Log Likelihood     </th> <td>-502.480</td>\n",
              "</tr>\n",
              "<tr>\n",
              "  <th>Date:</th>                   <td>Fri, 22 Mar 2019</td>        <th>  AIC                </th> <td>1016.960</td>\n",
              "</tr>\n",
              "<tr>\n",
              "  <th>Time:</th>                       <td>10:46:39</td>            <th>  BIC                </th> <td>1034.211</td>\n",
              "</tr>\n",
              "<tr>\n",
              "  <th>Sample:</th>                         <td>0</td>               <th>  HQIC               </th> <td>1023.970</td>\n",
              "</tr>\n",
              "<tr>\n",
              "  <th></th>                             <td> - 144</td>             <th>                     </th>     <td> </td>   \n",
              "</tr>\n",
              "<tr>\n",
              "  <th>Covariance Type:</th>               <td>opg</td>              <th>                     </th>     <td> </td>   \n",
              "</tr>\n",
              "</table>\n",
              "<table class=\"simpletable\">\n",
              "<tr>\n",
              "      <td></td>         <th>coef</th>     <th>std err</th>      <th>z</th>      <th>P>|z|</th>  <th>[0.025</th>    <th>0.975]</th>  \n",
              "</tr>\n",
              "<tr>\n",
              "  <th>intercept</th> <td>    0.0045</td> <td>    0.178</td> <td>    0.025</td> <td> 0.980</td> <td>   -0.345</td> <td>    0.354</td>\n",
              "</tr>\n",
              "<tr>\n",
              "  <th>ar.L1</th>     <td>   -0.3766</td> <td>    0.077</td> <td>   -4.890</td> <td> 0.000</td> <td>   -0.527</td> <td>   -0.226</td>\n",
              "</tr>\n",
              "<tr>\n",
              "  <th>ar.S.L12</th>  <td>    0.6891</td> <td>    0.140</td> <td>    4.918</td> <td> 0.000</td> <td>    0.414</td> <td>    0.964</td>\n",
              "</tr>\n",
              "<tr>\n",
              "  <th>ar.S.L24</th>  <td>    0.3091</td> <td>    0.107</td> <td>    2.883</td> <td> 0.004</td> <td>    0.099</td> <td>    0.519</td>\n",
              "</tr>\n",
              "<tr>\n",
              "  <th>ma.S.L12</th>  <td>   -0.9742</td> <td>    0.511</td> <td>   -1.906</td> <td> 0.057</td> <td>   -1.976</td> <td>    0.028</td>\n",
              "</tr>\n",
              "<tr>\n",
              "  <th>sigma2</th>    <td>  113.2075</td> <td>   48.855</td> <td>    2.317</td> <td> 0.020</td> <td>   17.453</td> <td>  208.961</td>\n",
              "</tr>\n",
              "</table>\n",
              "<table class=\"simpletable\">\n",
              "<tr>\n",
              "  <th>Ljung-Box (Q):</th>          <td>58.67</td> <th>  Jarque-Bera (JB):  </th> <td>12.12</td>\n",
              "</tr>\n",
              "<tr>\n",
              "  <th>Prob(Q):</th>                <td>0.03</td>  <th>  Prob(JB):          </th> <td>0.00</td> \n",
              "</tr>\n",
              "<tr>\n",
              "  <th>Heteroskedasticity (H):</th> <td>2.70</td>  <th>  Skew:              </th> <td>0.10</td> \n",
              "</tr>\n",
              "<tr>\n",
              "  <th>Prob(H) (two-sided):</th>    <td>0.00</td>  <th>  Kurtosis:          </th> <td>4.48</td> \n",
              "</tr>\n",
              "</table><br/><br/>Warnings:<br/>[1] Covariance matrix calculated using the outer product of gradients (complex-step)."
            ],
            "text/plain": [
              "<class 'statsmodels.iolib.summary.Summary'>\n",
              "\"\"\"\n",
              "                                 Statespace Model Results                                 \n",
              "==========================================================================================\n",
              "Dep. Variable:                                  y   No. Observations:                  144\n",
              "Model:             SARIMAX(1, 1, 0)x(2, 1, 1, 12)   Log Likelihood                -502.480\n",
              "Date:                            Fri, 22 Mar 2019   AIC                           1016.960\n",
              "Time:                                    10:46:39   BIC                           1034.211\n",
              "Sample:                                         0   HQIC                          1023.970\n",
              "                                            - 144                                         \n",
              "Covariance Type:                              opg                                         \n",
              "==============================================================================\n",
              "                 coef    std err          z      P>|z|      [0.025      0.975]\n",
              "------------------------------------------------------------------------------\n",
              "intercept      0.0045      0.178      0.025      0.980      -0.345       0.354\n",
              "ar.L1         -0.3766      0.077     -4.890      0.000      -0.527      -0.226\n",
              "ar.S.L12       0.6891      0.140      4.918      0.000       0.414       0.964\n",
              "ar.S.L24       0.3091      0.107      2.883      0.004       0.099       0.519\n",
              "ma.S.L12      -0.9742      0.511     -1.906      0.057      -1.976       0.028\n",
              "sigma2       113.2075     48.855      2.317      0.020      17.453     208.961\n",
              "===================================================================================\n",
              "Ljung-Box (Q):                       58.67   Jarque-Bera (JB):                12.12\n",
              "Prob(Q):                              0.03   Prob(JB):                         0.00\n",
              "Heteroskedasticity (H):               2.70   Skew:                             0.10\n",
              "Prob(H) (two-sided):                  0.00   Kurtosis:                         4.48\n",
              "===================================================================================\n",
              "\n",
              "Warnings:\n",
              "[1] Covariance matrix calculated using the outer product of gradients (complex-step).\n",
              "\"\"\""
            ]
          },
          "metadata": {
            "tags": []
          },
          "execution_count": 7
        }
      ]
    },
    {
      "cell_type": "markdown",
      "metadata": {
        "id": "pZ2xuK6y1_TP"
      },
      "source": [
        "## OPTIONAL: statsmodels ARMA_Order_Select_IC\n",
        "Statsmodels has a selection tool to find orders for ARMA models on stationary data."
      ]
    },
    {
      "cell_type": "code",
      "metadata": {
        "id": "l1bZ1jyt1_TP"
      },
      "source": [
        "from statsmodels.tsa.stattools import arma_order_select_ic"
      ],
      "execution_count": null,
      "outputs": []
    },
    {
      "cell_type": "code",
      "metadata": {
        "scrolled": true,
        "id": "1AGnU7mH1_TP",
        "outputId": "c5ba2105-8d60-4709-9cf9-2f80e4140dee"
      },
      "source": [
        "help(arma_order_select_ic)"
      ],
      "execution_count": null,
      "outputs": [
        {
          "output_type": "stream",
          "text": [
            "Help on function arma_order_select_ic in module statsmodels.tsa.stattools:\n",
            "\n",
            "arma_order_select_ic(y, max_ar=4, max_ma=2, ic='bic', trend='c', model_kw={}, fit_kw={})\n",
            "    Returns information criteria for many ARMA models\n",
            "    \n",
            "    Parameters\n",
            "    ----------\n",
            "    y : array-like\n",
            "        Time-series data\n",
            "    max_ar : int\n",
            "        Maximum number of AR lags to use. Default 4.\n",
            "    max_ma : int\n",
            "        Maximum number of MA lags to use. Default 2.\n",
            "    ic : str, list\n",
            "        Information criteria to report. Either a single string or a list\n",
            "        of different criteria is possible.\n",
            "    trend : str\n",
            "        The trend to use when fitting the ARMA models.\n",
            "    model_kw : dict\n",
            "        Keyword arguments to be passed to the ``ARMA`` model\n",
            "    fit_kw : dict\n",
            "        Keyword arguments to be passed to ``ARMA.fit``.\n",
            "    \n",
            "    Returns\n",
            "    -------\n",
            "    obj : Results object\n",
            "        Each ic is an attribute with a DataFrame for the results. The AR order\n",
            "        used is the row index. The ma order used is the column index. The\n",
            "        minimum orders are available as ``ic_min_order``.\n",
            "    \n",
            "    Examples\n",
            "    --------\n",
            "    \n",
            "    >>> from statsmodels.tsa.arima_process import arma_generate_sample\n",
            "    >>> import statsmodels.api as sm\n",
            "    >>> import numpy as np\n",
            "    \n",
            "    >>> arparams = np.array([.75, -.25])\n",
            "    >>> maparams = np.array([.65, .35])\n",
            "    >>> arparams = np.r_[1, -arparams]\n",
            "    >>> maparam = np.r_[1, maparams]\n",
            "    >>> nobs = 250\n",
            "    >>> np.random.seed(2014)\n",
            "    >>> y = arma_generate_sample(arparams, maparams, nobs)\n",
            "    >>> res = sm.tsa.arma_order_select_ic(y, ic=['aic', 'bic'], trend='nc')\n",
            "    >>> res.aic_min_order\n",
            "    >>> res.bic_min_order\n",
            "    \n",
            "    Notes\n",
            "    -----\n",
            "    This method can be used to tentatively identify the order of an ARMA\n",
            "    process, provided that the time series is stationary and invertible. This\n",
            "    function computes the full exact MLE estimate of each model and can be,\n",
            "    therefore a little slow. An implementation using approximate estimates\n",
            "    will be provided in the future. In the meantime, consider passing\n",
            "    {method : 'css'} to fit_kw.\n",
            "\n"
          ],
          "name": "stdout"
        }
      ]
    },
    {
      "cell_type": "code",
      "metadata": {
        "id": "Wk1Vb0Lv1_TQ",
        "outputId": "e57cd86b-1ae2-4aeb-a35a-310d1e8cb73e"
      },
      "source": [
        "arma_order_select_ic(df2['Births'])"
      ],
      "execution_count": null,
      "outputs": [
        {
          "output_type": "execute_result",
          "data": {
            "text/plain": [
              "{'bic':              0            1            2\n",
              " 0  2502.581666  2494.238827  2494.731525\n",
              " 1  2490.780306  2484.505386          NaN\n",
              " 2  2491.963234  2485.782753  2491.097206\n",
              " 3  2496.498618  2491.061564  2496.961178\n",
              " 4  2501.491891  2504.012579  2498.329743, 'bic_min_order': (1, 1)}"
            ]
          },
          "metadata": {
            "tags": []
          },
          "execution_count": 10
        }
      ]
    },
    {
      "cell_type": "code",
      "metadata": {
        "id": "p6a5F-dz1_TR",
        "outputId": "b66d1bc7-9ed2-48e5-f9c6-2c02a38bbae1"
      },
      "source": [
        "arma_order_select_ic(df1['Thousands of Passengers'])"
      ],
      "execution_count": null,
      "outputs": [
        {
          "output_type": "execute_result",
          "data": {
            "text/plain": [
              "{'bic':              0            1            2\n",
              " 0  1796.307207  1627.771967  1534.002384\n",
              " 1  1437.088819  1421.627524  1425.899321\n",
              " 2  1425.518037  1423.098290          NaN\n",
              " 3  1425.191373          NaN  1400.744437\n",
              " 4  1427.576572          NaN  1414.310652, 'bic_min_order': (3, 2)}"
            ]
          },
          "metadata": {
            "tags": []
          },
          "execution_count": 11
        }
      ]
    },
    {
      "cell_type": "markdown",
      "metadata": {
        "id": "ocuDH0PN1_TR"
      },
      "source": [
        "<div class=\"alert alert-success\"><strong>A note about <tt>statsmodels.tsa.x13.x13_arima_select_order</tt></strong><br><br>\n",
        "This utility requires installation of <strong>X-13ARIMA-SEATS</strong>, a seasonal adjustment tool developed by the U.S. Census Bureau.<br>\n",
        "See <a href='https://www.census.gov/srd/www/x13as/'>https://www.census.gov/srd/www/x13as/</a> for details. Since the installation requires adding x13as to your PATH settings we've deemed it beyond the scope of this course."
      ]
    }
  ]
}