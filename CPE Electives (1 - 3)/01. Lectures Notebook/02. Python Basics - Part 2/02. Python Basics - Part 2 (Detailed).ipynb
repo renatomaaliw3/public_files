{
  "nbformat": 4,
  "nbformat_minor": 0,
  "metadata": {
    "colab": {
      "provenance": []
    },
    "kernelspec": {
      "name": "python3",
      "display_name": "Python 3"
    },
    "language_info": {
      "name": "python"
    }
  },
  "cells": [
    {
      "cell_type": "markdown",
      "source": [
        "# Functions\n",
        "\n",
        "    -- a block of code designed to performed a specific task\n",
        "    -- function help in organizing code making it more modular, reusable, and easier to maintain"
      ],
      "metadata": {
        "id": "Md0y1Cl-hIXq"
      }
    },
    {
      "cell_type": "markdown",
      "source": [
        "## Simple Function Without Arguments"
      ],
      "metadata": {
        "id": "FGW96BLyhQGs"
      }
    },
    {
      "cell_type": "code",
      "source": [
        "def greet():\n",
        "\n",
        "  print(\"Hello World!\")"
      ],
      "metadata": {
        "id": "fCCrYJbah5De"
      },
      "execution_count": 67,
      "outputs": []
    },
    {
      "cell_type": "code",
      "source": [
        "greet()"
      ],
      "metadata": {
        "colab": {
          "base_uri": "https://localhost:8080/"
        },
        "id": "1CHJwx-Ph8cn",
        "outputId": "ec65a793-dce8-4712-ca61-269583621359"
      },
      "execution_count": 68,
      "outputs": [
        {
          "output_type": "stream",
          "name": "stdout",
          "text": [
            "Hello World!\n"
          ]
        }
      ]
    },
    {
      "cell_type": "markdown",
      "source": [
        "## Function with Multiple Arguments"
      ],
      "metadata": {
        "id": "daP39-Dvh-3a"
      }
    },
    {
      "cell_type": "code",
      "source": [
        "def add_numbers(a, b):\n",
        "\n",
        "  print(f\"The sum of {a} and {b} is {a + b}\")"
      ],
      "metadata": {
        "id": "xZ_5NcuHiJld"
      },
      "execution_count": 76,
      "outputs": []
    },
    {
      "cell_type": "code",
      "source": [
        "add_numbers(2, 3)"
      ],
      "metadata": {
        "colab": {
          "base_uri": "https://localhost:8080/"
        },
        "id": "ryXmVA6Iiecc",
        "outputId": "52d20e70-c991-4cff-8b53-3c8f7752500b"
      },
      "execution_count": 77,
      "outputs": [
        {
          "output_type": "stream",
          "name": "stdout",
          "text": [
            "The sum of 2 and 3 is 5\n"
          ]
        }
      ]
    },
    {
      "cell_type": "markdown",
      "source": [
        "## Function with Return Value"
      ],
      "metadata": {
        "id": "gf3pAU51igJn"
      }
    },
    {
      "cell_type": "code",
      "source": [
        "def multiply_numbers(a, b):\n",
        "\n",
        "  return a * b"
      ],
      "metadata": {
        "id": "9AY2-G5wiq_a"
      },
      "execution_count": 78,
      "outputs": []
    },
    {
      "cell_type": "code",
      "source": [
        "result = multiply_numbers(3, 3)\n",
        "\n",
        "print(f\"The result of multiplication is {result}\")"
      ],
      "metadata": {
        "colab": {
          "base_uri": "https://localhost:8080/"
        },
        "id": "1x8nWuipiu-U",
        "outputId": "23ddd6eb-6ce2-4a8b-81d3-d6374a39c9b0"
      },
      "execution_count": 79,
      "outputs": [
        {
          "output_type": "stream",
          "name": "stdout",
          "text": [
            "The result of multiplication is 9\n"
          ]
        }
      ]
    },
    {
      "cell_type": "markdown",
      "source": [
        "# Lambda Expressions\n",
        "\n",
        "    -- a small, anonymous function defined with the lambda keyword.\n",
        "    -- unlike regular functions defined using the def keyword, lambda functions can have any number of arguments but only one expression.\n",
        "    -- the expression is evaluated and returned.\n",
        "    -- lambda functions are often used for short, simple operations where a full function definition might seem excessive."
      ],
      "metadata": {
        "id": "HPfJrRYzjAA-"
      }
    },
    {
      "cell_type": "code",
      "source": [
        "# Sample - Lambda expression for addition\n",
        "\n",
        "add = lambda x, y: x + y\n",
        "result = add(5,3)\n",
        "print(result)"
      ],
      "metadata": {
        "colab": {
          "base_uri": "https://localhost:8080/"
        },
        "id": "Qi5OC9CCjChQ",
        "outputId": "bc93f153-0e89-4245-b5af-e16202f2fa2d"
      },
      "execution_count": 80,
      "outputs": [
        {
          "output_type": "stream",
          "name": "stdout",
          "text": [
            "8\n"
          ]
        }
      ]
    },
    {
      "cell_type": "code",
      "source": [
        "# Sample - Lambda expression for square of a number\n",
        "\n",
        "square = lambda x: x ** 2\n",
        "result = square(6)\n",
        "print(result)"
      ],
      "metadata": {
        "colab": {
          "base_uri": "https://localhost:8080/"
        },
        "id": "YZbRcgP2kAE5",
        "outputId": "7db7f611-9bec-4309-b086-2583efe45cc5"
      },
      "execution_count": 81,
      "outputs": [
        {
          "output_type": "stream",
          "name": "stdout",
          "text": [
            "36\n"
          ]
        }
      ]
    },
    {
      "cell_type": "code",
      "source": [
        "# Sample - Lambda expression with condition (even numbers)\n",
        "\n",
        "is_even = lambda x: x % 2 == 0\n",
        "result = is_even(7)\n",
        "print(result)"
      ],
      "metadata": {
        "colab": {
          "base_uri": "https://localhost:8080/"
        },
        "id": "3df00MFMkUsC",
        "outputId": "82fc7dc9-3461-4c40-ff03-e8d665bd97df"
      },
      "execution_count": 84,
      "outputs": [
        {
          "output_type": "stream",
          "name": "stdout",
          "text": [
            "False\n"
          ]
        }
      ]
    },
    {
      "cell_type": "code",
      "source": [
        "# Sample - Lambda expression with Even or Odd using ternary expression\n",
        "\n",
        "is_even = lambda x: \"Even\" if x % 2 == 0 else \"Odd\"\n",
        "result = is_even(5)\n",
        "print(result)"
      ],
      "metadata": {
        "colab": {
          "base_uri": "https://localhost:8080/"
        },
        "id": "_2MT6fAW-BF7",
        "outputId": "98f966ba-1a7b-4409-cc9b-7b317652c0ec"
      },
      "execution_count": 87,
      "outputs": [
        {
          "output_type": "stream",
          "name": "stdout",
          "text": [
            "Odd\n"
          ]
        }
      ]
    },
    {
      "cell_type": "markdown",
      "source": [
        "# Map Function\n",
        "\n",
        "      -- The map() function in Python is a built-in function that applies a given function to each item in an iterable (like a list, tuple, etc.) and returns a map object (which is an iterator).\n",
        "      -- The map() function is useful when you need to transform or modify elements of an iterable without using explicit loops.\n",
        "      -- map(function, iterable, ...)"
      ],
      "metadata": {
        "id": "pJF1Qa_ZlMSA"
      }
    },
    {
      "cell_type": "code",
      "source": [
        "# Squaring Numbers, Single Iterable\n",
        "\n",
        "numbers = [1, 2, 3, 4, 5]\n",
        "\n",
        "squared_numbers = list(map(lambda x: x ** 2, numbers))\n",
        "squared_numbers"
      ],
      "metadata": {
        "colab": {
          "base_uri": "https://localhost:8080/"
        },
        "id": "Z3WLlfdmlOO3",
        "outputId": "057ada0f-fafc-4b8c-8055-849a9defd7a2"
      },
      "execution_count": 91,
      "outputs": [
        {
          "output_type": "execute_result",
          "data": {
            "text/plain": [
              "[1, 4, 9, 16, 25]"
            ]
          },
          "metadata": {},
          "execution_count": 91
        }
      ]
    },
    {
      "cell_type": "code",
      "source": [
        "# Sum, Multiple Iterables\n",
        "\n",
        "a = [1, 2, 3]\n",
        "b = [4, 5 , 6]\n",
        "c = [7, 8, 9]\n",
        "\n",
        "sum_list = list(map(lambda x, y, z: x + y + z, a, b, c))\n",
        "print(sum_list)"
      ],
      "metadata": {
        "colab": {
          "base_uri": "https://localhost:8080/"
        },
        "id": "G5gquC82l5jH",
        "outputId": "15ce9c59-5c3a-448d-d2b7-76cbe338c029"
      },
      "execution_count": 96,
      "outputs": [
        {
          "output_type": "stream",
          "name": "stdout",
          "text": [
            "[12, 15, 18]\n"
          ]
        }
      ]
    },
    {
      "cell_type": "code",
      "source": [
        "# Map in custom function\n",
        "\n",
        "def add_five(x):\n",
        "\n",
        "  return x + 5\n",
        "\n",
        "numbers = [1, 2, 3]\n",
        "result = list(map(add_five, numbers))\n",
        "print(result)"
      ],
      "metadata": {
        "colab": {
          "base_uri": "https://localhost:8080/"
        },
        "id": "XLb296u3mV7P",
        "outputId": "e53cd9d7-ba30-4646-c29a-a0452753b724"
      },
      "execution_count": 95,
      "outputs": [
        {
          "output_type": "stream",
          "name": "stdout",
          "text": [
            "[6, 7, 8]\n"
          ]
        }
      ]
    },
    {
      "cell_type": "code",
      "source": [
        "# Map in custom function, multiple arguments\n",
        "\n",
        "def add_three_numbers(x, y, z):\n",
        "\n",
        "  return x + y + z\n",
        "\n",
        "list1 = [1, 2, 3]\n",
        "list2 = [10, 20, 30]\n",
        "list3 = [100, 200, 300]\n",
        "\n",
        "# Using map to add corresponding elements from the three lists\n",
        "\n",
        "sum_list = list(map(add_three_numbers, list1, list2, list3))\n",
        "print(sum_list)"
      ],
      "metadata": {
        "colab": {
          "base_uri": "https://localhost:8080/"
        },
        "id": "k9Bs3tG0nSL7",
        "outputId": "cb056af7-b3b2-4625-b217-60f25ca47fa3"
      },
      "execution_count": 97,
      "outputs": [
        {
          "output_type": "stream",
          "name": "stdout",
          "text": [
            "[111, 222, 333]\n"
          ]
        }
      ]
    },
    {
      "cell_type": "markdown",
      "source": [
        "# Filter Function\n",
        "\n",
        "    -- The filter() function in Python is a built-in function that constructs an iterator from elements of an iterable for which a specified function returns True.\n",
        "    -- In other words, it filters out the elements from the iterable that do not satisfy the condition specified by the function.\n",
        "    -- filter(function, iterable)"
      ],
      "metadata": {
        "id": "hzl4hCH8ny6B"
      }
    },
    {
      "cell_type": "code",
      "source": [
        "# Check for even numbers via filter\n",
        "\n",
        "numbers = [1, 2, 3, 4]\n",
        "\n",
        "is_even = lambda x: x % 2 == 0\n",
        "\n",
        "# Using filter\n",
        "\n",
        "even_numbers = list(filter(is_even, numbers))\n",
        "print(even_numbers)"
      ],
      "metadata": {
        "colab": {
          "base_uri": "https://localhost:8080/"
        },
        "id": "-54P-gYan3Wa",
        "outputId": "67cab235-db0b-4d08-e9cd-27aa415d2299"
      },
      "execution_count": 98,
      "outputs": [
        {
          "output_type": "stream",
          "name": "stdout",
          "text": [
            "[2, 4]\n"
          ]
        }
      ]
    },
    {
      "cell_type": "code",
      "source": [
        "# Using Filter with Map\n",
        "\n",
        "numbers = [1, 2, 3, 4, 5, 6, 7, 8]\n",
        "\n",
        "filtered_squares = list(filter(lambda x: x > 15 , map(lambda x: x ** 2, numbers)))\n",
        "filtered_squares"
      ],
      "metadata": {
        "colab": {
          "base_uri": "https://localhost:8080/"
        },
        "id": "gT9zKo7Mokt0",
        "outputId": "6177ce8d-ad55-47c0-c957-b3d224dbf6c1"
      },
      "execution_count": 99,
      "outputs": [
        {
          "output_type": "execute_result",
          "data": {
            "text/plain": [
              "[16, 25, 36, 49, 64]"
            ]
          },
          "metadata": {},
          "execution_count": 99
        }
      ]
    },
    {
      "cell_type": "code",
      "source": [
        "# Using Filter with Map on Multiple Iterables\n",
        "\n",
        "list1 = [1, 2, 3, 4, 5]\n",
        "list2 = [10, 20, 30, 40, 50]\n",
        "\n",
        "filtered_results = list(filter(lambda x: x > 100, map(lambda x, y: (x + y) ** 2, list1, list2)))\n",
        "filtered_results"
      ],
      "metadata": {
        "colab": {
          "base_uri": "https://localhost:8080/"
        },
        "id": "j4_SJy_hpg7H",
        "outputId": "fd0d3448-9d4f-42c8-cfa1-0658a52e3df1"
      },
      "execution_count": 100,
      "outputs": [
        {
          "output_type": "execute_result",
          "data": {
            "text/plain": [
              "[121, 484, 1089, 1936, 3025]"
            ]
          },
          "metadata": {},
          "execution_count": 100
        }
      ]
    },
    {
      "cell_type": "code",
      "source": [
        "# Sample Using Dictionary\n",
        "\n",
        "dict1 = {'a': 1, 'b': 2, 'c': 3, 'd': 4, 'e': 5}\n",
        "dict2 = {'a': 10, 'b': 20, 'c': 30, 'd': 40, 'e': 50}\n",
        "\n",
        "filtered_results = dict(filter(lambda item: item[1] > 30, map(lambda key: (key, (dict1[key] + dict2[key])), dict1)))\n",
        "\n",
        "print(filtered_results)"
      ],
      "metadata": {
        "colab": {
          "base_uri": "https://localhost:8080/"
        },
        "id": "wfzWaBNFrTXZ",
        "outputId": "32c8b0cf-1c8a-4f77-8e4b-a57907484cda"
      },
      "execution_count": 105,
      "outputs": [
        {
          "output_type": "stream",
          "name": "stdout",
          "text": [
            "{'c': 33, 'd': 44, 'e': 55}\n"
          ]
        }
      ]
    },
    {
      "cell_type": "markdown",
      "source": [
        "# Common list methods"
      ],
      "metadata": {
        "id": "Rmv-A2aTswaj"
      }
    },
    {
      "cell_type": "code",
      "source": [
        "# append()\n",
        "# Adds a single element to the end of the list.\n",
        "\n",
        "fruits = ['apple', 'banana', 'melon']\n",
        "fruits.append('orange')\n",
        "fruits"
      ],
      "metadata": {
        "colab": {
          "base_uri": "https://localhost:8080/"
        },
        "id": "ueUqf0FPrpGh",
        "outputId": "54930d7e-25d4-42e9-99ec-9b630d59e966"
      },
      "execution_count": 107,
      "outputs": [
        {
          "output_type": "execute_result",
          "data": {
            "text/plain": [
              "['apple', 'banana', 'melon', 'orange']"
            ]
          },
          "metadata": {},
          "execution_count": 107
        }
      ]
    },
    {
      "cell_type": "code",
      "source": [
        "# extend()\n",
        "# Extends the list by appending all elements from another iterable (e.g., another list)\n",
        "\n",
        "fruits = ['apple', 'banana', 'cherry']\n",
        "fruits.extend(['orange', 'grape', 'guava'])\n",
        "print(fruits)"
      ],
      "metadata": {
        "colab": {
          "base_uri": "https://localhost:8080/"
        },
        "id": "4yI0s-aBuIkS",
        "outputId": "9703f51a-f300-41da-feee-cec79f5934a5"
      },
      "execution_count": 109,
      "outputs": [
        {
          "output_type": "stream",
          "name": "stdout",
          "text": [
            "['apple', 'banana', 'cherry', 'orange', 'grape', 'guava']\n"
          ]
        }
      ]
    },
    {
      "cell_type": "code",
      "source": [
        "# insert()\n",
        "# Inserts an element at a specified position.\n",
        "\n",
        "fruits = ['apple', 'banana', 'cherry']\n",
        "fruits.insert(0, 'orange')  # Insert 'orange' at index 1\n",
        "print(fruits)"
      ],
      "metadata": {
        "colab": {
          "base_uri": "https://localhost:8080/"
        },
        "id": "AP51SqVtuQgR",
        "outputId": "03b273df-61e9-47bf-c99b-4a8ed9bd4a89"
      },
      "execution_count": 114,
      "outputs": [
        {
          "output_type": "stream",
          "name": "stdout",
          "text": [
            "['orange', 'apple', 'banana', 'cherry']\n"
          ]
        }
      ]
    },
    {
      "cell_type": "code",
      "source": [
        "# remove()\n",
        "# Removes the first occurrence of a specified element from the list.\n",
        "\n",
        "fruits = ['apple', 'banana', 'cherry', 'banana']\n",
        "fruits.remove('banana')\n",
        "print(fruits)"
      ],
      "metadata": {
        "colab": {
          "base_uri": "https://localhost:8080/"
        },
        "id": "gUBf7-OYuWtz",
        "outputId": "0fb5212b-3b1c-467d-c84e-57322de62326"
      },
      "execution_count": 119,
      "outputs": [
        {
          "output_type": "stream",
          "name": "stdout",
          "text": [
            "['apple', 'cherry', 'banana']\n"
          ]
        }
      ]
    },
    {
      "cell_type": "code",
      "source": [
        "# pop()\n",
        "# Removes and returns the element at the specified position.\n",
        "# If no index is specified, it removes and returns the last element.\n",
        "\n",
        "fruits = ['apple', 'banana', 'cherry']\n",
        "removed_fruit = fruits.pop(1)  # Remove and return element at index 1\n",
        "\n",
        "print(removed_fruit)\n",
        "print(fruits)"
      ],
      "metadata": {
        "colab": {
          "base_uri": "https://localhost:8080/"
        },
        "id": "mupNjMB1uesn",
        "outputId": "68dce0da-9234-4136-b4df-f4c3ad7c7508"
      },
      "execution_count": 122,
      "outputs": [
        {
          "output_type": "stream",
          "name": "stdout",
          "text": [
            "banana\n",
            "['apple', 'cherry']\n"
          ]
        }
      ]
    },
    {
      "cell_type": "code",
      "source": [
        "# clear()\n",
        "# Removes all elements from the list, leaving it empty.\n",
        "\n",
        "fruits = ['apple', 'banana', 'cherry']\n",
        "fruits.clear()\n",
        "print(fruits)"
      ],
      "metadata": {
        "colab": {
          "base_uri": "https://localhost:8080/"
        },
        "id": "rUshpmoovZ7v",
        "outputId": "6059d9e5-5f21-4d7d-8de4-5cea6a9fb28c"
      },
      "execution_count": 123,
      "outputs": [
        {
          "output_type": "stream",
          "name": "stdout",
          "text": [
            "[]\n"
          ]
        }
      ]
    },
    {
      "cell_type": "code",
      "source": [
        "# index()\n",
        "# Returns the index of the first occurrence of a specified element.\n",
        "\n",
        "fruits = ['apple', 'banana', 'cherry']\n",
        "index_of_banana = fruits.index('banana')\n",
        "print(index_of_banana)"
      ],
      "metadata": {
        "colab": {
          "base_uri": "https://localhost:8080/"
        },
        "id": "GWRcwCx9vjrq",
        "outputId": "4d4cc4ab-f4e6-4f72-921d-858ebe6430ff"
      },
      "execution_count": 125,
      "outputs": [
        {
          "output_type": "stream",
          "name": "stdout",
          "text": [
            "1\n"
          ]
        }
      ]
    },
    {
      "cell_type": "code",
      "source": [
        "# count()\n",
        "# Returns the number of times a specified element appears in the list.\n",
        "\n",
        "fruits = ['apple', 'banana', 'cherry', 'banana', 'banana']\n",
        "banana_count = fruits.count('banana')\n",
        "print(banana_count)"
      ],
      "metadata": {
        "colab": {
          "base_uri": "https://localhost:8080/"
        },
        "id": "tmy1HPDTvqH3",
        "outputId": "5ef12f02-e235-44ac-b578-b3e5c1f99b76"
      },
      "execution_count": 126,
      "outputs": [
        {
          "output_type": "stream",
          "name": "stdout",
          "text": [
            "3\n"
          ]
        }
      ]
    },
    {
      "cell_type": "code",
      "source": [
        "# sort()\n",
        "# Sorts the elements of the list in ascending order by default.\n",
        "# Can also sort in descending order by specifying reverse=True.\n",
        "\n",
        "numbers = [3, 1, 4, 1, 5, 9]\n",
        "numbers.sort()\n",
        "# numbers.sort(reverse = True)\n",
        "print(numbers)\n"
      ],
      "metadata": {
        "colab": {
          "base_uri": "https://localhost:8080/"
        },
        "id": "_ia_KbtovwZ_",
        "outputId": "2bbbc210-bc43-4a1c-dc97-9a883f9b97c1"
      },
      "execution_count": 132,
      "outputs": [
        {
          "output_type": "stream",
          "name": "stdout",
          "text": [
            "[1, 1, 3, 4, 5, 9]\n"
          ]
        }
      ]
    },
    {
      "cell_type": "code",
      "source": [
        "# reverse()\n",
        "# Reverses the elements of the list in place.\n",
        "\n",
        "fruits = ['apple', 'banana', 'cherry']\n",
        "fruits.reverse()\n",
        "print(fruits)"
      ],
      "metadata": {
        "colab": {
          "base_uri": "https://localhost:8080/"
        },
        "id": "aaWMMRHEwCNv",
        "outputId": "71b5ddbc-38ec-4425-b2b4-7c68d6e2d757"
      },
      "execution_count": 133,
      "outputs": [
        {
          "output_type": "stream",
          "name": "stdout",
          "text": [
            "['cherry', 'banana', 'apple']\n"
          ]
        }
      ]
    },
    {
      "cell_type": "code",
      "source": [
        "# sort() with a key Function\n",
        "# Sorts the list based on the key function provided.\n",
        "\n",
        "fruits = ['apple', 'banana', 'cherry', 'date']\n",
        "fruits.sort(key=len)  # Sort by the length of the fruit names\n",
        "print(fruits)"
      ],
      "metadata": {
        "colab": {
          "base_uri": "https://localhost:8080/"
        },
        "id": "cKFO8JtSwO1a",
        "outputId": "d6592fc2-61bc-4155-9059-41d080cd0dbb"
      },
      "execution_count": 135,
      "outputs": [
        {
          "output_type": "stream",
          "name": "stdout",
          "text": [
            "['date', 'apple', 'banana', 'cherry']\n"
          ]
        }
      ]
    },
    {
      "cell_type": "code",
      "source": [
        "# len(list)\n",
        "# Returns the length of the list\n",
        "\n",
        "fruits = ['apple', 'banana', 'cherry', 'date']\n",
        "length = len(fruits)\n",
        "print(length)"
      ],
      "metadata": {
        "colab": {
          "base_uri": "https://localhost:8080/"
        },
        "id": "t59LFLRQzyty",
        "outputId": "8bc5a8fa-510a-42bc-d330-128f3ecb9eeb"
      },
      "execution_count": 136,
      "outputs": [
        {
          "output_type": "stream",
          "name": "stdout",
          "text": [
            "4\n"
          ]
        }
      ]
    },
    {
      "cell_type": "code",
      "source": [
        "# list comprehension\n",
        "# Although not a method, list comprehensions provide a concise way to create lists based on existing lists.\n",
        "\n",
        "numbers = [1, 2, 3, 4, 5]\n",
        "\n",
        "squares = [x ** 2 for x in numbers]\n",
        "\n",
        "print(squares)"
      ],
      "metadata": {
        "colab": {
          "base_uri": "https://localhost:8080/"
        },
        "id": "rExGaNazwT-z",
        "outputId": "8a6a5f5f-f8e7-4544-f8e5-42ccdb896fa3"
      },
      "execution_count": 137,
      "outputs": [
        {
          "output_type": "stream",
          "name": "stdout",
          "text": [
            "[1, 4, 9, 16, 25]\n"
          ]
        }
      ]
    },
    {
      "cell_type": "markdown",
      "source": [
        "## Common string methods"
      ],
      "metadata": {
        "id": "9T6liqn6xFKJ"
      }
    },
    {
      "cell_type": "code",
      "source": [
        "# upper()\n",
        "# Converts all characters in the string to uppercase.\n",
        "\n",
        "text = \"hello world\"\n",
        "upper_text = text.upper()\n",
        "print(upper_text)"
      ],
      "metadata": {
        "colab": {
          "base_uri": "https://localhost:8080/"
        },
        "id": "fXRMrqcyxHKZ",
        "outputId": "721623f6-2ecc-4862-acb9-e00612fee2a0"
      },
      "execution_count": 138,
      "outputs": [
        {
          "output_type": "stream",
          "name": "stdout",
          "text": [
            "HELLO WORLD\n"
          ]
        }
      ]
    },
    {
      "cell_type": "code",
      "source": [
        "# lower()\n",
        "# Converts all characters in the string to lowercase.\n",
        "\n",
        "text = \"HELLO WORLD\"\n",
        "lower_text = text.lower()\n",
        "print(lower_text)"
      ],
      "metadata": {
        "colab": {
          "base_uri": "https://localhost:8080/"
        },
        "id": "6atfTnBBxQeH",
        "outputId": "a7fb3dd5-a15f-402d-cf22-fb0ac9531751"
      },
      "execution_count": 139,
      "outputs": [
        {
          "output_type": "stream",
          "name": "stdout",
          "text": [
            "hello world\n"
          ]
        }
      ]
    },
    {
      "cell_type": "code",
      "source": [
        "# capitalize()\n",
        "# Converts the first character of the string to uppercase and the rest to lowercase.\n",
        "\n",
        "text = \"hello world\"\n",
        "capitalized_text = text.capitalize()\n",
        "print(capitalized_text)"
      ],
      "metadata": {
        "colab": {
          "base_uri": "https://localhost:8080/"
        },
        "id": "l4wdujCJxYxH",
        "outputId": "2f775462-27c0-428a-8bed-728632e54a7c"
      },
      "execution_count": 140,
      "outputs": [
        {
          "output_type": "stream",
          "name": "stdout",
          "text": [
            "Hello world\n"
          ]
        }
      ]
    },
    {
      "cell_type": "code",
      "source": [
        "# title()\n",
        "# Converts the first character of each word to uppercase and the rest to lowercase.\n",
        "\n",
        "text = \"hello world from python\"\n",
        "title_text = text.title()\n",
        "print(title_text)"
      ],
      "metadata": {
        "colab": {
          "base_uri": "https://localhost:8080/"
        },
        "id": "Vnpam5Sdxjvw",
        "outputId": "641e77f1-8e3c-4699-8585-7e599caab449"
      },
      "execution_count": 141,
      "outputs": [
        {
          "output_type": "stream",
          "name": "stdout",
          "text": [
            "Hello World From Python\n"
          ]
        }
      ]
    },
    {
      "cell_type": "code",
      "source": [
        "# strip(), lstrip(), rstrip()\n",
        "# Removes leading and trailing whitespace from the string.\n",
        "\n",
        "text = \"   hello world   \"\n",
        "stripped_text = text.strip()\n",
        "print(stripped_text)"
      ],
      "metadata": {
        "colab": {
          "base_uri": "https://localhost:8080/"
        },
        "id": "xD4zlSQgxpNt",
        "outputId": "c86358e7-6452-44e0-9ae3-1fada4cd7c06"
      },
      "execution_count": 146,
      "outputs": [
        {
          "output_type": "stream",
          "name": "stdout",
          "text": [
            "hello world\n"
          ]
        }
      ]
    },
    {
      "cell_type": "code",
      "source": [
        "# find()\n",
        "# Returns the lowest index of the substring if it is found in the string. Returns -1 if the substring is not found.\n",
        "\n",
        "text = \"hello world\"\n",
        "index = text.find(\"world\")\n",
        "print(index)"
      ],
      "metadata": {
        "colab": {
          "base_uri": "https://localhost:8080/"
        },
        "id": "HQgO4SZdx5fY",
        "outputId": "cb1ec728-875e-45c3-de0a-c99aa86d82b9"
      },
      "execution_count": 148,
      "outputs": [
        {
          "output_type": "stream",
          "name": "stdout",
          "text": [
            "6\n"
          ]
        }
      ]
    },
    {
      "cell_type": "code",
      "source": [
        "# replace()\n",
        "# Replaces all occurrences of a specified substring with another substring.\n",
        "\n",
        "text = \"hello world\"\n",
        "replaced_text = text.replace(\"world\", \"Python\")\n",
        "print(replaced_text)"
      ],
      "metadata": {
        "colab": {
          "base_uri": "https://localhost:8080/"
        },
        "id": "lLuU_gc7yAsp",
        "outputId": "f0a8939a-78bd-4965-e515-c566f4b0f0c0"
      },
      "execution_count": 149,
      "outputs": [
        {
          "output_type": "stream",
          "name": "stdout",
          "text": [
            "hello Python\n"
          ]
        }
      ]
    },
    {
      "cell_type": "code",
      "source": [
        "# split()\n",
        "# Splits the string into a list of substrings based on a specified delimiter. By default, it splits by any whitespace.\n",
        "\n",
        "# text = \"hello world from python\"\n",
        "# words = text.split()\n",
        "#print(words)\n",
        "\n",
        "email = \"sample@yahoo.com\"\n",
        "split = email.split('@')\n",
        "print(split)"
      ],
      "metadata": {
        "colab": {
          "base_uri": "https://localhost:8080/"
        },
        "id": "itye6x7pyF1t",
        "outputId": "892a07f2-1983-41b3-cc30-4bfb9869437c"
      },
      "execution_count": 155,
      "outputs": [
        {
          "output_type": "stream",
          "name": "stdout",
          "text": [
            "['sample', 'yahoo.com']\n"
          ]
        }
      ]
    },
    {
      "cell_type": "code",
      "source": [
        "# join()\n",
        "# Joins elements of an iterable (like a list) into a single string, with a specified delimiter.\n",
        "\n",
        "words = ['hello', 'world', 'from', 'python']\n",
        "joined_text = \"+\".join(words)\n",
        "print(joined_text)"
      ],
      "metadata": {
        "colab": {
          "base_uri": "https://localhost:8080/"
        },
        "id": "-Xmbu2jeymen",
        "outputId": "23ebf11e-9803-442b-ee57-80421ebfb32d"
      },
      "execution_count": 156,
      "outputs": [
        {
          "output_type": "stream",
          "name": "stdout",
          "text": [
            "hello+world+from+python\n"
          ]
        }
      ]
    },
    {
      "cell_type": "code",
      "source": [
        "# startswith()\n",
        "# Returns True if the string starts with the specified substring, otherwise returns False.\n",
        "\n",
        "text = \"hello world\"\n",
        "result = text.startswith(\"hello\")\n",
        "print(result)"
      ],
      "metadata": {
        "colab": {
          "base_uri": "https://localhost:8080/"
        },
        "id": "2LrBl5x0yv4p",
        "outputId": "d0152eca-043b-456d-adbc-25af69be843f"
      },
      "execution_count": 159,
      "outputs": [
        {
          "output_type": "stream",
          "name": "stdout",
          "text": [
            "True\n"
          ]
        }
      ]
    },
    {
      "cell_type": "code",
      "source": [
        "# endswith()\n",
        "# Returns True if the string ends with the specified substring, otherwise returns False.\n",
        "\n",
        "text = \"hello world\"\n",
        "result = text.endswith(\"world\")\n",
        "print(result)"
      ],
      "metadata": {
        "colab": {
          "base_uri": "https://localhost:8080/"
        },
        "id": "BFvAYU7gy5MY",
        "outputId": "d27c33ed-be9f-4514-8f31-6781dcd9250c"
      },
      "execution_count": 160,
      "outputs": [
        {
          "output_type": "stream",
          "name": "stdout",
          "text": [
            "True\n"
          ]
        }
      ]
    },
    {
      "cell_type": "code",
      "source": [
        "# count()\n",
        "# Returns the number of occurrences of a substring in the string.\n",
        "\n",
        "text = \"hello world, hello universe\"\n",
        "count_hello = text.count(\"hello\")\n",
        "print(count_hello)"
      ],
      "metadata": {
        "colab": {
          "base_uri": "https://localhost:8080/"
        },
        "id": "SRdNUYBVzCjV",
        "outputId": "da751182-4ea4-4ca7-f4a9-b127976c4c9e"
      },
      "execution_count": 166,
      "outputs": [
        {
          "output_type": "stream",
          "name": "stdout",
          "text": [
            "2\n"
          ]
        }
      ]
    },
    {
      "cell_type": "code",
      "source": [
        "# len(text)\n",
        "# Returns the length of the string including whitespace\n",
        "\n",
        "text = \"hello world, hello universe\"\n",
        "length = len(text)\n",
        "print(length)"
      ],
      "metadata": {
        "colab": {
          "base_uri": "https://localhost:8080/"
        },
        "id": "qZ3pDL5rzc-v",
        "outputId": "a05c65b3-8678-45af-c21f-f5f7cfad399f"
      },
      "execution_count": 167,
      "outputs": [
        {
          "output_type": "stream",
          "name": "stdout",
          "text": [
            "27\n"
          ]
        }
      ]
    },
    {
      "cell_type": "markdown",
      "source": [
        "## Common Methods for Dictionary"
      ],
      "metadata": {
        "id": "-mqVkGcg1GeB"
      }
    },
    {
      "cell_type": "code",
      "source": [
        "# get()\n",
        "# Returns the value for the specified key if the key is in the dictionary.\n",
        "# If the key is not found, it returns None (or a default value if provided).\n",
        "\n",
        "person = {'name': 'Alice', 'age': 25}\n",
        "age = person.get('age')\n",
        "print(age)"
      ],
      "metadata": {
        "colab": {
          "base_uri": "https://localhost:8080/"
        },
        "id": "QjUJGsBT1JK6",
        "outputId": "2dfab97d-be21-4366-c463-e17f9b71de13"
      },
      "execution_count": 168,
      "outputs": [
        {
          "output_type": "stream",
          "name": "stdout",
          "text": [
            "25\n"
          ]
        }
      ]
    },
    {
      "cell_type": "code",
      "source": [
        "# keys()\n",
        "# Returns a view object that displays a list of all the keys in the dictionary.\n",
        "\n",
        "person = {'name': 'Alice', 'age': 25, 'address': 'Bonifacio St.'}\n",
        "keys = person.keys()\n",
        "print(keys)"
      ],
      "metadata": {
        "colab": {
          "base_uri": "https://localhost:8080/"
        },
        "id": "oqJPXnhi1c2i",
        "outputId": "e9d4aaad-40a8-4784-ffbc-d27384023ae4"
      },
      "execution_count": 170,
      "outputs": [
        {
          "output_type": "stream",
          "name": "stdout",
          "text": [
            "dict_keys(['name', 'age', 'address'])\n"
          ]
        }
      ]
    },
    {
      "cell_type": "code",
      "source": [
        "# values()\n",
        "# Returns a view object that displays a list of all the values in the dictionary.\n",
        "\n",
        "person = {'name': 'Alice', 'age': 25}\n",
        "values = person.values()\n",
        "print(values)"
      ],
      "metadata": {
        "colab": {
          "base_uri": "https://localhost:8080/"
        },
        "id": "ZH2gYUY41kED",
        "outputId": "ee683375-d9e1-4f68-d9df-20e3fa1f942b"
      },
      "execution_count": 171,
      "outputs": [
        {
          "output_type": "stream",
          "name": "stdout",
          "text": [
            "dict_values(['Alice', 25])\n"
          ]
        }
      ]
    },
    {
      "cell_type": "code",
      "source": [
        "# items()\n",
        "# Returns a view object that displays a list of dictionary’s key-value tuple pairs.\n",
        "\n",
        "person = {'name': 'Alice', 'age': 25}\n",
        "items = person.items()\n",
        "print(items)"
      ],
      "metadata": {
        "colab": {
          "base_uri": "https://localhost:8080/"
        },
        "id": "OIJhBZdP1u0I",
        "outputId": "0de20d56-d1e3-4b2c-e311-2a165ac30496"
      },
      "execution_count": 172,
      "outputs": [
        {
          "output_type": "stream",
          "name": "stdout",
          "text": [
            "dict_items([('name', 'Alice'), ('age', 25)])\n"
          ]
        }
      ]
    },
    {
      "cell_type": "code",
      "source": [
        "# update()\n",
        "# Updates the dictionary with elements from another dictionary object or from an iterable of key-value pairs.\n",
        "\n",
        "person = {'name': 'Alice', 'age': 25}\n",
        "person.update({'age': 26, 'city': 'New York'})\n",
        "print(person)"
      ],
      "metadata": {
        "colab": {
          "base_uri": "https://localhost:8080/"
        },
        "id": "jF6ma1HR15J4",
        "outputId": "a540048f-cb53-4012-d524-735a96ba00b9"
      },
      "execution_count": 173,
      "outputs": [
        {
          "output_type": "stream",
          "name": "stdout",
          "text": [
            "{'name': 'Alice', 'age': 26, 'city': 'New York'}\n"
          ]
        }
      ]
    },
    {
      "cell_type": "code",
      "source": [
        "# update()\n",
        "# Updates the dictionary with elements from another dictionary object or from an iterable of key-value pairs.\n",
        "\n",
        "people = {\n",
        "    '001': {'name': 'Alice', 'age': 25, 'city': 'Los Angeles'},\n",
        "    '002': {'name': 'Bob', 'age': 30, 'city': 'New York'},\n",
        "    '003': {'name': 'Charlie', 'age': 35, 'city': 'Chicago'}\n",
        "}\n",
        "\n",
        "people['001'].update({'age': 26, 'city': 'San Francisco'})\n",
        "print(people)"
      ],
      "metadata": {
        "colab": {
          "base_uri": "https://localhost:8080/"
        },
        "id": "3I18UUTW2LRp",
        "outputId": "9b30b31e-d00d-4542-c7de-4dbf8c15f88d"
      },
      "execution_count": 174,
      "outputs": [
        {
          "output_type": "stream",
          "name": "stdout",
          "text": [
            "{'001': {'name': 'Alice', 'age': 26, 'city': 'San Francisco'}, '002': {'name': 'Bob', 'age': 30, 'city': 'New York'}, '003': {'name': 'Charlie', 'age': 35, 'city': 'Chicago'}}\n"
          ]
        }
      ]
    },
    {
      "cell_type": "code",
      "source": [
        "# pop()\n",
        "# Removes and returns the value for the specified key.\n",
        "# If the key is not found, it raises a KeyError, unless a default value is provided.\n",
        "\n",
        "person = {'name': 'Alice', 'age': 25}\n",
        "age = person.pop('age')\n",
        "print(age)\n",
        "print(person)"
      ],
      "metadata": {
        "colab": {
          "base_uri": "https://localhost:8080/"
        },
        "id": "3YjYBXSr2i_g",
        "outputId": "d31f92fd-5a30-4c6a-e49f-be545b11723b"
      },
      "execution_count": 175,
      "outputs": [
        {
          "output_type": "stream",
          "name": "stdout",
          "text": [
            "25\n",
            "{'name': 'Alice'}\n"
          ]
        }
      ]
    },
    {
      "cell_type": "code",
      "source": [
        "# popitem()\n",
        "# Removes and returns the last key-value pair added to the dictionary.\n",
        "# In versions of Python prior to 3.7, it removes and returns an arbitrary key-value pair.\n",
        "\n",
        "person = {'name': 'Alice', 'age': 25}\n",
        "last_item = person.popitem()\n",
        "print(last_item)\n",
        "print(person)"
      ],
      "metadata": {
        "colab": {
          "base_uri": "https://localhost:8080/"
        },
        "id": "fAdd-xj820cB",
        "outputId": "e97a4312-799c-48a3-b11b-6552f293e24c"
      },
      "execution_count": 176,
      "outputs": [
        {
          "output_type": "stream",
          "name": "stdout",
          "text": [
            "('age', 25)\n",
            "{'name': 'Alice'}\n"
          ]
        }
      ]
    },
    {
      "cell_type": "code",
      "source": [
        "# clear()\n",
        "# Removes all items from the dictionary.\n",
        "\n",
        "person = {'name': 'Alice', 'age': 25}\n",
        "person.clear()\n",
        "print(person)"
      ],
      "metadata": {
        "colab": {
          "base_uri": "https://localhost:8080/"
        },
        "id": "eQaPFlZ128JP",
        "outputId": "2e0e9496-419c-40f4-9bf1-07fcf0d2d562"
      },
      "execution_count": 177,
      "outputs": [
        {
          "output_type": "stream",
          "name": "stdout",
          "text": [
            "{}\n"
          ]
        }
      ]
    },
    {
      "cell_type": "code",
      "source": [
        "# dict() Constructor\n",
        "# Creates a dictionary from keyword arguments or an iterable of key-value pairs.\n",
        "\n",
        "# Using keyword arguments\n",
        "person = dict(name='Alice', age=25)\n",
        "print(person)"
      ],
      "metadata": {
        "colab": {
          "base_uri": "https://localhost:8080/"
        },
        "id": "zXgZbGaa3IkY",
        "outputId": "201e110e-4f29-4a48-c099-5ecdcec57e69"
      },
      "execution_count": 178,
      "outputs": [
        {
          "output_type": "stream",
          "name": "stdout",
          "text": [
            "{'name': 'Alice', 'age': 25}\n"
          ]
        }
      ]
    },
    {
      "cell_type": "code",
      "source": [
        "# dict() Constructor\n",
        "# Creates a dictionary from keyword arguments or an iterable of key-value pairs.\n",
        "\n",
        "# Using an iterable of key-value pairs\n",
        "\n",
        "pairs = [('name', 'Bob'), ('age', 30)]\n",
        "\n",
        "person_from_pairs = dict(pairs)\n",
        "\n",
        "print(person_from_pairs)"
      ],
      "metadata": {
        "colab": {
          "base_uri": "https://localhost:8080/"
        },
        "id": "0L0tB_Oy3NHw",
        "outputId": "396b6ffa-2a16-4d9d-e4f8-e387bcf89b3d"
      },
      "execution_count": 179,
      "outputs": [
        {
          "output_type": "stream",
          "name": "stdout",
          "text": [
            "{'name': 'Bob', 'age': 30}\n"
          ]
        }
      ]
    },
    {
      "cell_type": "markdown",
      "source": [
        "# Tuple Unpacking\n",
        "\n",
        "    -- Assigns the elements of a tuple to variables."
      ],
      "metadata": {
        "id": "fCg1a7AZ4V_g"
      }
    },
    {
      "cell_type": "code",
      "source": [
        "# Tuple unpacking\n",
        "\n",
        "person = ('Alice', 25, 'New York')\n",
        "\n",
        "name, age, city = person\n",
        "\n",
        "print(name)\n",
        "print(age)\n",
        "print(city)"
      ],
      "metadata": {
        "colab": {
          "base_uri": "https://localhost:8080/"
        },
        "id": "RMrnepDm4Y5E",
        "outputId": "95b68253-5ca8-46eb-ad5b-962877d19ebb"
      },
      "execution_count": 183,
      "outputs": [
        {
          "output_type": "stream",
          "name": "stdout",
          "text": [
            "Alice\n",
            "25\n",
            "New York\n"
          ]
        }
      ]
    },
    {
      "cell_type": "code",
      "source": [
        "# Tuple unpacking\n",
        "\n",
        "people = [('Alice', 25), ('Bob', 30), ('Charlie', 35)]\n",
        "\n",
        "# Using a for loop to unpack each tuple\n",
        "\n",
        "for name, age in people:\n",
        "\n",
        "    print(f\"{name} is {age} years old\")\n",
        "\n"
      ],
      "metadata": {
        "colab": {
          "base_uri": "https://localhost:8080/"
        },
        "id": "SZJq5Eot4r63",
        "outputId": "dadaacd4-2ffe-411f-9fe5-462032888355"
      },
      "execution_count": 184,
      "outputs": [
        {
          "output_type": "stream",
          "name": "stdout",
          "text": [
            "Alice is 25 years old\n",
            "Bob is 30 years old\n",
            "Charlie is 35 years old\n"
          ]
        }
      ]
    },
    {
      "cell_type": "code",
      "source": [
        "# Using enumerate\n",
        "\n",
        "fruits = ['apple', 'banana', 'cherry']\n",
        "\n",
        "# Using a for loop to unpack index and value\n",
        "\n",
        "for index, fruit in enumerate(fruits):\n",
        "\n",
        "    print(f\"Index {index} contains {fruit}\")"
      ],
      "metadata": {
        "colab": {
          "base_uri": "https://localhost:8080/"
        },
        "id": "P5ROaXZg50Yj",
        "outputId": "b61d0b94-178b-44eb-ffd0-9cb01567193d"
      },
      "execution_count": 185,
      "outputs": [
        {
          "output_type": "stream",
          "name": "stdout",
          "text": [
            "Index 0 contains apple\n",
            "Index 1 contains banana\n",
            "Index 2 contains cherry\n"
          ]
        }
      ]
    },
    {
      "cell_type": "code",
      "source": [
        "# Using zip\n",
        "\n",
        "names = ['Alice', 'Bob', 'Charlie']\n",
        "ages = [25, 30, 35]\n",
        "\n",
        "# Using zip to pair elements from names and ages\n",
        "\n",
        "for name, age in zip(names, ages):\n",
        "\n",
        "    print(f\"{name} is {age} years old\")"
      ],
      "metadata": {
        "colab": {
          "base_uri": "https://localhost:8080/"
        },
        "id": "GRE7p9Vm56o3",
        "outputId": "53373226-67a6-445e-b0c4-a285c99438cb"
      },
      "execution_count": 186,
      "outputs": [
        {
          "output_type": "stream",
          "name": "stdout",
          "text": [
            "Alice is 25 years old\n",
            "Bob is 30 years old\n",
            "Charlie is 35 years old\n"
          ]
        }
      ]
    }
  ]
}