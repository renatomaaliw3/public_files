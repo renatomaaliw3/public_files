{
  "nbformat": 4,
  "nbformat_minor": 0,
  "metadata": {
    "anaconda-cloud": {},
    "kernelspec": {
      "display_name": "Python 3",
      "language": "python",
      "name": "python3"
    },
    "language_info": {
      "codemirror_mode": {
        "name": "ipython",
        "version": 3
      },
      "file_extension": ".py",
      "mimetype": "text/x-python",
      "name": "python",
      "nbconvert_exporter": "python",
      "pygments_lexer": "ipython3",
      "version": "3.7.2"
    },
    "colab": {
      "name": "00-Datetime-Index.ipynb",
      "provenance": [],
      "collapsed_sections": []
    }
  },
  "cells": [
    {
      "cell_type": "markdown",
      "metadata": {
        "id": "2Jpctqj0WnbO"
      },
      "source": [
        "# Introduction to Time Series with Pandas\n",
        "\n",
        "Most of our data will have a datatime index, so let's learn how to deal with this sort of data with pandas!"
      ]
    },
    {
      "cell_type": "markdown",
      "metadata": {
        "id": "BLX7rHjRWnbO"
      },
      "source": [
        "## Python Datetime Review\n",
        "In the course introduction section we discussed Python datetime objects."
      ]
    },
    {
      "cell_type": "code",
      "metadata": {
        "collapsed": true,
        "id": "CP2ZFKjbWnbP"
      },
      "source": [
        "from datetime import datetime"
      ],
      "execution_count": null,
      "outputs": []
    },
    {
      "cell_type": "code",
      "metadata": {
        "collapsed": true,
        "id": "agJw4ihGWnbQ"
      },
      "source": [
        "# To illustrate the order of arguments\n",
        "my_year = 2017\n",
        "my_month = 1\n",
        "my_day = 2\n",
        "my_hour = 13\n",
        "my_minute = 30\n",
        "my_second = 15"
      ],
      "execution_count": null,
      "outputs": []
    },
    {
      "cell_type": "code",
      "metadata": {
        "collapsed": true,
        "id": "5tNTrWXcWnbQ"
      },
      "source": [
        "# January 2nd, 2017\n",
        "my_date = datetime(my_year,my_month,my_day)"
      ],
      "execution_count": null,
      "outputs": []
    },
    {
      "cell_type": "code",
      "metadata": {
        "id": "eJJ9VJvjWnbR",
        "outputId": "dcda17b9-d183-439c-c2d4-367b917392dd"
      },
      "source": [
        "# Defaults to 0:00\n",
        "my_date "
      ],
      "execution_count": null,
      "outputs": [
        {
          "output_type": "execute_result",
          "data": {
            "text/plain": [
              "datetime.datetime(2017, 1, 2, 0, 0)"
            ]
          },
          "metadata": {
            "tags": []
          },
          "execution_count": 4
        }
      ]
    },
    {
      "cell_type": "code",
      "metadata": {
        "collapsed": true,
        "id": "wS1k3QldWnbS"
      },
      "source": [
        "# January 2nd, 2017 at 13:30:15\n",
        "my_date_time = datetime(my_year,my_month,my_day,my_hour,my_minute,my_second)"
      ],
      "execution_count": null,
      "outputs": []
    },
    {
      "cell_type": "code",
      "metadata": {
        "id": "ug0brSWEWnbT",
        "outputId": "87148354-7828-497b-e323-c3ab01b0d276"
      },
      "source": [
        "my_date_time"
      ],
      "execution_count": null,
      "outputs": [
        {
          "output_type": "execute_result",
          "data": {
            "text/plain": [
              "datetime.datetime(2017, 1, 2, 13, 30, 15)"
            ]
          },
          "metadata": {
            "tags": []
          },
          "execution_count": 6
        }
      ]
    },
    {
      "cell_type": "markdown",
      "metadata": {
        "id": "OpF1tw5cWnbT"
      },
      "source": [
        "You can grab any part of the datetime object you want"
      ]
    },
    {
      "cell_type": "code",
      "metadata": {
        "id": "NwplpPBbWnbT",
        "outputId": "06d93f64-c23c-4881-d07c-5738bb381fee"
      },
      "source": [
        "my_date.day"
      ],
      "execution_count": null,
      "outputs": [
        {
          "output_type": "execute_result",
          "data": {
            "text/plain": [
              "2"
            ]
          },
          "metadata": {
            "tags": []
          },
          "execution_count": 7
        }
      ]
    },
    {
      "cell_type": "code",
      "metadata": {
        "id": "BivJaQPAWnbU",
        "outputId": "85e1b22c-a2c7-4887-ee11-36a3d3a21987"
      },
      "source": [
        "my_date_time.hour"
      ],
      "execution_count": null,
      "outputs": [
        {
          "output_type": "execute_result",
          "data": {
            "text/plain": [
              "13"
            ]
          },
          "metadata": {
            "tags": []
          },
          "execution_count": 8
        }
      ]
    },
    {
      "cell_type": "markdown",
      "metadata": {
        "id": "szwle_N-WnbU"
      },
      "source": [
        "## NumPy Datetime Arrays\n",
        "We mentioned that NumPy handles dates more efficiently than Python's datetime format.<br>\n",
        "The NumPy data type is called <em>datetime64</em> to distinguish it from Python's datetime.\n",
        "\n",
        "In this section we'll show how to set up datetime arrays in NumPy. These will become useful later on in the course.<br>\n",
        "For more info on NumPy visit https://docs.scipy.org/doc/numpy-1.15.4/reference/arrays.datetime.html"
      ]
    },
    {
      "cell_type": "code",
      "metadata": {
        "collapsed": true,
        "id": "OluQHMKpWnbV"
      },
      "source": [
        "import numpy as np"
      ],
      "execution_count": null,
      "outputs": []
    },
    {
      "cell_type": "code",
      "metadata": {
        "id": "Bo5RCWI1WnbV",
        "outputId": "bea54137-0550-4e9c-ce1c-501ab57e489a"
      },
      "source": [
        "# CREATE AN ARRAY FROM THREE DATES\n",
        "np.array(['2016-03-15', '2017-05-24', '2018-08-09'], dtype='datetime64')"
      ],
      "execution_count": null,
      "outputs": [
        {
          "output_type": "execute_result",
          "data": {
            "text/plain": [
              "array(['2016-03-15', '2017-05-24', '2018-08-09'], dtype='datetime64[D]')"
            ]
          },
          "metadata": {
            "tags": []
          },
          "execution_count": 10
        }
      ]
    },
    {
      "cell_type": "markdown",
      "metadata": {
        "id": "0oAO2tvHWnbW"
      },
      "source": [
        "<div class=\"alert alert-info\"><strong>NOTE:</strong> We see the dtype listed as <tt>'datetime64[D]'</tt>. This tells us that NumPy applied a day-level date precision.<br>\n",
        "    If we want we can pass in a different measurement, such as <TT>[h]</TT> for hour or <TT>[Y]</TT> for year.</div>"
      ]
    },
    {
      "cell_type": "code",
      "metadata": {
        "id": "L_-at5DhWnbW",
        "outputId": "47a6d5d7-531e-4b6a-92ac-3b6ee2883d75"
      },
      "source": [
        "np.array(['2016-03-15', '2017-05-24', '2018-08-09'], dtype='datetime64[h]')"
      ],
      "execution_count": null,
      "outputs": [
        {
          "output_type": "execute_result",
          "data": {
            "text/plain": [
              "array(['2016-03-15T00', '2017-05-24T00', '2018-08-09T00'],\n",
              "      dtype='datetime64[h]')"
            ]
          },
          "metadata": {
            "tags": []
          },
          "execution_count": 11
        }
      ]
    },
    {
      "cell_type": "code",
      "metadata": {
        "id": "zLSbEuPSWnbW",
        "outputId": "425e0764-6610-4f24-c652-bc0bb5d52850"
      },
      "source": [
        "np.array(['2016-03-15', '2017-05-24', '2018-08-09'], dtype='datetime64[Y]')"
      ],
      "execution_count": null,
      "outputs": [
        {
          "output_type": "execute_result",
          "data": {
            "text/plain": [
              "array(['2016', '2017', '2018'], dtype='datetime64[Y]')"
            ]
          },
          "metadata": {
            "tags": []
          },
          "execution_count": 12
        }
      ]
    },
    {
      "cell_type": "markdown",
      "metadata": {
        "id": "zZ2bWRG2WnbX"
      },
      "source": [
        "## NumPy Date Ranges\n",
        "Just as <tt>np.arange(start,stop,step)</tt> can be used to produce an array of evenly-spaced integers, we can pass a <tt>dtype</tt> argument to obtain an array of dates. Remember that the stop date is <em>exclusive</em>."
      ]
    },
    {
      "cell_type": "code",
      "metadata": {
        "id": "2YrdW-1iWnbX",
        "outputId": "e4736914-aebf-40b8-b9e3-2eab361a4b52"
      },
      "source": [
        "# AN ARRAY OF DATES FROM 6/1/18 TO 6/22/18 SPACED ONE WEEK APART\n",
        "np.arange('2018-06-01', '2018-06-23', 7, dtype='datetime64[D]')"
      ],
      "execution_count": null,
      "outputs": [
        {
          "output_type": "execute_result",
          "data": {
            "text/plain": [
              "array(['2018-06-01', '2018-06-08', '2018-06-15', '2018-06-22'],\n",
              "      dtype='datetime64[D]')"
            ]
          },
          "metadata": {
            "tags": []
          },
          "execution_count": 13
        }
      ]
    },
    {
      "cell_type": "markdown",
      "metadata": {
        "id": "xZ-7JJLtWnbX"
      },
      "source": [
        "By omitting the step value we can obtain every value based on the precision."
      ]
    },
    {
      "cell_type": "code",
      "metadata": {
        "id": "_cuPpSqDWnbY",
        "outputId": "61b74e3f-5b65-4edd-9da9-2723bb628f55"
      },
      "source": [
        "# AN ARRAY OF DATES FOR EVERY YEAR FROM 1968 TO 1975\n",
        "np.arange('1968', '1976', dtype='datetime64[Y]')"
      ],
      "execution_count": null,
      "outputs": [
        {
          "output_type": "execute_result",
          "data": {
            "text/plain": [
              "array(['1968', '1969', '1970', '1971', '1972', '1973', '1974', '1975'],\n",
              "      dtype='datetime64[Y]')"
            ]
          },
          "metadata": {
            "tags": []
          },
          "execution_count": 14
        }
      ]
    },
    {
      "cell_type": "markdown",
      "metadata": {
        "id": "dQYb0cmjWnbY"
      },
      "source": [
        "## Pandas Datetime Index\n",
        "\n",
        "We'll usually deal with time series as a datetime index when working with pandas dataframes. Fortunately pandas has a lot of functions and methods to work with time series!<br>\n",
        "For more on the pandas DatetimeIndex visit https://pandas.pydata.org/pandas-docs/stable/timeseries.html"
      ]
    },
    {
      "cell_type": "code",
      "metadata": {
        "collapsed": true,
        "id": "po3ZIeUVWnbY"
      },
      "source": [
        "import pandas as pd"
      ],
      "execution_count": null,
      "outputs": []
    },
    {
      "cell_type": "markdown",
      "metadata": {
        "id": "ARhjYdxyWnbZ"
      },
      "source": [
        "The simplest way to build a DatetimeIndex is with the <tt><strong>pd.date_range()</strong></tt> method:"
      ]
    },
    {
      "cell_type": "code",
      "metadata": {
        "id": "ecrk5oi9WnbZ",
        "outputId": "a7d3a425-2dc2-456b-e853-c62432d39b25"
      },
      "source": [
        "# THE WEEK OF JULY 8TH, 2018\n",
        "idx = pd.date_range('7/8/2018', periods=7, freq='D')\n",
        "idx"
      ],
      "execution_count": null,
      "outputs": [
        {
          "output_type": "execute_result",
          "data": {
            "text/plain": [
              "DatetimeIndex(['2018-07-08', '2018-07-09', '2018-07-10', '2018-07-11',\n",
              "               '2018-07-12', '2018-07-13', '2018-07-14'],\n",
              "              dtype='datetime64[ns]', freq='D')"
            ]
          },
          "metadata": {
            "tags": []
          },
          "execution_count": 16
        }
      ]
    },
    {
      "cell_type": "markdown",
      "metadata": {
        "id": "abH0eKQpWnbZ"
      },
      "source": [
        "<div class=\"alert alert-info\"><strong>DatetimeIndex Frequencies:</strong> When we used <tt>pd.date_range()</tt> above, we had to pass in a frequency parameter <tt>'D'</tt>. This created a series of 7 dates spaced one day apart. We'll cover this topic in depth in upcoming lectures, but for now, a list of time series offset aliases like <tt>'D'</tt> can be found <a href='http://pandas.pydata.org/pandas-docs/stable/user_guide/timeseries.html#offset-aliases'>here</a>.</div>"
      ]
    },
    {
      "cell_type": "markdown",
      "metadata": {
        "id": "XXteC5WKWnba"
      },
      "source": [
        "Another way is to convert incoming text with the <tt><strong>pd.to_datetime()</strong></tt> method:"
      ]
    },
    {
      "cell_type": "code",
      "metadata": {
        "id": "Sk7PTPURWnba",
        "outputId": "d31c38f5-0469-440f-a9bf-c747b717705e"
      },
      "source": [
        "idx = pd.to_datetime(['Jan 01, 2018','1/2/18','03-Jan-2018',None])\n",
        "idx"
      ],
      "execution_count": null,
      "outputs": [
        {
          "output_type": "execute_result",
          "data": {
            "text/plain": [
              "DatetimeIndex(['2018-01-01', '2018-01-02', '2018-01-03', 'NaT'], dtype='datetime64[ns]', freq=None)"
            ]
          },
          "metadata": {
            "tags": []
          },
          "execution_count": 17
        }
      ]
    },
    {
      "cell_type": "markdown",
      "metadata": {
        "id": "1RfqsavYWnba"
      },
      "source": [
        "A third way is to pass a list or an array of datetime objects into the <tt><strong>pd.DatetimeIndex()</strong></tt> method:"
      ]
    },
    {
      "cell_type": "code",
      "metadata": {
        "id": "Aex4v4Q8Wnbb",
        "outputId": "78df193c-60a3-4be7-e6e7-24deaf2018be"
      },
      "source": [
        "# Create a NumPy datetime array\n",
        "some_dates = np.array(['2016-03-15', '2017-05-24', '2018-08-09'], dtype='datetime64[D]')\n",
        "some_dates"
      ],
      "execution_count": null,
      "outputs": [
        {
          "output_type": "execute_result",
          "data": {
            "text/plain": [
              "array(['2016-03-15', '2017-05-24', '2018-08-09'], dtype='datetime64[D]')"
            ]
          },
          "metadata": {
            "tags": []
          },
          "execution_count": 18
        }
      ]
    },
    {
      "cell_type": "code",
      "metadata": {
        "id": "vHUi8ZG3Wnbb",
        "outputId": "72044c77-8e5f-43db-ecfa-fc081daff879"
      },
      "source": [
        "# Convert to an index\n",
        "idx = pd.DatetimeIndex(some_dates)\n",
        "idx"
      ],
      "execution_count": null,
      "outputs": [
        {
          "output_type": "execute_result",
          "data": {
            "text/plain": [
              "DatetimeIndex(['2016-03-15', '2017-05-24', '2018-08-09'], dtype='datetime64[ns]', freq=None)"
            ]
          },
          "metadata": {
            "tags": []
          },
          "execution_count": 19
        }
      ]
    },
    {
      "cell_type": "markdown",
      "metadata": {
        "id": "uoNU33-PWnbb"
      },
      "source": [
        "Notice that even though the dates came into pandas with a day-level precision, pandas assigns a nanosecond-level precision with the expectation that we might want this later on.\n",
        "\n",
        "To set an existing column as the index, use <tt>.set_index()</tt><br>\n",
        "><tt>df.set_index('Date',inplace=True)</tt>"
      ]
    },
    {
      "cell_type": "markdown",
      "metadata": {
        "id": "YfK2aIESWnbc"
      },
      "source": [
        "## Pandas Datetime Analysis"
      ]
    },
    {
      "cell_type": "code",
      "metadata": {
        "id": "OPjnisX9Wnbc",
        "outputId": "5186a960-4f77-4353-fc87-690ad8305997"
      },
      "source": [
        "# Create some random data\n",
        "data = np.random.randn(3,2)\n",
        "cols = ['A','B']\n",
        "print(data)"
      ],
      "execution_count": null,
      "outputs": [
        {
          "output_type": "stream",
          "text": [
            "[[-1.64971705  1.07943894]\n",
            " [ 0.4587492  -0.04201784]\n",
            " [-1.2793774  -1.85383771]]\n"
          ],
          "name": "stdout"
        }
      ]
    },
    {
      "cell_type": "code",
      "metadata": {
        "id": "wT61wu2VWnbc",
        "outputId": "a5c2fe46-2797-458f-96de-7df4debf85c7"
      },
      "source": [
        "# Create a DataFrame with our random data, our date index, and our columns\n",
        "df = pd.DataFrame(data,idx,cols)\n",
        "df"
      ],
      "execution_count": null,
      "outputs": [
        {
          "output_type": "execute_result",
          "data": {
            "text/html": [
              "<div>\n",
              "<style scoped>\n",
              "    .dataframe tbody tr th:only-of-type {\n",
              "        vertical-align: middle;\n",
              "    }\n",
              "\n",
              "    .dataframe tbody tr th {\n",
              "        vertical-align: top;\n",
              "    }\n",
              "\n",
              "    .dataframe thead th {\n",
              "        text-align: right;\n",
              "    }\n",
              "</style>\n",
              "<table border=\"1\" class=\"dataframe\">\n",
              "  <thead>\n",
              "    <tr style=\"text-align: right;\">\n",
              "      <th></th>\n",
              "      <th>A</th>\n",
              "      <th>B</th>\n",
              "    </tr>\n",
              "  </thead>\n",
              "  <tbody>\n",
              "    <tr>\n",
              "      <th>2016-03-15</th>\n",
              "      <td>-1.649717</td>\n",
              "      <td>1.079439</td>\n",
              "    </tr>\n",
              "    <tr>\n",
              "      <th>2017-05-24</th>\n",
              "      <td>0.458749</td>\n",
              "      <td>-0.042018</td>\n",
              "    </tr>\n",
              "    <tr>\n",
              "      <th>2018-08-09</th>\n",
              "      <td>-1.279377</td>\n",
              "      <td>-1.853838</td>\n",
              "    </tr>\n",
              "  </tbody>\n",
              "</table>\n",
              "</div>"
            ],
            "text/plain": [
              "                   A         B\n",
              "2016-03-15 -1.649717  1.079439\n",
              "2017-05-24  0.458749 -0.042018\n",
              "2018-08-09 -1.279377 -1.853838"
            ]
          },
          "metadata": {
            "tags": []
          },
          "execution_count": 21
        }
      ]
    },
    {
      "cell_type": "markdown",
      "metadata": {
        "id": "dJOe-7QkWnbd"
      },
      "source": [
        "Now we can perform a typical analysis of our DataFrame"
      ]
    },
    {
      "cell_type": "code",
      "metadata": {
        "id": "ogBThXeoWnbd",
        "outputId": "ae20e35b-e636-478f-eb9c-e892a07efcad"
      },
      "source": [
        "df.index"
      ],
      "execution_count": null,
      "outputs": [
        {
          "output_type": "execute_result",
          "data": {
            "text/plain": [
              "DatetimeIndex(['2016-03-15', '2017-05-24', '2018-08-09'], dtype='datetime64[ns]', freq=None)"
            ]
          },
          "metadata": {
            "tags": []
          },
          "execution_count": 22
        }
      ]
    },
    {
      "cell_type": "code",
      "metadata": {
        "id": "zA1n1R-3Wnbd",
        "outputId": "1008f68e-f7e5-444b-cf7e-5f1552e49c2b"
      },
      "source": [
        "# Latest Date Value\n",
        "df.index.max()"
      ],
      "execution_count": null,
      "outputs": [
        {
          "output_type": "execute_result",
          "data": {
            "text/plain": [
              "Timestamp('2018-08-09 00:00:00')"
            ]
          },
          "metadata": {
            "tags": []
          },
          "execution_count": 23
        }
      ]
    },
    {
      "cell_type": "code",
      "metadata": {
        "id": "V2AzqAd8Wnbe",
        "outputId": "93cd0c17-7926-4ae1-e71e-14659645bf71"
      },
      "source": [
        "# Latest Date Index Location\n",
        "df.index.argmax()"
      ],
      "execution_count": null,
      "outputs": [
        {
          "output_type": "execute_result",
          "data": {
            "text/plain": [
              "2"
            ]
          },
          "metadata": {
            "tags": []
          },
          "execution_count": 24
        }
      ]
    },
    {
      "cell_type": "code",
      "metadata": {
        "id": "YN_jj2jiWnbe",
        "outputId": "703cbf4a-3876-4137-c636-bb04b118927a"
      },
      "source": [
        "# Earliest Date Value\n",
        "df.index.min()"
      ],
      "execution_count": null,
      "outputs": [
        {
          "output_type": "execute_result",
          "data": {
            "text/plain": [
              "Timestamp('2016-03-15 00:00:00')"
            ]
          },
          "metadata": {
            "tags": []
          },
          "execution_count": 25
        }
      ]
    },
    {
      "cell_type": "code",
      "metadata": {
        "id": "ddwieBbhWnbe",
        "outputId": "82375099-050c-40f8-b65b-36ca1127769a"
      },
      "source": [
        "# Earliest Date Index Location\n",
        "df.index.argmin()"
      ],
      "execution_count": null,
      "outputs": [
        {
          "output_type": "execute_result",
          "data": {
            "text/plain": [
              "0"
            ]
          },
          "metadata": {
            "tags": []
          },
          "execution_count": 26
        }
      ]
    },
    {
      "cell_type": "markdown",
      "metadata": {
        "id": "qgWerAwAWnbf"
      },
      "source": [
        "<div class=\"alert alert-info\"><strong>NOTE:</strong> Normally we would find index locations by running <tt>.idxmin()</tt> or <tt>.idxmax()</tt> on <tt>df['column']</tt> since <tt>.argmin()</tt> and <tt>.argmax()</tt> have been deprecated. However, we still use <tt>.argmin()</tt> and <tt>.argmax()</tt> on the index itself.</div>"
      ]
    },
    {
      "cell_type": "markdown",
      "metadata": {
        "id": "5ITdKleHWnbf"
      },
      "source": [
        "## Great, let's move on!"
      ]
    }
  ]
}