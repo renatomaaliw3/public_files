PART 1 (Midterm), 3-ITEMS:
Instructions:
A. Given your assigned dataset below, 
   model a Simple Linear Regression:

   Set A (linear-m01.csv)
   Set B (linear-m02.csv)
   Set C (linear-m03.csv)
   Set D (linear-m04.csv)

B. Test Size = 0.25, random_state = 101 (if applicable, including models)
C. Answer the following and write your answer on paper:

   1. What is the slope of the line? (2 decimal places, no rounding)
   2. What is the RMSE of the model based on test data? (2 decimal places, no rounding)
   3. If I have an X value of 38.85, what is the value of Y?

D. No need to send your notebook to my email.

-- x -- x -- x

PART 2 (Finals), 4-ITEMS:
Instructions:
A. Given your assigned dataset below, 
   identify which model is the most accurate (SVM, DT, RF):
   Test Size = 0.25, random_state = 101 (if applicable, including models)

   Set A (classification-f01.csv)
   Set B (classification-f02.csv)
   Set C (classification-f03.csv)
   Set D (classification-f04.csv)

   Remember all datasets has missing data, find a way to replace them using average (mean).
   You are on your own on this.

C. Answer the following and write your answer on paper:

   4. What is the best model based on accuracy results? (SVM, DT, RF)

   If SVM:
   5. If your best model is SVM, what is the optimized value of C?
   6. If your best model is SVM, what is the best kernel?
   7. What is your prediction for this data (0 or 1)? [30, 25, 35]

   param_grid = {'C': [0.01, 0.05, 0.1, 0.5, 1, 1.5, 2, 2.5, 3, 3.5, 4, 4.5, 5], 
                'kernel': ['linear', 'rbf', 'poly']}

   * If you need to scale the data on SVM, use a Standard Scaler *
   
   If DT:
   5. If your best model is DT, what variable is the root node?
   6. If your best model is DT, what variable is the least contributor to prediction?
   7. What is your prediction for this data (0 or 1)? [35, 30, 25]

   If RF:
   5. If your best model is RF, what variable is [mostly] the root node?
   6. If your best model is RF, what variable is the least contributor to prediction?
   7. What is your prediction for this data (0 or 1)? [35, 25, 30]
 
   # Grid Search Values for RF
   n_estimators = [11, 25, 65, 101, 151, 201, 301, 401] 
   max_features = [2,3]

D. No need to send your notebook to my email


   