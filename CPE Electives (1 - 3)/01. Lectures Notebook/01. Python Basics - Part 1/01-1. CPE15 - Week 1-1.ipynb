{
  "nbformat": 4,
  "nbformat_minor": 0,
  "metadata": {
    "colab": {
      "provenance": []
    },
    "kernelspec": {
      "name": "python3",
      "display_name": "Python 3"
    },
    "language_info": {
      "name": "python"
    }
  },
  "cells": [
    {
      "cell_type": "markdown",
      "source": [
        "NOTEBOOK LINK: https://colab.research.google.com/drive/1-8WmvCi5XQsbrm5fiKID1PsLwaYH_256?usp=sharing"
      ],
      "metadata": {
        "id": "Wy8MFOUKxDzZ"
      }
    },
    {
      "cell_type": "markdown",
      "source": [
        "# I. DATA TYPES IN PYTHON\n",
        "\n",
        "-- Data types are classifications that dictate how the interpreter or compiler should handle and store a piece of data\n",
        "\n",
        "-- Understanding data types is crucial because they define the operations that can be performed on a piece of data, the memory allocation, and how the data is stored in memory."
      ],
      "metadata": {
        "id": "_1DK6wkUS_F4"
      }
    },
    {
      "cell_type": "markdown",
      "source": [
        "## A. Integers\n",
        "\n",
        "-- Represent whole numbers, both positive and negative, without any decimal points."
      ],
      "metadata": {
        "id": "4nH9BL8rTO0s"
      }
    },
    {
      "cell_type": "code",
      "source": [
        "1"
      ],
      "metadata": {
        "colab": {
          "base_uri": "https://localhost:8080/"
        },
        "id": "6Y5asFrbT1jY",
        "outputId": "39ef469b-09e4-4e0c-d3f2-74df013a1294"
      },
      "execution_count": 115,
      "outputs": [
        {
          "output_type": "execute_result",
          "data": {
            "text/plain": [
              "1"
            ]
          },
          "metadata": {},
          "execution_count": 115
        }
      ]
    },
    {
      "cell_type": "markdown",
      "source": [
        "## B. Floating-point numbers\n",
        "\n",
        "-- Represent real numbers, which include both whole numbers and fractions."
      ],
      "metadata": {
        "id": "5RPIyqEVT9Gw"
      }
    },
    {
      "cell_type": "code",
      "source": [
        "type(1.2)"
      ],
      "metadata": {
        "colab": {
          "base_uri": "https://localhost:8080/"
        },
        "id": "SR5VkYWBUKMa",
        "outputId": "02d6b306-f282-44d0-fb19-aaa096282920"
      },
      "execution_count": 116,
      "outputs": [
        {
          "output_type": "execute_result",
          "data": {
            "text/plain": [
              "float"
            ]
          },
          "metadata": {},
          "execution_count": 116
        }
      ]
    },
    {
      "cell_type": "markdown",
      "source": [
        "## C. Strings\n",
        "\n",
        "-- A sequence of characters enclosed within single, double, or triple quotes, used to represent text."
      ],
      "metadata": {
        "id": "w8Ujv9DfURL8"
      }
    },
    {
      "cell_type": "code",
      "source": [
        "type('Hello')\n",
        "type(\"Hello\")"
      ],
      "metadata": {
        "colab": {
          "base_uri": "https://localhost:8080/"
        },
        "id": "k72mJ5sZUkPT",
        "outputId": "a8c7a0a3-cfe8-46ef-a469-5ab8eae4e2be"
      },
      "execution_count": 117,
      "outputs": [
        {
          "output_type": "execute_result",
          "data": {
            "text/plain": [
              "str"
            ]
          },
          "metadata": {},
          "execution_count": 117
        }
      ]
    },
    {
      "cell_type": "markdown",
      "source": [
        "## D. Boolean\n",
        "-- Represent truth values, which can either be True or False"
      ],
      "metadata": {
        "id": "d4T0fWbqUxhY"
      }
    },
    {
      "cell_type": "code",
      "source": [
        "type(True)\n",
        "type(False)"
      ],
      "metadata": {
        "colab": {
          "base_uri": "https://localhost:8080/"
        },
        "id": "pLEgWY0RU4i3",
        "outputId": "82a68cb4-196d-4660-b1b6-4829f2600f6e"
      },
      "execution_count": 118,
      "outputs": [
        {
          "output_type": "execute_result",
          "data": {
            "text/plain": [
              "bool"
            ]
          },
          "metadata": {},
          "execution_count": 118
        }
      ]
    },
    {
      "cell_type": "markdown",
      "source": [
        "## E. Lists\n",
        "-- Ordered collections of items (which can be of different types) that are mutable (i.e., can be changed after creation)."
      ],
      "metadata": {
        "id": "3R5COvVfU65-"
      }
    },
    {
      "cell_type": "code",
      "source": [
        "lst = [1, 2, 3, 4, 5, 6]\n",
        "# lst = [1, 2, 3, 4, 5, 6, 'seven']\n",
        "lst[3] = 'four'\n",
        "type(lst)"
      ],
      "metadata": {
        "colab": {
          "base_uri": "https://localhost:8080/"
        },
        "id": "nTYUiwYgVG5E",
        "outputId": "4bf0b0d2-d4fc-4b2d-abb5-479cabd5209f"
      },
      "execution_count": 119,
      "outputs": [
        {
          "output_type": "execute_result",
          "data": {
            "text/plain": [
              "list"
            ]
          },
          "metadata": {},
          "execution_count": 119
        }
      ]
    },
    {
      "cell_type": "code",
      "source": [
        "# Lists are mutable\n",
        "\n",
        "lst.append(7)\n",
        "lst"
      ],
      "metadata": {
        "colab": {
          "base_uri": "https://localhost:8080/"
        },
        "id": "SmhxEEZRVVoC",
        "outputId": "b972922d-5c9f-4884-96bf-5e50718cf7f8"
      },
      "execution_count": 120,
      "outputs": [
        {
          "output_type": "execute_result",
          "data": {
            "text/plain": [
              "[1, 2, 3, 'four', 5, 6, 7]"
            ]
          },
          "metadata": {},
          "execution_count": 120
        }
      ]
    },
    {
      "cell_type": "markdown",
      "source": [
        "## F. Tuples\n",
        "-- Ordered collections of items that are immutable (i.e., cannot be changed once created)."
      ],
      "metadata": {
        "id": "YsoiLWjuVfn5"
      }
    },
    {
      "cell_type": "code",
      "source": [
        "tup = (1, 2, 3, 4)\n",
        "# tup[0] = 'one'"
      ],
      "metadata": {
        "id": "wOZbPu2lVkam"
      },
      "execution_count": 121,
      "outputs": []
    },
    {
      "cell_type": "markdown",
      "source": [
        "## G. Dictionaries\n",
        "-- Collections of key-value pairs where each key is unique, used for fast lookup and retrieval."
      ],
      "metadata": {
        "id": "pmWfiIneW0Qs"
      }
    },
    {
      "cell_type": "code",
      "source": [
        "dic = {'key1': 'One', 'key2': 2}\n",
        "type(dic)"
      ],
      "metadata": {
        "colab": {
          "base_uri": "https://localhost:8080/"
        },
        "id": "Wp3RGIJ9XYB-",
        "outputId": "11096ee7-701c-4295-d0d2-50e68b5fa306"
      },
      "execution_count": 122,
      "outputs": [
        {
          "output_type": "execute_result",
          "data": {
            "text/plain": [
              "dict"
            ]
          },
          "metadata": {},
          "execution_count": 122
        }
      ]
    },
    {
      "cell_type": "markdown",
      "source": [
        "## H. Sets\n",
        "-- Sets are unordered collections of unique items. They do not allow duplicate elements."
      ],
      "metadata": {
        "id": "kqEeE5TBYcyT"
      }
    },
    {
      "cell_type": "code",
      "source": [
        "sets = {1,2,3,3,4}\n",
        "type(sets)"
      ],
      "metadata": {
        "colab": {
          "base_uri": "https://localhost:8080/"
        },
        "id": "vWkUx6rjYswp",
        "outputId": "2114d7c2-4899-4c6a-d20b-c602cd479679"
      },
      "execution_count": 123,
      "outputs": [
        {
          "output_type": "execute_result",
          "data": {
            "text/plain": [
              "set"
            ]
          },
          "metadata": {},
          "execution_count": 123
        }
      ]
    },
    {
      "cell_type": "code",
      "source": [
        "sets"
      ],
      "metadata": {
        "colab": {
          "base_uri": "https://localhost:8080/"
        },
        "id": "4idalXY-Yy_B",
        "outputId": "3ebb2c13-d145-41a8-f826-b4863135a663"
      },
      "execution_count": 124,
      "outputs": [
        {
          "output_type": "execute_result",
          "data": {
            "text/plain": [
              "{1, 2, 3, 4}"
            ]
          },
          "metadata": {},
          "execution_count": 124
        }
      ]
    },
    {
      "cell_type": "markdown",
      "source": [
        "### Data Types can be combined"
      ],
      "metadata": {
        "id": "4wVH5cxjXtSc"
      }
    },
    {
      "cell_type": "code",
      "source": [
        "combined = {'key1': [1, 2, 3, 4, [5, 6]], 'key2': (1,2,3), 'key3': False}\n",
        "combined"
      ],
      "metadata": {
        "colab": {
          "base_uri": "https://localhost:8080/"
        },
        "id": "6gT0pCisX2Ct",
        "outputId": "1a019005-871e-43f0-81a7-ecc125a04b0f"
      },
      "execution_count": 125,
      "outputs": [
        {
          "output_type": "execute_result",
          "data": {
            "text/plain": [
              "{'key1': [1, 2, 3, 4, [5, 6]], 'key2': (1, 2, 3), 'key3': False}"
            ]
          },
          "metadata": {},
          "execution_count": 125
        }
      ]
    },
    {
      "cell_type": "markdown",
      "source": [
        "# II. COMPARISON OPERATORS"
      ],
      "metadata": {
        "id": "VgHqhrwsYOaJ"
      }
    },
    {
      "cell_type": "code",
      "source": [
        "2 > 3"
      ],
      "metadata": {
        "colab": {
          "base_uri": "https://localhost:8080/"
        },
        "id": "FLQrnyq-YLL9",
        "outputId": "739c7286-ca3c-41b2-a23d-9fe5d95d9ba3"
      },
      "execution_count": 126,
      "outputs": [
        {
          "output_type": "execute_result",
          "data": {
            "text/plain": [
              "False"
            ]
          },
          "metadata": {},
          "execution_count": 126
        }
      ]
    },
    {
      "cell_type": "code",
      "source": [
        "3 < 2"
      ],
      "metadata": {
        "colab": {
          "base_uri": "https://localhost:8080/"
        },
        "id": "AyvB_VlJZGXc",
        "outputId": "e2dfaa09-b299-4af3-80e1-2a58b3a36c00"
      },
      "execution_count": 127,
      "outputs": [
        {
          "output_type": "execute_result",
          "data": {
            "text/plain": [
              "False"
            ]
          },
          "metadata": {},
          "execution_count": 127
        }
      ]
    },
    {
      "cell_type": "code",
      "source": [
        "3 == 3"
      ],
      "metadata": {
        "colab": {
          "base_uri": "https://localhost:8080/"
        },
        "id": "2i1M6iV3ZHSV",
        "outputId": "1a039b8b-3f90-4a3b-c85f-145bf7845d9f"
      },
      "execution_count": 128,
      "outputs": [
        {
          "output_type": "execute_result",
          "data": {
            "text/plain": [
              "True"
            ]
          },
          "metadata": {},
          "execution_count": 128
        }
      ]
    },
    {
      "cell_type": "code",
      "source": [
        "4 != 2"
      ],
      "metadata": {
        "colab": {
          "base_uri": "https://localhost:8080/"
        },
        "id": "4RtVA9cmZIFB",
        "outputId": "3db30d06-1907-4d72-b678-7b7174702c55"
      },
      "execution_count": 129,
      "outputs": [
        {
          "output_type": "execute_result",
          "data": {
            "text/plain": [
              "True"
            ]
          },
          "metadata": {},
          "execution_count": 129
        }
      ]
    },
    {
      "cell_type": "code",
      "source": [
        "3 >= 1"
      ],
      "metadata": {
        "colab": {
          "base_uri": "https://localhost:8080/"
        },
        "id": "r0SIUnZ1ZJtF",
        "outputId": "6391be8c-702a-4661-aff1-186acff2d801"
      },
      "execution_count": 130,
      "outputs": [
        {
          "output_type": "execute_result",
          "data": {
            "text/plain": [
              "True"
            ]
          },
          "metadata": {},
          "execution_count": 130
        }
      ]
    },
    {
      "cell_type": "code",
      "source": [
        "1 <= 1"
      ],
      "metadata": {
        "colab": {
          "base_uri": "https://localhost:8080/"
        },
        "id": "EY5VgZ4MZLLm",
        "outputId": "042f1242-8bb1-4b13-f48a-f8f7ee95be1f"
      },
      "execution_count": 131,
      "outputs": [
        {
          "output_type": "execute_result",
          "data": {
            "text/plain": [
              "True"
            ]
          },
          "metadata": {},
          "execution_count": 131
        }
      ]
    },
    {
      "cell_type": "code",
      "source": [
        "'ab' == 'ab'"
      ],
      "metadata": {
        "colab": {
          "base_uri": "https://localhost:8080/"
        },
        "id": "O3lN0xjEZNWZ",
        "outputId": "8c8d01d4-97af-4c62-d187-14ddf2969a04"
      },
      "execution_count": 132,
      "outputs": [
        {
          "output_type": "execute_result",
          "data": {
            "text/plain": [
              "True"
            ]
          },
          "metadata": {},
          "execution_count": 132
        }
      ]
    },
    {
      "cell_type": "code",
      "source": [
        "'ab' == 'abc'"
      ],
      "metadata": {
        "colab": {
          "base_uri": "https://localhost:8080/"
        },
        "id": "co1YdUjCZRBa",
        "outputId": "7e790661-aa1a-4901-cc7a-51ed739dc12c"
      },
      "execution_count": 133,
      "outputs": [
        {
          "output_type": "execute_result",
          "data": {
            "text/plain": [
              "False"
            ]
          },
          "metadata": {},
          "execution_count": 133
        }
      ]
    },
    {
      "cell_type": "markdown",
      "source": [
        "# III. LOGICAL OPERATORS"
      ],
      "metadata": {
        "id": "llBQ8CPzZS6W"
      }
    },
    {
      "cell_type": "code",
      "source": [
        "# and\n",
        "\n",
        "(1 > 2) and (2 < 3)\n",
        "\n",
        "# T,T = T\n",
        "# T,F = F\n",
        "# F,T = F\n",
        "# F,F = F"
      ],
      "metadata": {
        "colab": {
          "base_uri": "https://localhost:8080/"
        },
        "id": "UkDTgx_kZtMe",
        "outputId": "45badd5a-2b82-4359-8e60-45ececc50a21"
      },
      "execution_count": 134,
      "outputs": [
        {
          "output_type": "execute_result",
          "data": {
            "text/plain": [
              "False"
            ]
          },
          "metadata": {},
          "execution_count": 134
        }
      ]
    },
    {
      "cell_type": "code",
      "source": [
        "# or\n",
        "\n",
        "(1 > 2) or (2 < 3)\n",
        "\n",
        "# T,T = T\n",
        "# T,F = T\n",
        "# F,T = T\n",
        "# F,F = F"
      ],
      "metadata": {
        "colab": {
          "base_uri": "https://localhost:8080/"
        },
        "id": "zdPjwCMcZwBd",
        "outputId": "f8b948bb-1238-4dcd-90b4-f9d76e998a87"
      },
      "execution_count": 135,
      "outputs": [
        {
          "output_type": "execute_result",
          "data": {
            "text/plain": [
              "True"
            ]
          },
          "metadata": {},
          "execution_count": 135
        }
      ]
    },
    {
      "cell_type": "code",
      "source": [
        "# not\n",
        "\n",
        "not(3 == 3)"
      ],
      "metadata": {
        "colab": {
          "base_uri": "https://localhost:8080/"
        },
        "id": "NvYJZ3RUZ2Cy",
        "outputId": "9da6ff73-f147-407a-da55-641fe51a87d9"
      },
      "execution_count": 136,
      "outputs": [
        {
          "output_type": "execute_result",
          "data": {
            "text/plain": [
              "False"
            ]
          },
          "metadata": {},
          "execution_count": 136
        }
      ]
    },
    {
      "cell_type": "markdown",
      "source": [
        "# IV. IF - STATEMENTS (FLOW OF CONTROL)"
      ],
      "metadata": {
        "id": "Y-_RAA_OaAE_"
      }
    },
    {
      "cell_type": "code",
      "source": [
        "# single condition\n",
        "\n",
        "if (1 < 2):\n",
        "\n",
        "  print('Yes')"
      ],
      "metadata": {
        "colab": {
          "base_uri": "https://localhost:8080/"
        },
        "id": "NOROv6HfaMqx",
        "outputId": "0574543b-0541-44b0-d3eb-11c8edd85b31"
      },
      "execution_count": 137,
      "outputs": [
        {
          "output_type": "stream",
          "name": "stdout",
          "text": [
            "Yes\n"
          ]
        }
      ]
    },
    {
      "cell_type": "code",
      "source": [
        "# two conditions\n",
        "\n",
        "if (6 < 2):\n",
        "\n",
        "    print('Yes')\n",
        "\n",
        "else:\n",
        "\n",
        "    print('No')"
      ],
      "metadata": {
        "colab": {
          "base_uri": "https://localhost:8080/"
        },
        "id": "p6C8TC37aQ8l",
        "outputId": "92c44995-4c6d-4cf0-d793-a093ce759617"
      },
      "execution_count": 138,
      "outputs": [
        {
          "output_type": "stream",
          "name": "stdout",
          "text": [
            "No\n"
          ]
        }
      ]
    },
    {
      "cell_type": "code",
      "source": [
        "# multiple conditions\n",
        "\n",
        "if (6 < 2):\n",
        "\n",
        "    print(1)\n",
        "\n",
        "elif (3 == 3):\n",
        "\n",
        "    print(2)\n",
        "\n",
        "elif (4 != 4):\n",
        "\n",
        "    print(3)\n",
        "\n",
        "else:\n",
        "\n",
        "    print(4)"
      ],
      "metadata": {
        "colab": {
          "base_uri": "https://localhost:8080/"
        },
        "id": "wJsle8oiaXjM",
        "outputId": "3eb2dfcb-2f8f-4bb2-ac90-2253f397e92b"
      },
      "execution_count": 139,
      "outputs": [
        {
          "output_type": "stream",
          "name": "stdout",
          "text": [
            "2\n"
          ]
        }
      ]
    },
    {
      "cell_type": "code",
      "source": [
        "# Nested IFs\n",
        "\n",
        "x = 4\n",
        "\n",
        "if (x == 6):\n",
        "\n",
        "  print('A')\n",
        "\n",
        "  if (x == 4):\n",
        "\n",
        "    print('B')\n",
        "\n",
        "  elif (x >= 4):\n",
        "\n",
        "    print('C')\n",
        "\n",
        "else:\n",
        "\n",
        "  print('D')"
      ],
      "metadata": {
        "colab": {
          "base_uri": "https://localhost:8080/"
        },
        "id": "dBDLR9DjagJZ",
        "outputId": "4d4ac6a6-8290-4b32-eb6c-ae871468fc7e"
      },
      "execution_count": 140,
      "outputs": [
        {
          "output_type": "stream",
          "name": "stdout",
          "text": [
            "D\n"
          ]
        }
      ]
    },
    {
      "cell_type": "markdown",
      "source": [
        "# V. LOOPS"
      ],
      "metadata": {
        "id": "ML8Nys0ua7KB"
      }
    },
    {
      "cell_type": "markdown",
      "source": [
        "## a. For - Loop\n",
        "-- Used to iterate over a sequence (such as a list, tuple, dictionary, set, or string) or other iterable objects (like ranges or generators)."
      ],
      "metadata": {
        "id": "KwKUKziob8b6"
      }
    },
    {
      "cell_type": "code",
      "source": [
        "for i in range(5):\n",
        "\n",
        "  print(i)"
      ],
      "metadata": {
        "colab": {
          "base_uri": "https://localhost:8080/"
        },
        "id": "4B_mbsoVcCUg",
        "outputId": "ab11acc8-4ed4-4416-c95d-4f0fceed8cd9"
      },
      "execution_count": 141,
      "outputs": [
        {
          "output_type": "stream",
          "name": "stdout",
          "text": [
            "0\n",
            "1\n",
            "2\n",
            "3\n",
            "4\n"
          ]
        }
      ]
    },
    {
      "cell_type": "code",
      "source": [
        "for i in range(0, 10, 2):\n",
        "\n",
        "  print(i)"
      ],
      "metadata": {
        "colab": {
          "base_uri": "https://localhost:8080/"
        },
        "id": "6iHfxOfEcSav",
        "outputId": "ccd3521e-8e46-4c50-8c70-4b8ad123b430"
      },
      "execution_count": 142,
      "outputs": [
        {
          "output_type": "stream",
          "name": "stdout",
          "text": [
            "0\n",
            "2\n",
            "4\n",
            "6\n",
            "8\n"
          ]
        }
      ]
    },
    {
      "cell_type": "code",
      "source": [
        "listahan = [1, 2, 3, 4]\n",
        "\n",
        "for i in listahan:\n",
        "\n",
        "  print(i)"
      ],
      "metadata": {
        "colab": {
          "base_uri": "https://localhost:8080/"
        },
        "id": "y2LTcX47cnJ4",
        "outputId": "e2e8a454-a921-4485-f370-155283d0c1ac"
      },
      "execution_count": 143,
      "outputs": [
        {
          "output_type": "stream",
          "name": "stdout",
          "text": [
            "1\n",
            "2\n",
            "3\n",
            "4\n"
          ]
        }
      ]
    },
    {
      "cell_type": "code",
      "source": [
        "dic = {\"key1\": 'One', 'key2': 'Two'}\n",
        "\n",
        "for i in dic:\n",
        "\n",
        "  print(i)"
      ],
      "metadata": {
        "colab": {
          "base_uri": "https://localhost:8080/"
        },
        "id": "LfLzIKIBcwnT",
        "outputId": "520a52b0-7a60-4bd5-a397-e6047dd1a351"
      },
      "execution_count": 144,
      "outputs": [
        {
          "output_type": "stream",
          "name": "stdout",
          "text": [
            "key1\n",
            "key2\n"
          ]
        }
      ]
    },
    {
      "cell_type": "code",
      "source": [
        "dic = {\"key1\": 'One', 'key2': 'Two'}\n",
        "\n",
        "for i in dic:\n",
        "\n",
        "  value = dic[i]\n",
        "  print(value)"
      ],
      "metadata": {
        "colab": {
          "base_uri": "https://localhost:8080/"
        },
        "id": "7NdJvwYUc_8E",
        "outputId": "73037957-9de2-4d9b-c683-f51d94d47b62"
      },
      "execution_count": 145,
      "outputs": [
        {
          "output_type": "stream",
          "name": "stdout",
          "text": [
            "One\n",
            "Two\n"
          ]
        }
      ]
    },
    {
      "cell_type": "code",
      "source": [
        "# A better way using .items()\n",
        "\n",
        "dic = {\"key1\": 'One', 'key2': 'Two'}\n",
        "\n",
        "for key, value in dic.items():\n",
        "\n",
        "  print(f\"Key: {key}, Value: {value}\")"
      ],
      "metadata": {
        "colab": {
          "base_uri": "https://localhost:8080/"
        },
        "id": "nzgzp3eVdbSI",
        "outputId": "bb4311e4-5db6-4e4d-a54a-7cd0ee0a4984"
      },
      "execution_count": 146,
      "outputs": [
        {
          "output_type": "stream",
          "name": "stdout",
          "text": [
            "Key: key1, Value: One\n",
            "Key: key2, Value: Two\n"
          ]
        }
      ]
    },
    {
      "cell_type": "markdown",
      "source": [
        "## b. While Loop"
      ],
      "metadata": {
        "id": "E9K9pp5LjC2H"
      }
    },
    {
      "cell_type": "code",
      "source": [
        "count = 0\n",
        "\n",
        "while count < 5:\n",
        "\n",
        "  print(count)\n",
        "  count += 1"
      ],
      "metadata": {
        "colab": {
          "base_uri": "https://localhost:8080/"
        },
        "id": "39z3jJirjPJ5",
        "outputId": "2e246582-64e4-4f07-f8f4-45d8e4d8e634"
      },
      "execution_count": 147,
      "outputs": [
        {
          "output_type": "stream",
          "name": "stdout",
          "text": [
            "0\n",
            "1\n",
            "2\n",
            "3\n",
            "4\n"
          ]
        }
      ]
    },
    {
      "cell_type": "code",
      "source": [
        "lst = [10, 20, 30]\n",
        "\n",
        "index = 0\n",
        "\n",
        "while index < len(lst):\n",
        "\n",
        "  print(lst[index])\n",
        "  index +=1"
      ],
      "metadata": {
        "colab": {
          "base_uri": "https://localhost:8080/"
        },
        "id": "-cIx4mGQj02w",
        "outputId": "d024dfce-073c-476b-efee-49443d56afc8"
      },
      "execution_count": 148,
      "outputs": [
        {
          "output_type": "stream",
          "name": "stdout",
          "text": [
            "10\n",
            "20\n",
            "30\n"
          ]
        }
      ]
    },
    {
      "cell_type": "markdown",
      "source": [
        "# VI. INDEXING AND SPLICING"
      ],
      "metadata": {
        "id": "IgWDt4vklj1f"
      }
    },
    {
      "cell_type": "markdown",
      "source": [
        "## a. List Indexing & Splicing"
      ],
      "metadata": {
        "id": "vv3KM5nOoguR"
      }
    },
    {
      "cell_type": "code",
      "source": [
        "# Single Splice in List\n",
        "\n",
        "lst_1 = [10, 20, 30, 40, 50]\n",
        "\n",
        "lst_1[1]"
      ],
      "metadata": {
        "colab": {
          "base_uri": "https://localhost:8080/"
        },
        "id": "OwgI3XO8lonc",
        "outputId": "9f6415ef-feee-45cd-a8fe-07aa81d3f2a9"
      },
      "execution_count": 149,
      "outputs": [
        {
          "output_type": "execute_result",
          "data": {
            "text/plain": [
              "20"
            ]
          },
          "metadata": {},
          "execution_count": 149
        }
      ]
    },
    {
      "cell_type": "code",
      "source": [
        "# Negative Splicing\n",
        "\n",
        "lst_1[-1]"
      ],
      "metadata": {
        "colab": {
          "base_uri": "https://localhost:8080/"
        },
        "id": "x4BtPNATmhO3",
        "outputId": "8aed4b9a-7400-49eb-bd88-47c6144c537c"
      },
      "execution_count": 150,
      "outputs": [
        {
          "output_type": "execute_result",
          "data": {
            "text/plain": [
              "50"
            ]
          },
          "metadata": {},
          "execution_count": 150
        }
      ]
    },
    {
      "cell_type": "code",
      "source": [
        "# Negative Splicing\n",
        "\n",
        "lst_1[-3:]"
      ],
      "metadata": {
        "colab": {
          "base_uri": "https://localhost:8080/"
        },
        "id": "b9wc6bTQmlwr",
        "outputId": "a48604d5-972c-4868-b5cc-135ab465a395"
      },
      "execution_count": 151,
      "outputs": [
        {
          "output_type": "execute_result",
          "data": {
            "text/plain": [
              "[30, 40, 50]"
            ]
          },
          "metadata": {},
          "execution_count": 151
        }
      ]
    },
    {
      "cell_type": "code",
      "source": [
        "# Negative Splicing\n",
        "\n",
        "lst_1[:-2]"
      ],
      "metadata": {
        "colab": {
          "base_uri": "https://localhost:8080/"
        },
        "id": "3BQFyFjBm-SH",
        "outputId": "a685a04f-7ef0-4030-b7d0-eea76e5966bf"
      },
      "execution_count": 152,
      "outputs": [
        {
          "output_type": "execute_result",
          "data": {
            "text/plain": [
              "[10, 20, 30]"
            ]
          },
          "metadata": {},
          "execution_count": 152
        }
      ]
    },
    {
      "cell_type": "code",
      "source": [
        "# Nested List Splicing\n",
        "\n",
        "lst_2 = [10, 20, [30, 31, 32], 40, 50]\n",
        "\n",
        "lst_2[2][2]"
      ],
      "metadata": {
        "colab": {
          "base_uri": "https://localhost:8080/"
        },
        "id": "PUPaQ7mVnKvR",
        "outputId": "aeae0e06-d9aa-4d02-d2d2-842459816f3f"
      },
      "execution_count": 153,
      "outputs": [
        {
          "output_type": "execute_result",
          "data": {
            "text/plain": [
              "32"
            ]
          },
          "metadata": {},
          "execution_count": 153
        }
      ]
    },
    {
      "cell_type": "code",
      "source": [
        "# Non-contiguous slicing via list comprehension\n",
        "\n",
        "lst_3 = [10, 20, 30, 40, 50]\n",
        "\n",
        "result = [lst_3[i] for i in [1,3]] # This is called a list comprehension\n",
        "\n",
        "result"
      ],
      "metadata": {
        "colab": {
          "base_uri": "https://localhost:8080/"
        },
        "id": "41T17svpnpCg",
        "outputId": "4e514d50-6961-485b-a640-8dae3cba16a9"
      },
      "execution_count": 154,
      "outputs": [
        {
          "output_type": "execute_result",
          "data": {
            "text/plain": [
              "[20, 40]"
            ]
          },
          "metadata": {},
          "execution_count": 154
        }
      ]
    },
    {
      "cell_type": "markdown",
      "source": [
        "## B. Dictionary Indexing & Splicing"
      ],
      "metadata": {
        "id": "aDOqCO4soovQ"
      }
    },
    {
      "cell_type": "code",
      "source": [
        "# Single Splice in Dictionary\n",
        "\n",
        "dict_1 = {'key1': 1, 'key2': 2, 'key3': 3}\n",
        "dict_1['key1']"
      ],
      "metadata": {
        "colab": {
          "base_uri": "https://localhost:8080/"
        },
        "id": "oejxJdqLoq96",
        "outputId": "c43d58ba-c9e6-4a7e-9330-440f76cc5400"
      },
      "execution_count": 155,
      "outputs": [
        {
          "output_type": "execute_result",
          "data": {
            "text/plain": [
              "1"
            ]
          },
          "metadata": {},
          "execution_count": 155
        }
      ]
    },
    {
      "cell_type": "code",
      "source": [
        "dict_2 = {'key1': 1, 'key2': 2, 'key3': 3}\n",
        "\n",
        "# Specify the keys you want to select\n",
        "selected_keys = ['key1', 'key2']\n",
        "\n",
        "# Use dictionary comprehension to create a new dictionary\n",
        "result = {key: dict_2[key] for key in selected_keys}\n",
        "\n",
        "print(result)"
      ],
      "metadata": {
        "colab": {
          "base_uri": "https://localhost:8080/"
        },
        "id": "QSHyf9r-s623",
        "outputId": "c72f1de9-33e7-4b4a-ab5a-f261ee8da284"
      },
      "execution_count": 162,
      "outputs": [
        {
          "output_type": "stream",
          "name": "stdout",
          "text": [
            "{'key1': 1, 'key2': 2}\n"
          ]
        }
      ]
    },
    {
      "cell_type": "code",
      "source": [
        "dict_3 = {'key1': 1, 'key2': 2, 'key3': 3}\n",
        "\n",
        "# Specify the keys you want to select\n",
        "selected_keys = ['key1', 'key2']\n",
        "\n",
        "# Extract values only for the selected keys\n",
        "values = [dict_3[key] for key in selected_keys]\n",
        "values"
      ],
      "metadata": {
        "colab": {
          "base_uri": "https://localhost:8080/"
        },
        "id": "dJemaIg5tNAQ",
        "outputId": "be28cde4-4570-4a25-e566-1fc68d1a36d4"
      },
      "execution_count": 164,
      "outputs": [
        {
          "output_type": "execute_result",
          "data": {
            "text/plain": [
              "[1, 2]"
            ]
          },
          "metadata": {},
          "execution_count": 164
        }
      ]
    }
  ]
}