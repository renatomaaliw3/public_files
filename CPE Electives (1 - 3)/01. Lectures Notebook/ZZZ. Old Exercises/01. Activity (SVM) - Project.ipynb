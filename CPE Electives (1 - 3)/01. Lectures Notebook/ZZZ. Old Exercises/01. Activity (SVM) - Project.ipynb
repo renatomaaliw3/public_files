{
  "nbformat": 4,
  "nbformat_minor": 0,
  "metadata": {
    "colab": {
      "name": "01. Activity (SVM) - Project.ipynb",
      "provenance": [],
      "collapsed_sections": []
    },
    "kernelspec": {
      "name": "python3",
      "display_name": "Python 3"
    },
    "language_info": {
      "name": "python"
    }
  },
  "cells": [
    {
      "cell_type": "markdown",
      "metadata": {
        "id": "_dJN0Gda2hCc"
      },
      "source": [
        "# Imports"
      ]
    },
    {
      "cell_type": "code",
      "metadata": {
        "id": "7QvYnIim-CC8"
      },
      "source": [
        "import pandas as pd\n",
        "import numpy as np\n",
        "import matplotlib.pyplot as plt\n",
        "import seaborn as sns\n",
        "\n",
        "%matplotlib inline"
      ],
      "execution_count": null,
      "outputs": []
    },
    {
      "cell_type": "markdown",
      "metadata": {
        "id": "812-vceG-SR1"
      },
      "source": [
        "# Load DataSet"
      ]
    },
    {
      "cell_type": "code",
      "metadata": {
        "colab": {
          "base_uri": "https://localhost:8080/",
          "height": 143
        },
        "id": "dOzkzOfq-fkh",
        "outputId": "b2242282-444a-4f0c-fa94-b14fc7cc6ebf"
      },
      "source": [
        "# Load DataSet\n",
        "\n",
        "iris = pd.read_csv('Iris (2).csv')\n",
        "iris.head(3)"
      ],
      "execution_count": null,
      "outputs": [
        {
          "output_type": "execute_result",
          "data": {
            "text/html": [
              "\n",
              "  <div id=\"df-7ba6dfe0-66b3-4758-a09c-18188a59d043\">\n",
              "    <div class=\"colab-df-container\">\n",
              "      <div>\n",
              "<style scoped>\n",
              "    .dataframe tbody tr th:only-of-type {\n",
              "        vertical-align: middle;\n",
              "    }\n",
              "\n",
              "    .dataframe tbody tr th {\n",
              "        vertical-align: top;\n",
              "    }\n",
              "\n",
              "    .dataframe thead th {\n",
              "        text-align: right;\n",
              "    }\n",
              "</style>\n",
              "<table border=\"1\" class=\"dataframe\">\n",
              "  <thead>\n",
              "    <tr style=\"text-align: right;\">\n",
              "      <th></th>\n",
              "      <th>Id</th>\n",
              "      <th>SepalLengthCm</th>\n",
              "      <th>SepalWidthCm</th>\n",
              "      <th>PetalLengthCm</th>\n",
              "      <th>PetalWidthCm</th>\n",
              "      <th>Species</th>\n",
              "    </tr>\n",
              "  </thead>\n",
              "  <tbody>\n",
              "    <tr>\n",
              "      <th>0</th>\n",
              "      <td>1</td>\n",
              "      <td>5.1</td>\n",
              "      <td>3.5</td>\n",
              "      <td>1.4</td>\n",
              "      <td>0.2</td>\n",
              "      <td>Iris-setosa</td>\n",
              "    </tr>\n",
              "    <tr>\n",
              "      <th>1</th>\n",
              "      <td>2</td>\n",
              "      <td>4.9</td>\n",
              "      <td>3.0</td>\n",
              "      <td>1.4</td>\n",
              "      <td>0.2</td>\n",
              "      <td>Iris-setosa</td>\n",
              "    </tr>\n",
              "    <tr>\n",
              "      <th>2</th>\n",
              "      <td>3</td>\n",
              "      <td>4.7</td>\n",
              "      <td>3.2</td>\n",
              "      <td>1.3</td>\n",
              "      <td>0.2</td>\n",
              "      <td>Iris-setosa</td>\n",
              "    </tr>\n",
              "  </tbody>\n",
              "</table>\n",
              "</div>\n",
              "      <button class=\"colab-df-convert\" onclick=\"convertToInteractive('df-7ba6dfe0-66b3-4758-a09c-18188a59d043')\"\n",
              "              title=\"Convert this dataframe to an interactive table.\"\n",
              "              style=\"display:none;\">\n",
              "        \n",
              "  <svg xmlns=\"http://www.w3.org/2000/svg\" height=\"24px\"viewBox=\"0 0 24 24\"\n",
              "       width=\"24px\">\n",
              "    <path d=\"M0 0h24v24H0V0z\" fill=\"none\"/>\n",
              "    <path d=\"M18.56 5.44l.94 2.06.94-2.06 2.06-.94-2.06-.94-.94-2.06-.94 2.06-2.06.94zm-11 1L8.5 8.5l.94-2.06 2.06-.94-2.06-.94L8.5 2.5l-.94 2.06-2.06.94zm10 10l.94 2.06.94-2.06 2.06-.94-2.06-.94-.94-2.06-.94 2.06-2.06.94z\"/><path d=\"M17.41 7.96l-1.37-1.37c-.4-.4-.92-.59-1.43-.59-.52 0-1.04.2-1.43.59L10.3 9.45l-7.72 7.72c-.78.78-.78 2.05 0 2.83L4 21.41c.39.39.9.59 1.41.59.51 0 1.02-.2 1.41-.59l7.78-7.78 2.81-2.81c.8-.78.8-2.07 0-2.86zM5.41 20L4 18.59l7.72-7.72 1.47 1.35L5.41 20z\"/>\n",
              "  </svg>\n",
              "      </button>\n",
              "      \n",
              "  <style>\n",
              "    .colab-df-container {\n",
              "      display:flex;\n",
              "      flex-wrap:wrap;\n",
              "      gap: 12px;\n",
              "    }\n",
              "\n",
              "    .colab-df-convert {\n",
              "      background-color: #E8F0FE;\n",
              "      border: none;\n",
              "      border-radius: 50%;\n",
              "      cursor: pointer;\n",
              "      display: none;\n",
              "      fill: #1967D2;\n",
              "      height: 32px;\n",
              "      padding: 0 0 0 0;\n",
              "      width: 32px;\n",
              "    }\n",
              "\n",
              "    .colab-df-convert:hover {\n",
              "      background-color: #E2EBFA;\n",
              "      box-shadow: 0px 1px 2px rgba(60, 64, 67, 0.3), 0px 1px 3px 1px rgba(60, 64, 67, 0.15);\n",
              "      fill: #174EA6;\n",
              "    }\n",
              "\n",
              "    [theme=dark] .colab-df-convert {\n",
              "      background-color: #3B4455;\n",
              "      fill: #D2E3FC;\n",
              "    }\n",
              "\n",
              "    [theme=dark] .colab-df-convert:hover {\n",
              "      background-color: #434B5C;\n",
              "      box-shadow: 0px 1px 3px 1px rgba(0, 0, 0, 0.15);\n",
              "      filter: drop-shadow(0px 1px 2px rgba(0, 0, 0, 0.3));\n",
              "      fill: #FFFFFF;\n",
              "    }\n",
              "  </style>\n",
              "\n",
              "      <script>\n",
              "        const buttonEl =\n",
              "          document.querySelector('#df-7ba6dfe0-66b3-4758-a09c-18188a59d043 button.colab-df-convert');\n",
              "        buttonEl.style.display =\n",
              "          google.colab.kernel.accessAllowed ? 'block' : 'none';\n",
              "\n",
              "        async function convertToInteractive(key) {\n",
              "          const element = document.querySelector('#df-7ba6dfe0-66b3-4758-a09c-18188a59d043');\n",
              "          const dataTable =\n",
              "            await google.colab.kernel.invokeFunction('convertToInteractive',\n",
              "                                                     [key], {});\n",
              "          if (!dataTable) return;\n",
              "\n",
              "          const docLinkHtml = 'Like what you see? Visit the ' +\n",
              "            '<a target=\"_blank\" href=https://colab.research.google.com/notebooks/data_table.ipynb>data table notebook</a>'\n",
              "            + ' to learn more about interactive tables.';\n",
              "          element.innerHTML = '';\n",
              "          dataTable['output_type'] = 'display_data';\n",
              "          await google.colab.output.renderOutput(dataTable, element);\n",
              "          const docLink = document.createElement('div');\n",
              "          docLink.innerHTML = docLinkHtml;\n",
              "          element.appendChild(docLink);\n",
              "        }\n",
              "      </script>\n",
              "    </div>\n",
              "  </div>\n",
              "  "
            ],
            "text/plain": [
              "   Id  SepalLengthCm  SepalWidthCm  PetalLengthCm  PetalWidthCm      Species\n",
              "0   1            5.1           3.5            1.4           0.2  Iris-setosa\n",
              "1   2            4.9           3.0            1.4           0.2  Iris-setosa\n",
              "2   3            4.7           3.2            1.3           0.2  Iris-setosa"
            ]
          },
          "metadata": {},
          "execution_count": 66
        }
      ]
    },
    {
      "cell_type": "code",
      "metadata": {
        "colab": {
          "base_uri": "https://localhost:8080/"
        },
        "id": "8eb2A3ps-mde",
        "outputId": "74c55ec3-cbfc-406c-cc50-a4d6fa5e401b"
      },
      "source": [
        "# show details of dataset\n",
        "\n"
      ],
      "execution_count": null,
      "outputs": [
        {
          "output_type": "stream",
          "name": "stdout",
          "text": [
            "<class 'pandas.core.frame.DataFrame'>\n",
            "RangeIndex: 150 entries, 0 to 149\n",
            "Data columns (total 6 columns):\n",
            " #   Column         Non-Null Count  Dtype  \n",
            "---  ------         --------------  -----  \n",
            " 0   Id             150 non-null    int64  \n",
            " 1   SepalLengthCm  150 non-null    float64\n",
            " 2   SepalWidthCm   150 non-null    float64\n",
            " 3   PetalLengthCm  150 non-null    float64\n",
            " 4   PetalWidthCm   150 non-null    float64\n",
            " 5   Species        150 non-null    object \n",
            "dtypes: float64(4), int64(1), object(1)\n",
            "memory usage: 7.2+ KB\n"
          ]
        }
      ]
    },
    {
      "cell_type": "markdown",
      "metadata": {
        "id": "yLamSdUG-2UX"
      },
      "source": [
        "# Assign DataSets to a DataFrame"
      ]
    },
    {
      "cell_type": "code",
      "metadata": {
        "colab": {
          "base_uri": "https://localhost:8080/",
          "height": 143
        },
        "id": "kPYO_n8i_dK0",
        "outputId": "2e5b5857-d0d2-4e36-8ef7-94c020c17660"
      },
      "source": [
        "# Features\n",
        "\n"
      ],
      "execution_count": null,
      "outputs": [
        {
          "output_type": "execute_result",
          "data": {
            "text/html": [
              "\n",
              "  <div id=\"df-20177f94-111e-4964-8d05-928a77e5e518\">\n",
              "    <div class=\"colab-df-container\">\n",
              "      <div>\n",
              "<style scoped>\n",
              "    .dataframe tbody tr th:only-of-type {\n",
              "        vertical-align: middle;\n",
              "    }\n",
              "\n",
              "    .dataframe tbody tr th {\n",
              "        vertical-align: top;\n",
              "    }\n",
              "\n",
              "    .dataframe thead th {\n",
              "        text-align: right;\n",
              "    }\n",
              "</style>\n",
              "<table border=\"1\" class=\"dataframe\">\n",
              "  <thead>\n",
              "    <tr style=\"text-align: right;\">\n",
              "      <th></th>\n",
              "      <th>SepalLengthCm</th>\n",
              "      <th>SepalWidthCm</th>\n",
              "      <th>PetalLengthCm</th>\n",
              "      <th>PetalWidthCm</th>\n",
              "    </tr>\n",
              "  </thead>\n",
              "  <tbody>\n",
              "    <tr>\n",
              "      <th>0</th>\n",
              "      <td>5.1</td>\n",
              "      <td>3.5</td>\n",
              "      <td>1.4</td>\n",
              "      <td>0.2</td>\n",
              "    </tr>\n",
              "    <tr>\n",
              "      <th>1</th>\n",
              "      <td>4.9</td>\n",
              "      <td>3.0</td>\n",
              "      <td>1.4</td>\n",
              "      <td>0.2</td>\n",
              "    </tr>\n",
              "    <tr>\n",
              "      <th>2</th>\n",
              "      <td>4.7</td>\n",
              "      <td>3.2</td>\n",
              "      <td>1.3</td>\n",
              "      <td>0.2</td>\n",
              "    </tr>\n",
              "  </tbody>\n",
              "</table>\n",
              "</div>\n",
              "      <button class=\"colab-df-convert\" onclick=\"convertToInteractive('df-20177f94-111e-4964-8d05-928a77e5e518')\"\n",
              "              title=\"Convert this dataframe to an interactive table.\"\n",
              "              style=\"display:none;\">\n",
              "        \n",
              "  <svg xmlns=\"http://www.w3.org/2000/svg\" height=\"24px\"viewBox=\"0 0 24 24\"\n",
              "       width=\"24px\">\n",
              "    <path d=\"M0 0h24v24H0V0z\" fill=\"none\"/>\n",
              "    <path d=\"M18.56 5.44l.94 2.06.94-2.06 2.06-.94-2.06-.94-.94-2.06-.94 2.06-2.06.94zm-11 1L8.5 8.5l.94-2.06 2.06-.94-2.06-.94L8.5 2.5l-.94 2.06-2.06.94zm10 10l.94 2.06.94-2.06 2.06-.94-2.06-.94-.94-2.06-.94 2.06-2.06.94z\"/><path d=\"M17.41 7.96l-1.37-1.37c-.4-.4-.92-.59-1.43-.59-.52 0-1.04.2-1.43.59L10.3 9.45l-7.72 7.72c-.78.78-.78 2.05 0 2.83L4 21.41c.39.39.9.59 1.41.59.51 0 1.02-.2 1.41-.59l7.78-7.78 2.81-2.81c.8-.78.8-2.07 0-2.86zM5.41 20L4 18.59l7.72-7.72 1.47 1.35L5.41 20z\"/>\n",
              "  </svg>\n",
              "      </button>\n",
              "      \n",
              "  <style>\n",
              "    .colab-df-container {\n",
              "      display:flex;\n",
              "      flex-wrap:wrap;\n",
              "      gap: 12px;\n",
              "    }\n",
              "\n",
              "    .colab-df-convert {\n",
              "      background-color: #E8F0FE;\n",
              "      border: none;\n",
              "      border-radius: 50%;\n",
              "      cursor: pointer;\n",
              "      display: none;\n",
              "      fill: #1967D2;\n",
              "      height: 32px;\n",
              "      padding: 0 0 0 0;\n",
              "      width: 32px;\n",
              "    }\n",
              "\n",
              "    .colab-df-convert:hover {\n",
              "      background-color: #E2EBFA;\n",
              "      box-shadow: 0px 1px 2px rgba(60, 64, 67, 0.3), 0px 1px 3px 1px rgba(60, 64, 67, 0.15);\n",
              "      fill: #174EA6;\n",
              "    }\n",
              "\n",
              "    [theme=dark] .colab-df-convert {\n",
              "      background-color: #3B4455;\n",
              "      fill: #D2E3FC;\n",
              "    }\n",
              "\n",
              "    [theme=dark] .colab-df-convert:hover {\n",
              "      background-color: #434B5C;\n",
              "      box-shadow: 0px 1px 3px 1px rgba(0, 0, 0, 0.15);\n",
              "      filter: drop-shadow(0px 1px 2px rgba(0, 0, 0, 0.3));\n",
              "      fill: #FFFFFF;\n",
              "    }\n",
              "  </style>\n",
              "\n",
              "      <script>\n",
              "        const buttonEl =\n",
              "          document.querySelector('#df-20177f94-111e-4964-8d05-928a77e5e518 button.colab-df-convert');\n",
              "        buttonEl.style.display =\n",
              "          google.colab.kernel.accessAllowed ? 'block' : 'none';\n",
              "\n",
              "        async function convertToInteractive(key) {\n",
              "          const element = document.querySelector('#df-20177f94-111e-4964-8d05-928a77e5e518');\n",
              "          const dataTable =\n",
              "            await google.colab.kernel.invokeFunction('convertToInteractive',\n",
              "                                                     [key], {});\n",
              "          if (!dataTable) return;\n",
              "\n",
              "          const docLinkHtml = 'Like what you see? Visit the ' +\n",
              "            '<a target=\"_blank\" href=https://colab.research.google.com/notebooks/data_table.ipynb>data table notebook</a>'\n",
              "            + ' to learn more about interactive tables.';\n",
              "          element.innerHTML = '';\n",
              "          dataTable['output_type'] = 'display_data';\n",
              "          await google.colab.output.renderOutput(dataTable, element);\n",
              "          const docLink = document.createElement('div');\n",
              "          docLink.innerHTML = docLinkHtml;\n",
              "          element.appendChild(docLink);\n",
              "        }\n",
              "      </script>\n",
              "    </div>\n",
              "  </div>\n",
              "  "
            ],
            "text/plain": [
              "   SepalLengthCm  SepalWidthCm  PetalLengthCm  PetalWidthCm\n",
              "0            5.1           3.5            1.4           0.2\n",
              "1            4.9           3.0            1.4           0.2\n",
              "2            4.7           3.2            1.3           0.2"
            ]
          },
          "metadata": {},
          "execution_count": 68
        }
      ]
    },
    {
      "cell_type": "code",
      "metadata": {
        "colab": {
          "base_uri": "https://localhost:8080/"
        },
        "id": "rF2_4dxH_xXX",
        "outputId": "15cdc1c1-fa53-49c9-e961-133e03f96850"
      },
      "source": [
        "# Classes\n",
        "\n"
      ],
      "execution_count": null,
      "outputs": [
        {
          "output_type": "execute_result",
          "data": {
            "text/plain": [
              "0         Iris-setosa\n",
              "1         Iris-setosa\n",
              "2         Iris-setosa\n",
              "3         Iris-setosa\n",
              "4         Iris-setosa\n",
              "            ...      \n",
              "145    Iris-virginica\n",
              "146    Iris-virginica\n",
              "147    Iris-virginica\n",
              "148    Iris-virginica\n",
              "149    Iris-virginica\n",
              "Name: Species, Length: 150, dtype: object"
            ]
          },
          "metadata": {},
          "execution_count": 69
        }
      ]
    },
    {
      "cell_type": "code",
      "metadata": {
        "colab": {
          "base_uri": "https://localhost:8080/"
        },
        "id": "Sj3ZxG4qAIoY",
        "outputId": "2e7ec7a8-4d31-499a-dfcc-bb655835bebc"
      },
      "source": [
        "# Check number of class occurences\n",
        "\n"
      ],
      "execution_count": null,
      "outputs": [
        {
          "output_type": "execute_result",
          "data": {
            "text/plain": [
              "Iris-virginica     50\n",
              "Iris-setosa        50\n",
              "Iris-versicolor    50\n",
              "Name: Species, dtype: int64"
            ]
          },
          "metadata": {},
          "execution_count": 70
        }
      ]
    },
    {
      "cell_type": "markdown",
      "metadata": {
        "id": "8BaqDNJPA7Cn"
      },
      "source": [
        "# Train-Test Split"
      ]
    },
    {
      "cell_type": "code",
      "metadata": {
        "id": "Q8XQT5ltBB7s"
      },
      "source": [
        "from sklearn.model_selection import train_test_split"
      ],
      "execution_count": null,
      "outputs": []
    },
    {
      "cell_type": "code",
      "metadata": {
        "id": "obArJPkFBbcZ"
      },
      "source": [
        "# Assing to X features, y class labels\n",
        "\n"
      ],
      "execution_count": null,
      "outputs": []
    },
    {
      "cell_type": "code",
      "metadata": {
        "id": "eRvfWqJEBfIk"
      },
      "source": [
        "# Train - Test Split (test_size = 0.3, random_state = 101)\n",
        "\n",
        "\n"
      ],
      "execution_count": null,
      "outputs": []
    },
    {
      "cell_type": "code",
      "metadata": {
        "colab": {
          "base_uri": "https://localhost:8080/"
        },
        "id": "zI2pJRenCPql",
        "outputId": "4b53b5c5-dc75-412b-b3cc-38da2d2c4199"
      },
      "source": [
        "# Simple Check\n",
        "\n",
        "print(X_train.shape)\n",
        "print(X_test.shape)\n",
        "print(y_train.shape)\n",
        "print(y_test.shape)"
      ],
      "execution_count": null,
      "outputs": [
        {
          "output_type": "stream",
          "name": "stdout",
          "text": [
            "(105, 4)\n",
            "(45, 4)\n",
            "(105,)\n",
            "(45,)\n"
          ]
        }
      ]
    },
    {
      "cell_type": "markdown",
      "metadata": {
        "id": "T9JovZLfCSHD"
      },
      "source": [
        "# Support Vector Machines (SVM) Classifier"
      ]
    },
    {
      "cell_type": "code",
      "metadata": {
        "id": "fmE7Orl1DXF2"
      },
      "source": [
        "from sklearn.svm import SVC"
      ],
      "execution_count": null,
      "outputs": []
    },
    {
      "cell_type": "code",
      "metadata": {
        "id": "ZQlgAXoaDkGs"
      },
      "source": [
        "# Instanstiatte the Model\n",
        "\n"
      ],
      "execution_count": null,
      "outputs": []
    },
    {
      "cell_type": "code",
      "metadata": {
        "colab": {
          "base_uri": "https://localhost:8080/"
        },
        "id": "4jhOpRIlDm3k",
        "outputId": "8f52598d-5895-4698-f641-9891195ccab8"
      },
      "source": [
        "# Fit the model\n",
        "\n"
      ],
      "execution_count": null,
      "outputs": [
        {
          "output_type": "execute_result",
          "data": {
            "text/plain": [
              "SVC()"
            ]
          },
          "metadata": {},
          "execution_count": 77
        }
      ]
    },
    {
      "cell_type": "code",
      "metadata": {
        "id": "f03AcqqsEJN8"
      },
      "source": [
        "# Predict\n",
        "\n"
      ],
      "execution_count": null,
      "outputs": []
    },
    {
      "cell_type": "code",
      "metadata": {
        "id": "N0dlPhLREjEf"
      },
      "source": [
        "# Classification Metrics\n",
        "\n",
        "from sklearn.metrics import classification_report, confusion_matrix"
      ],
      "execution_count": null,
      "outputs": []
    },
    {
      "cell_type": "code",
      "metadata": {
        "colab": {
          "base_uri": "https://localhost:8080/"
        },
        "id": "I1TsOtdaEsTG",
        "outputId": "ba4abb49-67ee-4baf-e486-54c2cdfa1bf2"
      },
      "source": [
        "# Confusion Matrix\n",
        "\n"
      ],
      "execution_count": null,
      "outputs": [
        {
          "output_type": "stream",
          "name": "stdout",
          "text": [
            "[[13  0  0]\n",
            " [ 0 19  1]\n",
            " [ 0  0 12]]\n"
          ]
        }
      ]
    },
    {
      "cell_type": "code",
      "metadata": {
        "colab": {
          "base_uri": "https://localhost:8080/",
          "height": 282
        },
        "id": "pEHzwGwZEuXX",
        "outputId": "d783f90f-55ad-404a-d777-b48b92a80437"
      },
      "source": [
        "# Confusion Matrix (1)\n",
        "\n"
      ],
      "execution_count": null,
      "outputs": [
        {
          "output_type": "execute_result",
          "data": {
            "text/plain": [
              "<matplotlib.axes._subplots.AxesSubplot at 0x7f4c1cc34a10>"
            ]
          },
          "metadata": {},
          "execution_count": 81
        },
        {
          "output_type": "display_data",
          "data": {
            "image/png": "[encoded data removed]",
            "text/plain": [
              "<Figure size 432x288 with 2 Axes>"
            ]
          },
          "metadata": {
            "needs_background": "light"
          }
        }
      ]
    },
    {
      "cell_type": "code",
      "metadata": {
        "colab": {
          "base_uri": "https://localhost:8080/"
        },
        "id": "Tv0RWq4_FdqZ",
        "outputId": "1ff8219f-19d3-47a4-86c3-59f6660c8843"
      },
      "source": [
        "# Classification Report\n",
        "\n"
      ],
      "execution_count": null,
      "outputs": [
        {
          "output_type": "stream",
          "name": "stdout",
          "text": [
            "                 precision    recall  f1-score   support\n",
            "\n",
            "    Iris-setosa       1.00      1.00      1.00        13\n",
            "Iris-versicolor       1.00      0.95      0.97        20\n",
            " Iris-virginica       0.92      1.00      0.96        12\n",
            "\n",
            "       accuracy                           0.98        45\n",
            "      macro avg       0.97      0.98      0.98        45\n",
            "   weighted avg       0.98      0.98      0.98        45\n",
            "\n"
          ]
        }
      ]
    },
    {
      "cell_type": "markdown",
      "metadata": {
        "id": "E2nfzz6gF-Uc"
      },
      "source": [
        "# Improving Hyperparameters using Grid Search Technique"
      ]
    },
    {
      "cell_type": "code",
      "metadata": {
        "id": "1fYiF_0pHJ-D"
      },
      "source": [
        "# Import GridSearch\n",
        "\n",
        "from sklearn.model_selection import GridSearchCV"
      ],
      "execution_count": null,
      "outputs": []
    },
    {
      "cell_type": "code",
      "metadata": {
        "id": "FKG4OBsNHexx"
      },
      "source": [
        "# Test for Parameter Grid\n",
        "\n"
      ],
      "execution_count": null,
      "outputs": []
    },
    {
      "cell_type": "code",
      "metadata": {
        "id": "LF-HGnmTIBVR"
      },
      "source": [
        "# Instantiate Grid Search using the Parameter Grid, verbose = 3\n",
        "\n"
      ],
      "execution_count": null,
      "outputs": []
    },
    {
      "cell_type": "code",
      "metadata": {
        "colab": {
          "base_uri": "https://localhost:8080/"
        },
        "id": "oSH0bd2QIgTO",
        "outputId": "297b0ce9-033c-47e0-a919-ccef98c3a58e"
      },
      "source": [
        "# Fit the Grid on training sets\n",
        "\n"
      ],
      "execution_count": null,
      "outputs": [
        {
          "output_type": "stream",
          "name": "stdout",
          "text": [
            "Fitting 5 folds for each of 25 candidates, totalling 125 fits\n",
            "[CV 1/5] END ....................C=0.1, gamma=1;, score=0.905 total time=   0.0s\n",
            "[CV 2/5] END ....................C=0.1, gamma=1;, score=1.000 total time=   0.0s\n",
            "[CV 3/5] END ....................C=0.1, gamma=1;, score=0.905 total time=   0.0s\n",
            "[CV 4/5] END ....................C=0.1, gamma=1;, score=0.905 total time=   0.0s\n",
            "[CV 5/5] END ....................C=0.1, gamma=1;, score=0.952 total time=   0.0s\n",
            "[CV 1/5] END ..................C=0.1, gamma=0.1;, score=0.857 total time=   0.0s\n",
            "[CV 2/5] END ..................C=0.1, gamma=0.1;, score=0.714 total time=   0.0s\n",
            "[CV 3/5] END ..................C=0.1, gamma=0.1;, score=0.857 total time=   0.0s\n",
            "[CV 4/5] END ..................C=0.1, gamma=0.1;, score=0.810 total time=   0.0s\n",
            "[CV 5/5] END ..................C=0.1, gamma=0.1;, score=0.810 total time=   0.0s\n",
            "[CV 1/5] END .................C=0.1, gamma=0.01;, score=0.714 total time=   0.0s\n",
            "[CV 2/5] END .................C=0.1, gamma=0.01;, score=0.714 total time=   0.0s\n",
            "[CV 3/5] END .................C=0.1, gamma=0.01;, score=0.714 total time=   0.0s\n",
            "[CV 4/5] END .................C=0.1, gamma=0.01;, score=0.714 total time=   0.0s\n",
            "[CV 5/5] END .................C=0.1, gamma=0.01;, score=0.714 total time=   0.0s\n",
            "[CV 1/5] END ................C=0.1, gamma=0.001;, score=0.333 total time=   0.0s\n",
            "[CV 2/5] END ................C=0.1, gamma=0.001;, score=0.333 total time=   0.0s\n",
            "[CV 3/5] END ................C=0.1, gamma=0.001;, score=0.714 total time=   0.0s\n",
            "[CV 4/5] END ................C=0.1, gamma=0.001;, score=0.714 total time=   0.0s\n",
            "[CV 5/5] END ................C=0.1, gamma=0.001;, score=0.714 total time=   0.0s\n",
            "[CV 1/5] END ...............C=0.1, gamma=0.0001;, score=0.333 total time=   0.0s\n",
            "[CV 2/5] END ...............C=0.1, gamma=0.0001;, score=0.333 total time=   0.0s\n",
            "[CV 3/5] END ...............C=0.1, gamma=0.0001;, score=0.714 total time=   0.0s\n",
            "[CV 4/5] END ...............C=0.1, gamma=0.0001;, score=0.714 total time=   0.0s\n",
            "[CV 5/5] END ...............C=0.1, gamma=0.0001;, score=0.714 total time=   0.0s\n",
            "[CV 1/5] END ......................C=1, gamma=1;, score=1.000 total time=   0.0s\n",
            "[CV 2/5] END ......................C=1, gamma=1;, score=0.905 total time=   0.0s\n",
            "[CV 3/5] END ......................C=1, gamma=1;, score=0.905 total time=   0.0s\n",
            "[CV 4/5] END ......................C=1, gamma=1;, score=0.952 total time=   0.0s\n",
            "[CV 5/5] END ......................C=1, gamma=1;, score=0.952 total time=   0.0s\n",
            "[CV 1/5] END ....................C=1, gamma=0.1;, score=1.000 total time=   0.0s\n",
            "[CV 2/5] END ....................C=1, gamma=0.1;, score=1.000 total time=   0.0s\n",
            "[CV 3/5] END ....................C=1, gamma=0.1;, score=0.905 total time=   0.0s\n",
            "[CV 4/5] END ....................C=1, gamma=0.1;, score=0.905 total time=   0.0s\n",
            "[CV 5/5] END ....................C=1, gamma=0.1;, score=1.000 total time=   0.0s\n",
            "[CV 1/5] END ...................C=1, gamma=0.01;, score=0.952 total time=   0.0s\n",
            "[CV 2/5] END ...................C=1, gamma=0.01;, score=0.810 total time=   0.0s\n",
            "[CV 3/5] END ...................C=1, gamma=0.01;, score=0.857 total time=   0.0s\n",
            "[CV 4/5] END ...................C=1, gamma=0.01;, score=0.857 total time=   0.0s\n",
            "[CV 5/5] END ...................C=1, gamma=0.01;, score=0.905 total time=   0.0s\n",
            "[CV 1/5] END ..................C=1, gamma=0.001;, score=0.714 total time=   0.0s\n",
            "[CV 2/5] END ..................C=1, gamma=0.001;, score=0.714 total time=   0.0s\n",
            "[CV 3/5] END ..................C=1, gamma=0.001;, score=0.714 total time=   0.0s\n",
            "[CV 4/5] END ..................C=1, gamma=0.001;, score=0.714 total time=   0.0s\n",
            "[CV 5/5] END ..................C=1, gamma=0.001;, score=0.714 total time=   0.0s\n",
            "[CV 1/5] END .................C=1, gamma=0.0001;, score=0.333 total time=   0.0s\n",
            "[CV 2/5] END .................C=1, gamma=0.0001;, score=0.333 total time=   0.0s\n",
            "[CV 3/5] END .................C=1, gamma=0.0001;, score=0.714 total time=   0.0s\n",
            "[CV 4/5] END .................C=1, gamma=0.0001;, score=0.714 total time=   0.0s\n",
            "[CV 5/5] END .................C=1, gamma=0.0001;, score=0.714 total time=   0.0s\n",
            "[CV 1/5] END .....................C=10, gamma=1;, score=1.000 total time=   0.0s\n",
            "[CV 2/5] END .....................C=10, gamma=1;, score=0.905 total time=   0.0s\n",
            "[CV 3/5] END .....................C=10, gamma=1;, score=0.905 total time=   0.0s\n",
            "[CV 4/5] END .....................C=10, gamma=1;, score=0.905 total time=   0.0s\n",
            "[CV 5/5] END .....................C=10, gamma=1;, score=0.952 total time=   0.0s\n",
            "[CV 1/5] END ...................C=10, gamma=0.1;, score=1.000 total time=   0.0s\n",
            "[CV 2/5] END ...................C=10, gamma=0.1;, score=1.000 total time=   0.0s\n",
            "[CV 3/5] END ...................C=10, gamma=0.1;, score=0.905 total time=   0.0s\n",
            "[CV 4/5] END ...................C=10, gamma=0.1;, score=0.905 total time=   0.0s\n",
            "[CV 5/5] END ...................C=10, gamma=0.1;, score=0.952 total time=   0.0s\n",
            "[CV 1/5] END ..................C=10, gamma=0.01;, score=1.000 total time=   0.0s\n",
            "[CV 2/5] END ..................C=10, gamma=0.01;, score=1.000 total time=   0.0s\n",
            "[CV 3/5] END ..................C=10, gamma=0.01;, score=0.905 total time=   0.0s\n",
            "[CV 4/5] END ..................C=10, gamma=0.01;, score=0.905 total time=   0.0s\n",
            "[CV 5/5] END ..................C=10, gamma=0.01;, score=1.000 total time=   0.0s\n",
            "[CV 1/5] END .................C=10, gamma=0.001;, score=0.952 total time=   0.0s\n",
            "[CV 2/5] END .................C=10, gamma=0.001;, score=0.810 total time=   0.0s\n",
            "[CV 3/5] END .................C=10, gamma=0.001;, score=0.857 total time=   0.0s\n",
            "[CV 4/5] END .................C=10, gamma=0.001;, score=0.857 total time=   0.0s\n",
            "[CV 5/5] END .................C=10, gamma=0.001;, score=0.905 total time=   0.0s\n",
            "[CV 1/5] END ................C=10, gamma=0.0001;, score=0.714 total time=   0.0s\n",
            "[CV 2/5] END ................C=10, gamma=0.0001;, score=0.714 total time=   0.0s\n",
            "[CV 3/5] END ................C=10, gamma=0.0001;, score=0.714 total time=   0.0s\n",
            "[CV 4/5] END ................C=10, gamma=0.0001;, score=0.714 total time=   0.0s\n",
            "[CV 5/5] END ................C=10, gamma=0.0001;, score=0.714 total time=   0.0s\n",
            "[CV 1/5] END ....................C=100, gamma=1;, score=1.000 total time=   0.0s\n",
            "[CV 2/5] END ....................C=100, gamma=1;, score=0.905 total time=   0.0s\n",
            "[CV 3/5] END ....................C=100, gamma=1;, score=0.857 total time=   0.0s\n",
            "[CV 4/5] END ....................C=100, gamma=1;, score=0.905 total time=   0.0s\n",
            "[CV 5/5] END ....................C=100, gamma=1;, score=0.952 total time=   0.0s\n",
            "[CV 1/5] END ..................C=100, gamma=0.1;, score=1.000 total time=   0.0s\n",
            "[CV 2/5] END ..................C=100, gamma=0.1;, score=0.905 total time=   0.0s\n",
            "[CV 3/5] END ..................C=100, gamma=0.1;, score=0.857 total time=   0.0s\n",
            "[CV 4/5] END ..................C=100, gamma=0.1;, score=0.905 total time=   0.0s\n",
            "[CV 5/5] END ..................C=100, gamma=0.1;, score=0.952 total time=   0.0s\n",
            "[CV 1/5] END .................C=100, gamma=0.01;, score=1.000 total time=   0.0s\n",
            "[CV 2/5] END .................C=100, gamma=0.01;, score=1.000 total time=   0.0s\n",
            "[CV 3/5] END .................C=100, gamma=0.01;, score=0.905 total time=   0.0s\n",
            "[CV 4/5] END .................C=100, gamma=0.01;, score=0.905 total time=   0.0s\n",
            "[CV 5/5] END .................C=100, gamma=0.01;, score=0.952 total time=   0.0s\n",
            "[CV 1/5] END ................C=100, gamma=0.001;, score=1.000 total time=   0.0s\n",
            "[CV 2/5] END ................C=100, gamma=0.001;, score=1.000 total time=   0.0s\n",
            "[CV 3/5] END ................C=100, gamma=0.001;, score=0.905 total time=   0.0s\n",
            "[CV 4/5] END ................C=100, gamma=0.001;, score=0.905 total time=   0.0s\n",
            "[CV 5/5] END ................C=100, gamma=0.001;, score=1.000 total time=   0.0s\n",
            "[CV 1/5] END ...............C=100, gamma=0.0001;, score=0.952 total time=   0.0s\n",
            "[CV 2/5] END ...............C=100, gamma=0.0001;, score=0.810 total time=   0.0s\n",
            "[CV 3/5] END ...............C=100, gamma=0.0001;, score=0.857 total time=   0.0s\n",
            "[CV 4/5] END ...............C=100, gamma=0.0001;, score=0.857 total time=   0.0s\n",
            "[CV 5/5] END ...............C=100, gamma=0.0001;, score=0.905 total time=   0.0s\n",
            "[CV 1/5] END ...................C=1000, gamma=1;, score=1.000 total time=   0.0s\n",
            "[CV 2/5] END ...................C=1000, gamma=1;, score=0.905 total time=   0.0s\n",
            "[CV 3/5] END ...................C=1000, gamma=1;, score=0.857 total time=   0.0s\n",
            "[CV 4/5] END ...................C=1000, gamma=1;, score=0.905 total time=   0.0s\n",
            "[CV 5/5] END ...................C=1000, gamma=1;, score=0.952 total time=   0.0s\n",
            "[CV 1/5] END .................C=1000, gamma=0.1;, score=1.000 total time=   0.0s\n",
            "[CV 2/5] END .................C=1000, gamma=0.1;, score=0.905 total time=   0.0s\n",
            "[CV 3/5] END .................C=1000, gamma=0.1;, score=0.857 total time=   0.0s\n",
            "[CV 4/5] END .................C=1000, gamma=0.1;, score=0.905 total time=   0.0s\n",
            "[CV 5/5] END .................C=1000, gamma=0.1;, score=0.952 total time=   0.0s\n",
            "[CV 1/5] END ................C=1000, gamma=0.01;, score=1.000 total time=   0.0s\n",
            "[CV 2/5] END ................C=1000, gamma=0.01;, score=1.000 total time=   0.0s\n",
            "[CV 3/5] END ................C=1000, gamma=0.01;, score=0.857 total time=   0.0s\n",
            "[CV 4/5] END ................C=1000, gamma=0.01;, score=0.905 total time=   0.0s\n",
            "[CV 5/5] END ................C=1000, gamma=0.01;, score=0.952 total time=   0.0s\n",
            "[CV 1/5] END ...............C=1000, gamma=0.001;, score=1.000 total time=   0.0s\n",
            "[CV 2/5] END ...............C=1000, gamma=0.001;, score=1.000 total time=   0.0s\n",
            "[CV 3/5] END ...............C=1000, gamma=0.001;, score=0.905 total time=   0.0s\n",
            "[CV 4/5] END ...............C=1000, gamma=0.001;, score=0.905 total time=   0.0s\n",
            "[CV 5/5] END ...............C=1000, gamma=0.001;, score=0.952 total time=   0.0s\n",
            "[CV 1/5] END ..............C=1000, gamma=0.0001;, score=1.000 total time=   0.0s\n",
            "[CV 2/5] END ..............C=1000, gamma=0.0001;, score=1.000 total time=   0.0s\n",
            "[CV 3/5] END ..............C=1000, gamma=0.0001;, score=0.905 total time=   0.0s\n",
            "[CV 4/5] END ..............C=1000, gamma=0.0001;, score=0.905 total time=   0.0s\n",
            "[CV 5/5] END ..............C=1000, gamma=0.0001;, score=1.000 total time=   0.0s\n"
          ]
        },
        {
          "output_type": "execute_result",
          "data": {
            "text/plain": [
              "GridSearchCV(estimator=SVC(),\n",
              "             param_grid={'C': [0.1, 1, 10, 100, 1000],\n",
              "                         'gamma': [1, 0.1, 0.01, 0.001, 0.0001]},\n",
              "             verbose=3)"
            ]
          },
          "metadata": {},
          "execution_count": 86
        }
      ]
    },
    {
      "cell_type": "code",
      "metadata": {
        "colab": {
          "base_uri": "https://localhost:8080/"
        },
        "id": "oj127Gp-Inhb",
        "outputId": "88410071-f975-47b5-e069-ad71d5da22b7"
      },
      "source": [
        "# Best Parameters\n",
        "\n"
      ],
      "execution_count": null,
      "outputs": [
        {
          "output_type": "execute_result",
          "data": {
            "text/plain": [
              "{'C': 1, 'gamma': 0.1}"
            ]
          },
          "metadata": {},
          "execution_count": 87
        }
      ]
    },
    {
      "cell_type": "code",
      "metadata": {
        "colab": {
          "base_uri": "https://localhost:8080/"
        },
        "id": "za2tRhOoIvsL",
        "outputId": "2390d6e5-36be-4d17-f01d-de26506ade3b"
      },
      "source": [
        "# Best Estimator\n",
        "\n"
      ],
      "execution_count": null,
      "outputs": [
        {
          "output_type": "execute_result",
          "data": {
            "text/plain": [
              "SVC(C=1, gamma=0.1)"
            ]
          },
          "metadata": {},
          "execution_count": 88
        }
      ]
    },
    {
      "cell_type": "code",
      "metadata": {
        "id": "50cGneo2JSt9"
      },
      "source": [
        "# Rerun with best parameters to predict on X_test\n",
        "\n"
      ],
      "execution_count": null,
      "outputs": []
    },
    {
      "cell_type": "code",
      "metadata": {
        "colab": {
          "base_uri": "https://localhost:8080/",
          "height": 282
        },
        "id": "kh9Vhr-2I4F6",
        "outputId": "5468568c-00d7-4608-b48d-e3dce38c9439"
      },
      "source": [
        "# Evaluation Again()\n",
        "# Confusion Matrix (2)\n",
        "\n",
        "\n",
        "\n"
      ],
      "execution_count": null,
      "outputs": [
        {
          "output_type": "execute_result",
          "data": {
            "text/plain": [
              "<matplotlib.axes._subplots.AxesSubplot at 0x7f4c1cbde750>"
            ]
          },
          "metadata": {},
          "execution_count": 90
        },
        {
          "output_type": "display_data",
          "data": {
            "image/png": "[encoded data removed]",
            "text/plain": [
              "<Figure size 432x288 with 2 Axes>"
            ]
          },
          "metadata": {
            "needs_background": "light"
          }
        }
      ]
    },
    {
      "cell_type": "code",
      "metadata": {
        "colab": {
          "base_uri": "https://localhost:8080/"
        },
        "id": "Ss6o_Ub3Jd6Y",
        "outputId": "084469f1-1468-458a-e592-3f2986c4344f"
      },
      "source": [
        "# Classification Report (2) with Grid Search (Hint: No accuracy changes, already the best parameters)\n",
        "\n"
      ],
      "execution_count": null,
      "outputs": [
        {
          "output_type": "stream",
          "name": "stdout",
          "text": [
            "                 precision    recall  f1-score   support\n",
            "\n",
            "    Iris-setosa       1.00      1.00      1.00        13\n",
            "Iris-versicolor       1.00      0.95      0.97        20\n",
            " Iris-virginica       0.92      1.00      0.96        12\n",
            "\n",
            "       accuracy                           0.98        45\n",
            "      macro avg       0.97      0.98      0.98        45\n",
            "   weighted avg       0.98      0.98      0.98        45\n",
            "\n"
          ]
        }
      ]
    }
  ]
}