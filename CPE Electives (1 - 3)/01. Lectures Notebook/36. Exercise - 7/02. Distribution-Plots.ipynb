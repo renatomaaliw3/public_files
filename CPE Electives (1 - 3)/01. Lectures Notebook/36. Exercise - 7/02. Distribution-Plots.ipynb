{
  "nbformat": 4,
  "nbformat_minor": 0,
  "metadata": {
    "anaconda-cloud": {},
    "kernelspec": {
      "display_name": "Python 3",
      "language": "python",
      "name": "python3"
    },
    "language_info": {
      "codemirror_mode": {
        "name": "ipython",
        "version": 3
      },
      "file_extension": ".py",
      "mimetype": "text/x-python",
      "name": "python",
      "nbconvert_exporter": "python",
      "pygments_lexer": "ipython3",
      "version": "3.7.6"
    },
    "colab": {
      "name": "01-Distribution-Plots.ipynb",
      "provenance": [],
      "collapsed_sections": []
    }
  },
  "cells": [
    {
      "cell_type": "markdown",
      "metadata": {
        "id": "chx-Ho8FzamH"
      },
      "source": [
        "# Distributions\n",
        "\n",
        "There are many ways to display the distributions of a feature. In this notebook we explore 3 related plots for displaying a distribution,  the rugplot , the distplot (histogram), and kdeplot.\n",
        "\n"
      ]
    },
    {
      "cell_type": "markdown",
      "metadata": {
        "id": "2TDd8a5ozamI"
      },
      "source": [
        "-----\n",
        "\n",
        "### IMPORTANT NOTE!\n",
        "\n",
        "**DO NOT WORRY IF YOUR PLOTS STYLING APPEARS SLIGHTLY DIFFERENT, WE WILL SHOW YOU HOW TO EDIT THE COLOR AND STYLE OF THE PLOTS LATER ON!**"
      ]
    },
    {
      "cell_type": "markdown",
      "metadata": {
        "id": "ZUtwc4AdzamI"
      },
      "source": [
        "----\n",
        "## Data\n",
        "\n",
        "We'll use some generated data from: http://roycekimmons.com/tools/generated_data\n",
        "\n"
      ]
    },
    {
      "cell_type": "code",
      "metadata": {
        "id": "HlzKSz8xzamJ"
      },
      "source": [
        "import numpy as np\n",
        "import pandas as pd\n",
        "import matplotlib.pyplot as plt\n",
        "import seaborn as sns"
      ],
      "execution_count": null,
      "outputs": []
    },
    {
      "cell_type": "code",
      "metadata": {
        "id": "o2gQePSUzamK"
      },
      "source": [
        "df = pd.read_csv(\"dm_office_sales.csv\")"
      ],
      "execution_count": null,
      "outputs": []
    },
    {
      "cell_type": "code",
      "metadata": {
        "id": "i8oHQfvOzamK",
        "outputId": "9094c07b-f0c1-4603-f79b-4fc130b7c2f2"
      },
      "source": [
        "df.head()"
      ],
      "execution_count": null,
      "outputs": [
        {
          "output_type": "execute_result",
          "data": {
            "text/html": [
              "<div>\n",
              "<style scoped>\n",
              "    .dataframe tbody tr th:only-of-type {\n",
              "        vertical-align: middle;\n",
              "    }\n",
              "\n",
              "    .dataframe tbody tr th {\n",
              "        vertical-align: top;\n",
              "    }\n",
              "\n",
              "    .dataframe thead th {\n",
              "        text-align: right;\n",
              "    }\n",
              "</style>\n",
              "<table border=\"1\" class=\"dataframe\">\n",
              "  <thead>\n",
              "    <tr style=\"text-align: right;\">\n",
              "      <th></th>\n",
              "      <th>division</th>\n",
              "      <th>level of education</th>\n",
              "      <th>training level</th>\n",
              "      <th>work experience</th>\n",
              "      <th>salary</th>\n",
              "      <th>sales</th>\n",
              "    </tr>\n",
              "  </thead>\n",
              "  <tbody>\n",
              "    <tr>\n",
              "      <th>0</th>\n",
              "      <td>printers</td>\n",
              "      <td>some college</td>\n",
              "      <td>2</td>\n",
              "      <td>6</td>\n",
              "      <td>91684</td>\n",
              "      <td>372302</td>\n",
              "    </tr>\n",
              "    <tr>\n",
              "      <th>1</th>\n",
              "      <td>printers</td>\n",
              "      <td>associate's degree</td>\n",
              "      <td>2</td>\n",
              "      <td>10</td>\n",
              "      <td>119679</td>\n",
              "      <td>495660</td>\n",
              "    </tr>\n",
              "    <tr>\n",
              "      <th>2</th>\n",
              "      <td>peripherals</td>\n",
              "      <td>high school</td>\n",
              "      <td>0</td>\n",
              "      <td>9</td>\n",
              "      <td>82045</td>\n",
              "      <td>320453</td>\n",
              "    </tr>\n",
              "    <tr>\n",
              "      <th>3</th>\n",
              "      <td>office supplies</td>\n",
              "      <td>associate's degree</td>\n",
              "      <td>2</td>\n",
              "      <td>5</td>\n",
              "      <td>92949</td>\n",
              "      <td>377148</td>\n",
              "    </tr>\n",
              "    <tr>\n",
              "      <th>4</th>\n",
              "      <td>office supplies</td>\n",
              "      <td>high school</td>\n",
              "      <td>1</td>\n",
              "      <td>5</td>\n",
              "      <td>71280</td>\n",
              "      <td>312802</td>\n",
              "    </tr>\n",
              "  </tbody>\n",
              "</table>\n",
              "</div>"
            ],
            "text/plain": [
              "          division  level of education  training level  work experience  \\\n",
              "0         printers        some college               2                6   \n",
              "1         printers  associate's degree               2               10   \n",
              "2      peripherals         high school               0                9   \n",
              "3  office supplies  associate's degree               2                5   \n",
              "4  office supplies         high school               1                5   \n",
              "\n",
              "   salary   sales  \n",
              "0   91684  372302  \n",
              "1  119679  495660  \n",
              "2   82045  320453  \n",
              "3   92949  377148  \n",
              "4   71280  312802  "
            ]
          },
          "metadata": {
            "tags": []
          },
          "execution_count": 3
        }
      ]
    },
    {
      "cell_type": "markdown",
      "metadata": {
        "id": "N-7gAYIbzamM"
      },
      "source": [
        "-----"
      ]
    },
    {
      "cell_type": "markdown",
      "metadata": {
        "id": "abLSLQEQzamM"
      },
      "source": [
        "## Rugplot\n",
        "\n",
        "Very simple plot that puts down one mark per data point. This plot needs the single array passed in directly. We won't use it too much since its not very clarifying for large data sets."
      ]
    },
    {
      "cell_type": "code",
      "metadata": {
        "id": "04t2ZwbWzamN"
      },
      "source": [
        "import seaborn as sns"
      ],
      "execution_count": null,
      "outputs": []
    },
    {
      "cell_type": "code",
      "metadata": {
        "id": "THJy-zbnzamN",
        "outputId": "c7732911-ecf6-48b8-b1e8-2ccbefdae823"
      },
      "source": [
        ""
      ],
      "execution_count": null,
      "outputs": [
        {
          "output_type": "execute_result",
          "data": {
            "text/plain": [
              "<AxesSubplot:xlabel='salary'>"
            ]
          },
          "metadata": {
            "tags": []
          },
          "execution_count": 6
        },
        {
          "output_type": "display_data",
          "data": {
            "image/png": "[encoded data removed]",
            "text/plain": [
              "<Figure size 432x288 with 1 Axes>"
            ]
          },
          "metadata": {
            "tags": [],
            "needs_background": "light"
          }
        }
      ]
    },
    {
      "cell_type": "code",
      "metadata": {
        "id": "8a_D2i6tzamO",
        "outputId": "b23d633d-021b-4c4a-9ec3-8006769c811f"
      },
      "source": [
        "# rugplot has a height parameter"
      ],
      "execution_count": null,
      "outputs": [
        {
          "output_type": "execute_result",
          "data": {
            "text/plain": [
              "<AxesSubplot:xlabel='salary'>"
            ]
          },
          "metadata": {
            "tags": []
          },
          "execution_count": 7
        },
        {
          "output_type": "display_data",
          "data": {
            "image/png": "[encoded data removed]",
            "text/plain": [
              "<Figure size 432x288 with 1 Axes>"
            ]
          },
          "metadata": {
            "tags": [],
            "needs_background": "light"
          }
        }
      ]
    },
    {
      "cell_type": "markdown",
      "metadata": {
        "id": "tfgndGRuzamO"
      },
      "source": [
        "## displot() and histplot()  \n",
        "The rugplot itself is not very informative for larger data sets distribution around the mean since so many ticks makes it hard to distinguish one tick from another. Instead we should count the number of tick marks per some segment of the x axis, then construct a histogram from this.\n",
        "\n",
        "The displot is a plot type that can show you the distribution of a single feature. It is a histogram with the option of adding a \"KDE\" plot (Kernel Density Estimation) on top of the histogram. Let's explore its use cases and syntax."
      ]
    },
    {
      "cell_type": "code",
      "metadata": {
        "id": "4RGdmvb6zamP",
        "outputId": "aeb58e0c-b184-4ec9-a4da-971fd49b39a9"
      },
      "source": [
        "sns.displot(data=df,x='salary',kde=True)"
      ],
      "execution_count": null,
      "outputs": [
        {
          "output_type": "execute_result",
          "data": {
            "text/plain": [
              "<seaborn.axisgrid.FacetGrid at 0x26e5cd14cc8>"
            ]
          },
          "metadata": {
            "tags": []
          },
          "execution_count": 8
        },
        {
          "output_type": "display_data",
          "data": {
            "image/png": "[encoded data removed]",
            "text/plain": [
              "<Figure size 360x360 with 1 Axes>"
            ]
          },
          "metadata": {
            "tags": [],
            "needs_background": "light"
          }
        }
      ]
    },
    {
      "cell_type": "markdown",
      "metadata": {
        "id": "hrJlriXMzamP"
      },
      "source": [
        "### Focusing on the Histogram"
      ]
    },
    {
      "cell_type": "code",
      "metadata": {
        "id": "CZ7LbJxXzamP",
        "outputId": "6cde6174-34f8-4152-e306-a258f8106c0f"
      },
      "source": [
        ""
      ],
      "execution_count": null,
      "outputs": [
        {
          "output_type": "execute_result",
          "data": {
            "text/plain": [
              "<seaborn.axisgrid.FacetGrid at 0x26e5ce18748>"
            ]
          },
          "metadata": {
            "tags": []
          },
          "execution_count": 9
        },
        {
          "output_type": "display_data",
          "data": {
            "image/png": "[encoded data removed]",
            "text/plain": [
              "<Figure size 360x360 with 1 Axes>"
            ]
          },
          "metadata": {
            "tags": [],
            "needs_background": "light"
          }
        }
      ]
    },
    {
      "cell_type": "code",
      "metadata": {
        "id": "xXOyPFB8zamQ",
        "outputId": "9fef79b9-299e-4b2e-bf06-c3bbf229e51b"
      },
      "source": [
        ""
      ],
      "execution_count": null,
      "outputs": [
        {
          "output_type": "execute_result",
          "data": {
            "text/plain": [
              "<AxesSubplot:xlabel='salary', ylabel='Count'>"
            ]
          },
          "metadata": {
            "tags": []
          },
          "execution_count": 10
        },
        {
          "output_type": "display_data",
          "data": {
            "image/png": "[encoded data removed]",
            "text/plain": [
              "<Figure size 432x288 with 1 Axes>"
            ]
          },
          "metadata": {
            "tags": [],
            "needs_background": "light"
          }
        }
      ]
    },
    {
      "cell_type": "markdown",
      "metadata": {
        "id": "aLYbalXwzamQ"
      },
      "source": [
        "### Number of Bins"
      ]
    },
    {
      "cell_type": "code",
      "metadata": {
        "id": "VRyHHS70zamQ",
        "outputId": "c1c05edd-965e-4b15-fb09-710c4db58419"
      },
      "source": [
        "# 10 bins"
      ],
      "execution_count": null,
      "outputs": [
        {
          "output_type": "execute_result",
          "data": {
            "text/plain": [
              "<AxesSubplot:xlabel='salary', ylabel='Count'>"
            ]
          },
          "metadata": {
            "tags": []
          },
          "execution_count": 11
        },
        {
          "output_type": "display_data",
          "data": {
            "image/png": "[encoded data removed]",
            "text/plain": [
              "<Figure size 432x288 with 1 Axes>"
            ]
          },
          "metadata": {
            "tags": [],
            "needs_background": "light"
          }
        }
      ]
    },
    {
      "cell_type": "code",
      "metadata": {
        "id": "InJ1X2GezamR",
        "outputId": "6cebeac1-ffeb-4ca7-e0a7-8f346a89e756"
      },
      "source": [
        "# 100 bins"
      ],
      "execution_count": null,
      "outputs": [
        {
          "output_type": "execute_result",
          "data": {
            "text/plain": [
              "<AxesSubplot:xlabel='salary', ylabel='Count'>"
            ]
          },
          "metadata": {
            "tags": []
          },
          "execution_count": 12
        },
        {
          "output_type": "display_data",
          "data": {
            "image/png": "[encoded data removed]",
            "text/plain": [
              "<Figure size 432x288 with 1 Axes>"
            ]
          },
          "metadata": {
            "tags": [],
            "needs_background": "light"
          }
        }
      ]
    },
    {
      "cell_type": "markdown",
      "metadata": {
        "id": "93iq7YcjzamR"
      },
      "source": [
        "### Adding in a grid and styles\n",
        "\n",
        "You can reset to a different default style: one of {darkgrid, whitegrid, dark, white, ticks}.\n",
        "\n",
        "In a later notebook and lecture we will cover custom styling in a lot more detail."
      ]
    },
    {
      "cell_type": "code",
      "metadata": {
        "id": "X-bvxiyzzamS",
        "outputId": "21aef0ce-0981-4522-9500-bc7284e4ea62"
      },
      "source": [
        "sns.set(style='darkgrid')\n"
      ],
      "execution_count": null,
      "outputs": [
        {
          "output_type": "execute_result",
          "data": {
            "text/plain": [
              "<AxesSubplot:xlabel='salary', ylabel='Count'>"
            ]
          },
          "metadata": {
            "tags": []
          },
          "execution_count": 13
        },
        {
          "output_type": "display_data",
          "data": {
            "image/png": "[encoded data removed]",
            "text/plain": [
              "<Figure size 432x288 with 1 Axes>"
            ]
          },
          "metadata": {
            "tags": []
          }
        }
      ]
    },
    {
      "cell_type": "code",
      "metadata": {
        "id": "aAwMTovuzamS",
        "outputId": "55027a6d-a0e2-4566-f415-478f845c2741"
      },
      "source": [
        "sns.set(style='white')\n"
      ],
      "execution_count": null,
      "outputs": [
        {
          "output_type": "execute_result",
          "data": {
            "text/plain": [
              "<AxesSubplot:xlabel='salary', ylabel='Count'>"
            ]
          },
          "metadata": {
            "tags": []
          },
          "execution_count": 14
        },
        {
          "output_type": "display_data",
          "data": {
            "image/png": "[encoded data removed]",
            "text/plain": [
              "<Figure size 432x288 with 1 Axes>"
            ]
          },
          "metadata": {
            "tags": []
          }
        }
      ]
    }
  ]
}