{
 "cells": [
  {
   "cell_type": "markdown",
   "metadata": {},
   "source": [
    "# Exercise 3"
   ]
  },
  {
   "cell_type": "code",
   "execution_count": 1,
   "metadata": {},
   "outputs": [],
   "source": [
    "import numpy as np\n",
    "import pandas as pd\n",
    "import statistics"
   ]
  },
  {
   "cell_type": "markdown",
   "metadata": {},
   "source": [
    "# Series"
   ]
  },
  {
   "cell_type": "markdown",
   "metadata": {},
   "source": [
    "## 1. Create the following data as a series using numpy arrays"
   ]
  },
  {
   "cell_type": "code",
   "execution_count": 2,
   "metadata": {},
   "outputs": [],
   "source": []
  },
  {
   "cell_type": "code",
   "execution_count": 3,
   "metadata": {},
   "outputs": [
    {
     "data": {
      "text/plain": [
       "0    A\n",
       "1    B\n",
       "2    C\n",
       "3    D\n",
       "4    E\n",
       "dtype: object"
      ]
     },
     "execution_count": 3,
     "metadata": {},
     "output_type": "execute_result"
    }
   ],
   "source": []
  },
  {
   "cell_type": "markdown",
   "metadata": {},
   "source": [
    "## 2. Create the following data as a series using numpy arrays with custom index"
   ]
  },
  {
   "cell_type": "code",
   "execution_count": 4,
   "metadata": {},
   "outputs": [],
   "source": []
  },
  {
   "cell_type": "code",
   "execution_count": 5,
   "metadata": {},
   "outputs": [
    {
     "data": {
      "text/plain": [
       "a    James\n",
       "b     Anna\n",
       "c      Sam\n",
       "d     Nick\n",
       "dtype: object"
      ]
     },
     "execution_count": 5,
     "metadata": {},
     "output_type": "execute_result"
    }
   ],
   "source": []
  },
  {
   "cell_type": "markdown",
   "metadata": {},
   "source": [
    "## 3. Create the following data as a series using dictionary with custom index"
   ]
  },
  {
   "cell_type": "code",
   "execution_count": 6,
   "metadata": {},
   "outputs": [],
   "source": []
  },
  {
   "cell_type": "code",
   "execution_count": 7,
   "metadata": {},
   "outputs": [
    {
     "data": {
      "text/plain": [
       "Harry      500\n",
       "James      300\n",
       "Dorothy    600\n",
       "Manny      100\n",
       "dtype: int64"
      ]
     },
     "execution_count": 7,
     "metadata": {},
     "output_type": "execute_result"
    }
   ],
   "source": []
  },
  {
   "cell_type": "markdown",
   "metadata": {},
   "source": [
    "## 4. Using the created series above (from dictionary) select specific parts of the series"
   ]
  },
  {
   "cell_type": "code",
   "execution_count": 8,
   "metadata": {},
   "outputs": [
    {
     "data": {
      "text/plain": [
       "James    300\n",
       "Manny    100\n",
       "dtype: int64"
      ]
     },
     "execution_count": 8,
     "metadata": {},
     "output_type": "execute_result"
    }
   ],
   "source": []
  },
  {
   "cell_type": "markdown",
   "metadata": {},
   "source": [
    "# Data Frame"
   ]
  },
  {
   "cell_type": "markdown",
   "metadata": {},
   "source": [
    "## 5. Create the Data Frame below from a 6x6 random int number"
   ]
  },
  {
   "cell_type": "code",
   "execution_count": 9,
   "metadata": {},
   "outputs": [],
   "source": [
    "np.random.seed(10) # please use this seeding in order to generate same random numbers"
   ]
  },
  {
   "cell_type": "code",
   "execution_count": 10,
   "metadata": {},
   "outputs": [
    {
     "data": {
      "text/html": [
       "<div>\n",
       "<style scoped>\n",
       "    .dataframe tbody tr th:only-of-type {\n",
       "        vertical-align: middle;\n",
       "    }\n",
       "\n",
       "    .dataframe tbody tr th {\n",
       "        vertical-align: top;\n",
       "    }\n",
       "\n",
       "    .dataframe thead th {\n",
       "        text-align: right;\n",
       "    }\n",
       "</style>\n",
       "<table border=\"1\" class=\"dataframe\">\n",
       "  <thead>\n",
       "    <tr style=\"text-align: right;\">\n",
       "      <th></th>\n",
       "      <th>C1</th>\n",
       "      <th>C2</th>\n",
       "      <th>C3</th>\n",
       "      <th>C4</th>\n",
       "      <th>C5</th>\n",
       "      <th>C6</th>\n",
       "    </tr>\n",
       "  </thead>\n",
       "  <tbody>\n",
       "    <tr>\n",
       "      <th>R1</th>\n",
       "      <td>0.771321</td>\n",
       "      <td>0.020752</td>\n",
       "      <td>0.633648</td>\n",
       "      <td>0.748804</td>\n",
       "      <td>0.498507</td>\n",
       "      <td>0.224797</td>\n",
       "    </tr>\n",
       "    <tr>\n",
       "      <th>R2</th>\n",
       "      <td>0.198063</td>\n",
       "      <td>0.760531</td>\n",
       "      <td>0.169111</td>\n",
       "      <td>0.088340</td>\n",
       "      <td>0.685360</td>\n",
       "      <td>0.953393</td>\n",
       "    </tr>\n",
       "    <tr>\n",
       "      <th>R3</th>\n",
       "      <td>0.003948</td>\n",
       "      <td>0.512192</td>\n",
       "      <td>0.812621</td>\n",
       "      <td>0.612526</td>\n",
       "      <td>0.721755</td>\n",
       "      <td>0.291876</td>\n",
       "    </tr>\n",
       "    <tr>\n",
       "      <th>R4</th>\n",
       "      <td>0.917774</td>\n",
       "      <td>0.714576</td>\n",
       "      <td>0.542544</td>\n",
       "      <td>0.142170</td>\n",
       "      <td>0.373341</td>\n",
       "      <td>0.674134</td>\n",
       "    </tr>\n",
       "    <tr>\n",
       "      <th>R5</th>\n",
       "      <td>0.441833</td>\n",
       "      <td>0.434014</td>\n",
       "      <td>0.617767</td>\n",
       "      <td>0.513138</td>\n",
       "      <td>0.650397</td>\n",
       "      <td>0.601039</td>\n",
       "    </tr>\n",
       "    <tr>\n",
       "      <th>R6</th>\n",
       "      <td>0.805223</td>\n",
       "      <td>0.521647</td>\n",
       "      <td>0.908649</td>\n",
       "      <td>0.319236</td>\n",
       "      <td>0.090459</td>\n",
       "      <td>0.300700</td>\n",
       "    </tr>\n",
       "  </tbody>\n",
       "</table>\n",
       "</div>"
      ],
      "text/plain": [
       "          C1        C2        C3        C4        C5        C6\n",
       "R1  0.771321  0.020752  0.633648  0.748804  0.498507  0.224797\n",
       "R2  0.198063  0.760531  0.169111  0.088340  0.685360  0.953393\n",
       "R3  0.003948  0.512192  0.812621  0.612526  0.721755  0.291876\n",
       "R4  0.917774  0.714576  0.542544  0.142170  0.373341  0.674134\n",
       "R5  0.441833  0.434014  0.617767  0.513138  0.650397  0.601039\n",
       "R6  0.805223  0.521647  0.908649  0.319236  0.090459  0.300700"
      ]
     },
     "execution_count": 10,
     "metadata": {},
     "output_type": "execute_result"
    }
   ],
   "source": []
  },
  {
   "cell_type": "markdown",
   "metadata": {},
   "source": [
    "## 6. From the Data Frame generated above select the following parts"
   ]
  },
  {
   "cell_type": "code",
   "execution_count": 11,
   "metadata": {},
   "outputs": [
    {
     "data": {
      "text/plain": [
       "R1    0.633648\n",
       "R2    0.169111\n",
       "R3    0.812621\n",
       "R4    0.542544\n",
       "R5    0.617767\n",
       "R6    0.908649\n",
       "Name: C3, dtype: float64"
      ]
     },
     "execution_count": 11,
     "metadata": {},
     "output_type": "execute_result"
    }
   ],
   "source": []
  },
  {
   "cell_type": "code",
   "execution_count": 12,
   "metadata": {},
   "outputs": [
    {
     "data": {
      "text/html": [
       "<div>\n",
       "<style scoped>\n",
       "    .dataframe tbody tr th:only-of-type {\n",
       "        vertical-align: middle;\n",
       "    }\n",
       "\n",
       "    .dataframe tbody tr th {\n",
       "        vertical-align: top;\n",
       "    }\n",
       "\n",
       "    .dataframe thead th {\n",
       "        text-align: right;\n",
       "    }\n",
       "</style>\n",
       "<table border=\"1\" class=\"dataframe\">\n",
       "  <thead>\n",
       "    <tr style=\"text-align: right;\">\n",
       "      <th></th>\n",
       "      <th>C1</th>\n",
       "      <th>C3</th>\n",
       "      <th>C6</th>\n",
       "    </tr>\n",
       "  </thead>\n",
       "  <tbody>\n",
       "    <tr>\n",
       "      <th>R1</th>\n",
       "      <td>0.771321</td>\n",
       "      <td>0.633648</td>\n",
       "      <td>0.224797</td>\n",
       "    </tr>\n",
       "    <tr>\n",
       "      <th>R2</th>\n",
       "      <td>0.198063</td>\n",
       "      <td>0.169111</td>\n",
       "      <td>0.953393</td>\n",
       "    </tr>\n",
       "    <tr>\n",
       "      <th>R3</th>\n",
       "      <td>0.003948</td>\n",
       "      <td>0.812621</td>\n",
       "      <td>0.291876</td>\n",
       "    </tr>\n",
       "    <tr>\n",
       "      <th>R4</th>\n",
       "      <td>0.917774</td>\n",
       "      <td>0.542544</td>\n",
       "      <td>0.674134</td>\n",
       "    </tr>\n",
       "    <tr>\n",
       "      <th>R5</th>\n",
       "      <td>0.441833</td>\n",
       "      <td>0.617767</td>\n",
       "      <td>0.601039</td>\n",
       "    </tr>\n",
       "    <tr>\n",
       "      <th>R6</th>\n",
       "      <td>0.805223</td>\n",
       "      <td>0.908649</td>\n",
       "      <td>0.300700</td>\n",
       "    </tr>\n",
       "  </tbody>\n",
       "</table>\n",
       "</div>"
      ],
      "text/plain": [
       "          C1        C3        C6\n",
       "R1  0.771321  0.633648  0.224797\n",
       "R2  0.198063  0.169111  0.953393\n",
       "R3  0.003948  0.812621  0.291876\n",
       "R4  0.917774  0.542544  0.674134\n",
       "R5  0.441833  0.617767  0.601039\n",
       "R6  0.805223  0.908649  0.300700"
      ]
     },
     "execution_count": 12,
     "metadata": {},
     "output_type": "execute_result"
    }
   ],
   "source": []
  },
  {
   "cell_type": "markdown",
   "metadata": {},
   "source": [
    "## 7. From the Data Frame generated at Number 6. use .iloc, .loc to select the following parts"
   ]
  },
  {
   "cell_type": "markdown",
   "metadata": {},
   "source": [
    "## use .iloc"
   ]
  },
  {
   "cell_type": "code",
   "execution_count": 13,
   "metadata": {},
   "outputs": [
    {
     "data": {
      "text/html": [
       "<div>\n",
       "<style scoped>\n",
       "    .dataframe tbody tr th:only-of-type {\n",
       "        vertical-align: middle;\n",
       "    }\n",
       "\n",
       "    .dataframe tbody tr th {\n",
       "        vertical-align: top;\n",
       "    }\n",
       "\n",
       "    .dataframe thead th {\n",
       "        text-align: right;\n",
       "    }\n",
       "</style>\n",
       "<table border=\"1\" class=\"dataframe\">\n",
       "  <thead>\n",
       "    <tr style=\"text-align: right;\">\n",
       "      <th></th>\n",
       "      <th>C1</th>\n",
       "      <th>C2</th>\n",
       "    </tr>\n",
       "  </thead>\n",
       "  <tbody>\n",
       "    <tr>\n",
       "      <th>R1</th>\n",
       "      <td>0.771321</td>\n",
       "      <td>0.020752</td>\n",
       "    </tr>\n",
       "    <tr>\n",
       "      <th>R2</th>\n",
       "      <td>0.198063</td>\n",
       "      <td>0.760531</td>\n",
       "    </tr>\n",
       "  </tbody>\n",
       "</table>\n",
       "</div>"
      ],
      "text/plain": [
       "          C1        C2\n",
       "R1  0.771321  0.020752\n",
       "R2  0.198063  0.760531"
      ]
     },
     "execution_count": 13,
     "metadata": {},
     "output_type": "execute_result"
    }
   ],
   "source": []
  },
  {
   "cell_type": "code",
   "execution_count": 14,
   "metadata": {},
   "outputs": [
    {
     "data": {
      "text/html": [
       "<div>\n",
       "<style scoped>\n",
       "    .dataframe tbody tr th:only-of-type {\n",
       "        vertical-align: middle;\n",
       "    }\n",
       "\n",
       "    .dataframe tbody tr th {\n",
       "        vertical-align: top;\n",
       "    }\n",
       "\n",
       "    .dataframe thead th {\n",
       "        text-align: right;\n",
       "    }\n",
       "</style>\n",
       "<table border=\"1\" class=\"dataframe\">\n",
       "  <thead>\n",
       "    <tr style=\"text-align: right;\">\n",
       "      <th></th>\n",
       "      <th>C3</th>\n",
       "      <th>C4</th>\n",
       "    </tr>\n",
       "  </thead>\n",
       "  <tbody>\n",
       "    <tr>\n",
       "      <th>R2</th>\n",
       "      <td>0.169111</td>\n",
       "      <td>0.088340</td>\n",
       "    </tr>\n",
       "    <tr>\n",
       "      <th>R3</th>\n",
       "      <td>0.812621</td>\n",
       "      <td>0.612526</td>\n",
       "    </tr>\n",
       "    <tr>\n",
       "      <th>R4</th>\n",
       "      <td>0.542544</td>\n",
       "      <td>0.142170</td>\n",
       "    </tr>\n",
       "  </tbody>\n",
       "</table>\n",
       "</div>"
      ],
      "text/plain": [
       "          C3        C4\n",
       "R2  0.169111  0.088340\n",
       "R3  0.812621  0.612526\n",
       "R4  0.542544  0.142170"
      ]
     },
     "execution_count": 14,
     "metadata": {},
     "output_type": "execute_result"
    }
   ],
   "source": []
  },
  {
   "cell_type": "code",
   "execution_count": 15,
   "metadata": {},
   "outputs": [
    {
     "data": {
      "text/html": [
       "<div>\n",
       "<style scoped>\n",
       "    .dataframe tbody tr th:only-of-type {\n",
       "        vertical-align: middle;\n",
       "    }\n",
       "\n",
       "    .dataframe tbody tr th {\n",
       "        vertical-align: top;\n",
       "    }\n",
       "\n",
       "    .dataframe thead th {\n",
       "        text-align: right;\n",
       "    }\n",
       "</style>\n",
       "<table border=\"1\" class=\"dataframe\">\n",
       "  <thead>\n",
       "    <tr style=\"text-align: right;\">\n",
       "      <th></th>\n",
       "      <th>C2</th>\n",
       "      <th>C3</th>\n",
       "    </tr>\n",
       "  </thead>\n",
       "  <tbody>\n",
       "    <tr>\n",
       "      <th>R3</th>\n",
       "      <td>0.512192</td>\n",
       "      <td>0.812621</td>\n",
       "    </tr>\n",
       "    <tr>\n",
       "      <th>R4</th>\n",
       "      <td>0.714576</td>\n",
       "      <td>0.542544</td>\n",
       "    </tr>\n",
       "    <tr>\n",
       "      <th>R5</th>\n",
       "      <td>0.434014</td>\n",
       "      <td>0.617767</td>\n",
       "    </tr>\n",
       "  </tbody>\n",
       "</table>\n",
       "</div>"
      ],
      "text/plain": [
       "          C2        C3\n",
       "R3  0.512192  0.812621\n",
       "R4  0.714576  0.542544\n",
       "R5  0.434014  0.617767"
      ]
     },
     "execution_count": 15,
     "metadata": {},
     "output_type": "execute_result"
    }
   ],
   "source": []
  },
  {
   "cell_type": "markdown",
   "metadata": {},
   "source": [
    "## use .loc"
   ]
  },
  {
   "cell_type": "code",
   "execution_count": 16,
   "metadata": {},
   "outputs": [
    {
     "data": {
      "text/html": [
       "<div>\n",
       "<style scoped>\n",
       "    .dataframe tbody tr th:only-of-type {\n",
       "        vertical-align: middle;\n",
       "    }\n",
       "\n",
       "    .dataframe tbody tr th {\n",
       "        vertical-align: top;\n",
       "    }\n",
       "\n",
       "    .dataframe thead th {\n",
       "        text-align: right;\n",
       "    }\n",
       "</style>\n",
       "<table border=\"1\" class=\"dataframe\">\n",
       "  <thead>\n",
       "    <tr style=\"text-align: right;\">\n",
       "      <th></th>\n",
       "      <th>C3</th>\n",
       "      <th>C4</th>\n",
       "      <th>C5</th>\n",
       "      <th>C6</th>\n",
       "    </tr>\n",
       "  </thead>\n",
       "  <tbody>\n",
       "    <tr>\n",
       "      <th>R1</th>\n",
       "      <td>0.633648</td>\n",
       "      <td>0.748804</td>\n",
       "      <td>0.498507</td>\n",
       "      <td>0.224797</td>\n",
       "    </tr>\n",
       "    <tr>\n",
       "      <th>R2</th>\n",
       "      <td>0.169111</td>\n",
       "      <td>0.088340</td>\n",
       "      <td>0.685360</td>\n",
       "      <td>0.953393</td>\n",
       "    </tr>\n",
       "    <tr>\n",
       "      <th>R3</th>\n",
       "      <td>0.812621</td>\n",
       "      <td>0.612526</td>\n",
       "      <td>0.721755</td>\n",
       "      <td>0.291876</td>\n",
       "    </tr>\n",
       "  </tbody>\n",
       "</table>\n",
       "</div>"
      ],
      "text/plain": [
       "          C3        C4        C5        C6\n",
       "R1  0.633648  0.748804  0.498507  0.224797\n",
       "R2  0.169111  0.088340  0.685360  0.953393\n",
       "R3  0.812621  0.612526  0.721755  0.291876"
      ]
     },
     "execution_count": 16,
     "metadata": {},
     "output_type": "execute_result"
    }
   ],
   "source": []
  },
  {
   "cell_type": "code",
   "execution_count": 17,
   "metadata": {},
   "outputs": [
    {
     "data": {
      "text/html": [
       "<div>\n",
       "<style scoped>\n",
       "    .dataframe tbody tr th:only-of-type {\n",
       "        vertical-align: middle;\n",
       "    }\n",
       "\n",
       "    .dataframe tbody tr th {\n",
       "        vertical-align: top;\n",
       "    }\n",
       "\n",
       "    .dataframe thead th {\n",
       "        text-align: right;\n",
       "    }\n",
       "</style>\n",
       "<table border=\"1\" class=\"dataframe\">\n",
       "  <thead>\n",
       "    <tr style=\"text-align: right;\">\n",
       "      <th></th>\n",
       "      <th>C1</th>\n",
       "      <th>C2</th>\n",
       "      <th>C3</th>\n",
       "      <th>C4</th>\n",
       "    </tr>\n",
       "  </thead>\n",
       "  <tbody>\n",
       "    <tr>\n",
       "      <th>R1</th>\n",
       "      <td>0.771321</td>\n",
       "      <td>0.020752</td>\n",
       "      <td>0.633648</td>\n",
       "      <td>0.748804</td>\n",
       "    </tr>\n",
       "    <tr>\n",
       "      <th>R2</th>\n",
       "      <td>0.198063</td>\n",
       "      <td>0.760531</td>\n",
       "      <td>0.169111</td>\n",
       "      <td>0.088340</td>\n",
       "    </tr>\n",
       "  </tbody>\n",
       "</table>\n",
       "</div>"
      ],
      "text/plain": [
       "          C1        C2        C3        C4\n",
       "R1  0.771321  0.020752  0.633648  0.748804\n",
       "R2  0.198063  0.760531  0.169111  0.088340"
      ]
     },
     "execution_count": 17,
     "metadata": {},
     "output_type": "execute_result"
    }
   ],
   "source": []
  },
  {
   "cell_type": "code",
   "execution_count": 18,
   "metadata": {},
   "outputs": [
    {
     "data": {
      "text/plain": [
       "R1    0.633648\n",
       "R2    0.169111\n",
       "R3    0.812621\n",
       "R4    0.542544\n",
       "R5    0.617767\n",
       "R6    0.908649\n",
       "Name: C3, dtype: float64"
      ]
     },
     "execution_count": 18,
     "metadata": {},
     "output_type": "execute_result"
    }
   ],
   "source": []
  },
  {
   "cell_type": "markdown",
   "metadata": {},
   "source": [
    "## 8. Transpose the Data Frame"
   ]
  },
  {
   "cell_type": "code",
   "execution_count": 19,
   "metadata": {},
   "outputs": [
    {
     "data": {
      "text/html": [
       "<div>\n",
       "<style scoped>\n",
       "    .dataframe tbody tr th:only-of-type {\n",
       "        vertical-align: middle;\n",
       "    }\n",
       "\n",
       "    .dataframe tbody tr th {\n",
       "        vertical-align: top;\n",
       "    }\n",
       "\n",
       "    .dataframe thead th {\n",
       "        text-align: right;\n",
       "    }\n",
       "</style>\n",
       "<table border=\"1\" class=\"dataframe\">\n",
       "  <thead>\n",
       "    <tr style=\"text-align: right;\">\n",
       "      <th></th>\n",
       "      <th>R1</th>\n",
       "      <th>R2</th>\n",
       "      <th>R3</th>\n",
       "      <th>R4</th>\n",
       "      <th>R5</th>\n",
       "      <th>R6</th>\n",
       "    </tr>\n",
       "  </thead>\n",
       "  <tbody>\n",
       "    <tr>\n",
       "      <th>C1</th>\n",
       "      <td>0.771321</td>\n",
       "      <td>0.198063</td>\n",
       "      <td>0.003948</td>\n",
       "      <td>0.917774</td>\n",
       "      <td>0.441833</td>\n",
       "      <td>0.805223</td>\n",
       "    </tr>\n",
       "    <tr>\n",
       "      <th>C2</th>\n",
       "      <td>0.020752</td>\n",
       "      <td>0.760531</td>\n",
       "      <td>0.512192</td>\n",
       "      <td>0.714576</td>\n",
       "      <td>0.434014</td>\n",
       "      <td>0.521647</td>\n",
       "    </tr>\n",
       "    <tr>\n",
       "      <th>C3</th>\n",
       "      <td>0.633648</td>\n",
       "      <td>0.169111</td>\n",
       "      <td>0.812621</td>\n",
       "      <td>0.542544</td>\n",
       "      <td>0.617767</td>\n",
       "      <td>0.908649</td>\n",
       "    </tr>\n",
       "    <tr>\n",
       "      <th>C4</th>\n",
       "      <td>0.748804</td>\n",
       "      <td>0.088340</td>\n",
       "      <td>0.612526</td>\n",
       "      <td>0.142170</td>\n",
       "      <td>0.513138</td>\n",
       "      <td>0.319236</td>\n",
       "    </tr>\n",
       "    <tr>\n",
       "      <th>C5</th>\n",
       "      <td>0.498507</td>\n",
       "      <td>0.685360</td>\n",
       "      <td>0.721755</td>\n",
       "      <td>0.373341</td>\n",
       "      <td>0.650397</td>\n",
       "      <td>0.090459</td>\n",
       "    </tr>\n",
       "    <tr>\n",
       "      <th>C6</th>\n",
       "      <td>0.224797</td>\n",
       "      <td>0.953393</td>\n",
       "      <td>0.291876</td>\n",
       "      <td>0.674134</td>\n",
       "      <td>0.601039</td>\n",
       "      <td>0.300700</td>\n",
       "    </tr>\n",
       "  </tbody>\n",
       "</table>\n",
       "</div>"
      ],
      "text/plain": [
       "          R1        R2        R3        R4        R5        R6\n",
       "C1  0.771321  0.198063  0.003948  0.917774  0.441833  0.805223\n",
       "C2  0.020752  0.760531  0.512192  0.714576  0.434014  0.521647\n",
       "C3  0.633648  0.169111  0.812621  0.542544  0.617767  0.908649\n",
       "C4  0.748804  0.088340  0.612526  0.142170  0.513138  0.319236\n",
       "C5  0.498507  0.685360  0.721755  0.373341  0.650397  0.090459\n",
       "C6  0.224797  0.953393  0.291876  0.674134  0.601039  0.300700"
      ]
     },
     "execution_count": 19,
     "metadata": {},
     "output_type": "execute_result"
    }
   ],
   "source": []
  },
  {
   "cell_type": "markdown",
   "metadata": {},
   "source": [
    "## 9. Conditional Selection (use same Data Frame in item Number 5)"
   ]
  },
  {
   "cell_type": "code",
   "execution_count": 20,
   "metadata": {},
   "outputs": [
    {
     "data": {
      "text/html": [
       "<div>\n",
       "<style scoped>\n",
       "    .dataframe tbody tr th:only-of-type {\n",
       "        vertical-align: middle;\n",
       "    }\n",
       "\n",
       "    .dataframe tbody tr th {\n",
       "        vertical-align: top;\n",
       "    }\n",
       "\n",
       "    .dataframe thead th {\n",
       "        text-align: right;\n",
       "    }\n",
       "</style>\n",
       "<table border=\"1\" class=\"dataframe\">\n",
       "  <thead>\n",
       "    <tr style=\"text-align: right;\">\n",
       "      <th></th>\n",
       "      <th>C1</th>\n",
       "      <th>C6</th>\n",
       "    </tr>\n",
       "  </thead>\n",
       "  <tbody>\n",
       "    <tr>\n",
       "      <th>R2</th>\n",
       "      <td>0.198063</td>\n",
       "      <td>0.953393</td>\n",
       "    </tr>\n",
       "  </tbody>\n",
       "</table>\n",
       "</div>"
      ],
      "text/plain": [
       "          C1        C6\n",
       "R2  0.198063  0.953393"
      ]
     },
     "execution_count": 20,
     "metadata": {},
     "output_type": "execute_result"
    }
   ],
   "source": [
    "# C1 < 0.5 and C6 > 0.7 (Display C1 and C6 only)\n",
    "\n"
   ]
  },
  {
   "cell_type": "code",
   "execution_count": 21,
   "metadata": {},
   "outputs": [
    {
     "data": {
      "text/html": [
       "<div>\n",
       "<style scoped>\n",
       "    .dataframe tbody tr th:only-of-type {\n",
       "        vertical-align: middle;\n",
       "    }\n",
       "\n",
       "    .dataframe tbody tr th {\n",
       "        vertical-align: top;\n",
       "    }\n",
       "\n",
       "    .dataframe thead th {\n",
       "        text-align: right;\n",
       "    }\n",
       "</style>\n",
       "<table border=\"1\" class=\"dataframe\">\n",
       "  <thead>\n",
       "    <tr style=\"text-align: right;\">\n",
       "      <th></th>\n",
       "      <th>C2</th>\n",
       "      <th>C3</th>\n",
       "      <th>C4</th>\n",
       "    </tr>\n",
       "  </thead>\n",
       "  <tbody>\n",
       "    <tr>\n",
       "      <th>R2</th>\n",
       "      <td>0.760531</td>\n",
       "      <td>0.169111</td>\n",
       "      <td>0.088340</td>\n",
       "    </tr>\n",
       "    <tr>\n",
       "      <th>R3</th>\n",
       "      <td>0.512192</td>\n",
       "      <td>0.812621</td>\n",
       "      <td>0.612526</td>\n",
       "    </tr>\n",
       "    <tr>\n",
       "      <th>R5</th>\n",
       "      <td>0.434014</td>\n",
       "      <td>0.617767</td>\n",
       "      <td>0.513138</td>\n",
       "    </tr>\n",
       "  </tbody>\n",
       "</table>\n",
       "</div>"
      ],
      "text/plain": [
       "          C2        C3        C4\n",
       "R2  0.760531  0.169111  0.088340\n",
       "R3  0.512192  0.812621  0.612526\n",
       "R5  0.434014  0.617767  0.513138"
      ]
     },
     "execution_count": 21,
     "metadata": {},
     "output_type": "execute_result"
    }
   ],
   "source": [
    "# C1 > 0.5 or C6 < 0.7 (Display C2, C3, C4 only)\n",
    "\n"
   ]
  },
  {
   "cell_type": "markdown",
   "metadata": {},
   "source": [
    "## 10. Create additional columns for the Data Frame"
   ]
  },
  {
   "cell_type": "code",
   "execution_count": 22,
   "metadata": {},
   "outputs": [
    {
     "data": {
      "text/html": [
       "<div>\n",
       "<style scoped>\n",
       "    .dataframe tbody tr th:only-of-type {\n",
       "        vertical-align: middle;\n",
       "    }\n",
       "\n",
       "    .dataframe tbody tr th {\n",
       "        vertical-align: top;\n",
       "    }\n",
       "\n",
       "    .dataframe thead th {\n",
       "        text-align: right;\n",
       "    }\n",
       "</style>\n",
       "<table border=\"1\" class=\"dataframe\">\n",
       "  <thead>\n",
       "    <tr style=\"text-align: right;\">\n",
       "      <th></th>\n",
       "      <th>C1</th>\n",
       "      <th>C2</th>\n",
       "      <th>C3</th>\n",
       "      <th>C4</th>\n",
       "      <th>C5</th>\n",
       "      <th>C6</th>\n",
       "      <th>C8</th>\n",
       "    </tr>\n",
       "  </thead>\n",
       "  <tbody>\n",
       "    <tr>\n",
       "      <th>R1</th>\n",
       "      <td>0.771321</td>\n",
       "      <td>0.020752</td>\n",
       "      <td>0.633648</td>\n",
       "      <td>0.748804</td>\n",
       "      <td>0.498507</td>\n",
       "      <td>0.224797</td>\n",
       "      <td>1</td>\n",
       "    </tr>\n",
       "    <tr>\n",
       "      <th>R2</th>\n",
       "      <td>0.198063</td>\n",
       "      <td>0.760531</td>\n",
       "      <td>0.169111</td>\n",
       "      <td>0.088340</td>\n",
       "      <td>0.685360</td>\n",
       "      <td>0.953393</td>\n",
       "      <td>2</td>\n",
       "    </tr>\n",
       "    <tr>\n",
       "      <th>R3</th>\n",
       "      <td>0.003948</td>\n",
       "      <td>0.512192</td>\n",
       "      <td>0.812621</td>\n",
       "      <td>0.612526</td>\n",
       "      <td>0.721755</td>\n",
       "      <td>0.291876</td>\n",
       "      <td>3</td>\n",
       "    </tr>\n",
       "    <tr>\n",
       "      <th>R4</th>\n",
       "      <td>0.917774</td>\n",
       "      <td>0.714576</td>\n",
       "      <td>0.542544</td>\n",
       "      <td>0.142170</td>\n",
       "      <td>0.373341</td>\n",
       "      <td>0.674134</td>\n",
       "      <td>4</td>\n",
       "    </tr>\n",
       "    <tr>\n",
       "      <th>R5</th>\n",
       "      <td>0.441833</td>\n",
       "      <td>0.434014</td>\n",
       "      <td>0.617767</td>\n",
       "      <td>0.513138</td>\n",
       "      <td>0.650397</td>\n",
       "      <td>0.601039</td>\n",
       "      <td>5</td>\n",
       "    </tr>\n",
       "    <tr>\n",
       "      <th>R6</th>\n",
       "      <td>0.805223</td>\n",
       "      <td>0.521647</td>\n",
       "      <td>0.908649</td>\n",
       "      <td>0.319236</td>\n",
       "      <td>0.090459</td>\n",
       "      <td>0.300700</td>\n",
       "      <td>6</td>\n",
       "    </tr>\n",
       "  </tbody>\n",
       "</table>\n",
       "</div>"
      ],
      "text/plain": [
       "          C1        C2        C3        C4        C5        C6  C8\n",
       "R1  0.771321  0.020752  0.633648  0.748804  0.498507  0.224797   1\n",
       "R2  0.198063  0.760531  0.169111  0.088340  0.685360  0.953393   2\n",
       "R3  0.003948  0.512192  0.812621  0.612526  0.721755  0.291876   3\n",
       "R4  0.917774  0.714576  0.542544  0.142170  0.373341  0.674134   4\n",
       "R5  0.441833  0.434014  0.617767  0.513138  0.650397  0.601039   5\n",
       "R6  0.805223  0.521647  0.908649  0.319236  0.090459  0.300700   6"
      ]
     },
     "execution_count": 22,
     "metadata": {},
     "output_type": "execute_result"
    }
   ],
   "source": []
  },
  {
   "cell_type": "code",
   "execution_count": 23,
   "metadata": {},
   "outputs": [
    {
     "data": {
      "text/html": [
       "<div>\n",
       "<style scoped>\n",
       "    .dataframe tbody tr th:only-of-type {\n",
       "        vertical-align: middle;\n",
       "    }\n",
       "\n",
       "    .dataframe tbody tr th {\n",
       "        vertical-align: top;\n",
       "    }\n",
       "\n",
       "    .dataframe thead th {\n",
       "        text-align: right;\n",
       "    }\n",
       "</style>\n",
       "<table border=\"1\" class=\"dataframe\">\n",
       "  <thead>\n",
       "    <tr style=\"text-align: right;\">\n",
       "      <th></th>\n",
       "      <th>C1</th>\n",
       "      <th>C2</th>\n",
       "      <th>C3</th>\n",
       "      <th>C4</th>\n",
       "      <th>C5</th>\n",
       "      <th>C6</th>\n",
       "      <th>C8</th>\n",
       "      <th>C9</th>\n",
       "    </tr>\n",
       "  </thead>\n",
       "  <tbody>\n",
       "    <tr>\n",
       "      <th>R1</th>\n",
       "      <td>0.771321</td>\n",
       "      <td>0.020752</td>\n",
       "      <td>0.633648</td>\n",
       "      <td>0.748804</td>\n",
       "      <td>0.498507</td>\n",
       "      <td>0.224797</td>\n",
       "      <td>1</td>\n",
       "      <td>2</td>\n",
       "    </tr>\n",
       "    <tr>\n",
       "      <th>R2</th>\n",
       "      <td>0.198063</td>\n",
       "      <td>0.760531</td>\n",
       "      <td>0.169111</td>\n",
       "      <td>0.088340</td>\n",
       "      <td>0.685360</td>\n",
       "      <td>0.953393</td>\n",
       "      <td>2</td>\n",
       "      <td>4</td>\n",
       "    </tr>\n",
       "    <tr>\n",
       "      <th>R3</th>\n",
       "      <td>0.003948</td>\n",
       "      <td>0.512192</td>\n",
       "      <td>0.812621</td>\n",
       "      <td>0.612526</td>\n",
       "      <td>0.721755</td>\n",
       "      <td>0.291876</td>\n",
       "      <td>3</td>\n",
       "      <td>6</td>\n",
       "    </tr>\n",
       "    <tr>\n",
       "      <th>R4</th>\n",
       "      <td>0.917774</td>\n",
       "      <td>0.714576</td>\n",
       "      <td>0.542544</td>\n",
       "      <td>0.142170</td>\n",
       "      <td>0.373341</td>\n",
       "      <td>0.674134</td>\n",
       "      <td>4</td>\n",
       "      <td>8</td>\n",
       "    </tr>\n",
       "    <tr>\n",
       "      <th>R5</th>\n",
       "      <td>0.441833</td>\n",
       "      <td>0.434014</td>\n",
       "      <td>0.617767</td>\n",
       "      <td>0.513138</td>\n",
       "      <td>0.650397</td>\n",
       "      <td>0.601039</td>\n",
       "      <td>5</td>\n",
       "      <td>10</td>\n",
       "    </tr>\n",
       "    <tr>\n",
       "      <th>R6</th>\n",
       "      <td>0.805223</td>\n",
       "      <td>0.521647</td>\n",
       "      <td>0.908649</td>\n",
       "      <td>0.319236</td>\n",
       "      <td>0.090459</td>\n",
       "      <td>0.300700</td>\n",
       "      <td>6</td>\n",
       "      <td>12</td>\n",
       "    </tr>\n",
       "  </tbody>\n",
       "</table>\n",
       "</div>"
      ],
      "text/plain": [
       "          C1        C2        C3        C4        C5        C6  C8  C9\n",
       "R1  0.771321  0.020752  0.633648  0.748804  0.498507  0.224797   1   2\n",
       "R2  0.198063  0.760531  0.169111  0.088340  0.685360  0.953393   2   4\n",
       "R3  0.003948  0.512192  0.812621  0.612526  0.721755  0.291876   3   6\n",
       "R4  0.917774  0.714576  0.542544  0.142170  0.373341  0.674134   4   8\n",
       "R5  0.441833  0.434014  0.617767  0.513138  0.650397  0.601039   5  10\n",
       "R6  0.805223  0.521647  0.908649  0.319236  0.090459  0.300700   6  12"
      ]
     },
     "execution_count": 23,
     "metadata": {},
     "output_type": "execute_result"
    }
   ],
   "source": []
  },
  {
   "cell_type": "markdown",
   "metadata": {},
   "source": [
    "## 11. Drop C9 column permanently"
   ]
  },
  {
   "cell_type": "code",
   "execution_count": 24,
   "metadata": {},
   "outputs": [],
   "source": []
  },
  {
   "cell_type": "markdown",
   "metadata": {},
   "source": [
    "## 12. Drop R6 index permanently"
   ]
  },
  {
   "cell_type": "code",
   "execution_count": 25,
   "metadata": {},
   "outputs": [
    {
     "data": {
      "text/html": [
       "<div>\n",
       "<style scoped>\n",
       "    .dataframe tbody tr th:only-of-type {\n",
       "        vertical-align: middle;\n",
       "    }\n",
       "\n",
       "    .dataframe tbody tr th {\n",
       "        vertical-align: top;\n",
       "    }\n",
       "\n",
       "    .dataframe thead th {\n",
       "        text-align: right;\n",
       "    }\n",
       "</style>\n",
       "<table border=\"1\" class=\"dataframe\">\n",
       "  <thead>\n",
       "    <tr style=\"text-align: right;\">\n",
       "      <th></th>\n",
       "      <th>C1</th>\n",
       "      <th>C2</th>\n",
       "      <th>C3</th>\n",
       "      <th>C4</th>\n",
       "      <th>C5</th>\n",
       "      <th>C6</th>\n",
       "      <th>C8</th>\n",
       "    </tr>\n",
       "  </thead>\n",
       "  <tbody>\n",
       "    <tr>\n",
       "      <th>R1</th>\n",
       "      <td>0.771321</td>\n",
       "      <td>0.020752</td>\n",
       "      <td>0.633648</td>\n",
       "      <td>0.748804</td>\n",
       "      <td>0.498507</td>\n",
       "      <td>0.224797</td>\n",
       "      <td>1</td>\n",
       "    </tr>\n",
       "    <tr>\n",
       "      <th>R2</th>\n",
       "      <td>0.198063</td>\n",
       "      <td>0.760531</td>\n",
       "      <td>0.169111</td>\n",
       "      <td>0.088340</td>\n",
       "      <td>0.685360</td>\n",
       "      <td>0.953393</td>\n",
       "      <td>2</td>\n",
       "    </tr>\n",
       "    <tr>\n",
       "      <th>R3</th>\n",
       "      <td>0.003948</td>\n",
       "      <td>0.512192</td>\n",
       "      <td>0.812621</td>\n",
       "      <td>0.612526</td>\n",
       "      <td>0.721755</td>\n",
       "      <td>0.291876</td>\n",
       "      <td>3</td>\n",
       "    </tr>\n",
       "    <tr>\n",
       "      <th>R4</th>\n",
       "      <td>0.917774</td>\n",
       "      <td>0.714576</td>\n",
       "      <td>0.542544</td>\n",
       "      <td>0.142170</td>\n",
       "      <td>0.373341</td>\n",
       "      <td>0.674134</td>\n",
       "      <td>4</td>\n",
       "    </tr>\n",
       "    <tr>\n",
       "      <th>R5</th>\n",
       "      <td>0.441833</td>\n",
       "      <td>0.434014</td>\n",
       "      <td>0.617767</td>\n",
       "      <td>0.513138</td>\n",
       "      <td>0.650397</td>\n",
       "      <td>0.601039</td>\n",
       "      <td>5</td>\n",
       "    </tr>\n",
       "  </tbody>\n",
       "</table>\n",
       "</div>"
      ],
      "text/plain": [
       "          C1        C2        C3        C4        C5        C6  C8\n",
       "R1  0.771321  0.020752  0.633648  0.748804  0.498507  0.224797   1\n",
       "R2  0.198063  0.760531  0.169111  0.088340  0.685360  0.953393   2\n",
       "R3  0.003948  0.512192  0.812621  0.612526  0.721755  0.291876   3\n",
       "R4  0.917774  0.714576  0.542544  0.142170  0.373341  0.674134   4\n",
       "R5  0.441833  0.434014  0.617767  0.513138  0.650397  0.601039   5"
      ]
     },
     "execution_count": 25,
     "metadata": {},
     "output_type": "execute_result"
    }
   ],
   "source": []
  },
  {
   "cell_type": "markdown",
   "metadata": {},
   "source": [
    "## 13. Reset the index of the Data Frame permanently"
   ]
  },
  {
   "cell_type": "code",
   "execution_count": 26,
   "metadata": {},
   "outputs": [],
   "source": []
  },
  {
   "cell_type": "code",
   "execution_count": 27,
   "metadata": {},
   "outputs": [
    {
     "data": {
      "text/html": [
       "<div>\n",
       "<style scoped>\n",
       "    .dataframe tbody tr th:only-of-type {\n",
       "        vertical-align: middle;\n",
       "    }\n",
       "\n",
       "    .dataframe tbody tr th {\n",
       "        vertical-align: top;\n",
       "    }\n",
       "\n",
       "    .dataframe thead th {\n",
       "        text-align: right;\n",
       "    }\n",
       "</style>\n",
       "<table border=\"1\" class=\"dataframe\">\n",
       "  <thead>\n",
       "    <tr style=\"text-align: right;\">\n",
       "      <th></th>\n",
       "      <th>index</th>\n",
       "      <th>C1</th>\n",
       "      <th>C2</th>\n",
       "      <th>C3</th>\n",
       "      <th>C4</th>\n",
       "      <th>C5</th>\n",
       "      <th>C6</th>\n",
       "      <th>C8</th>\n",
       "    </tr>\n",
       "  </thead>\n",
       "  <tbody>\n",
       "    <tr>\n",
       "      <th>0</th>\n",
       "      <td>R1</td>\n",
       "      <td>0.771321</td>\n",
       "      <td>0.020752</td>\n",
       "      <td>0.633648</td>\n",
       "      <td>0.748804</td>\n",
       "      <td>0.498507</td>\n",
       "      <td>0.224797</td>\n",
       "      <td>1</td>\n",
       "    </tr>\n",
       "    <tr>\n",
       "      <th>1</th>\n",
       "      <td>R2</td>\n",
       "      <td>0.198063</td>\n",
       "      <td>0.760531</td>\n",
       "      <td>0.169111</td>\n",
       "      <td>0.088340</td>\n",
       "      <td>0.685360</td>\n",
       "      <td>0.953393</td>\n",
       "      <td>2</td>\n",
       "    </tr>\n",
       "    <tr>\n",
       "      <th>2</th>\n",
       "      <td>R3</td>\n",
       "      <td>0.003948</td>\n",
       "      <td>0.512192</td>\n",
       "      <td>0.812621</td>\n",
       "      <td>0.612526</td>\n",
       "      <td>0.721755</td>\n",
       "      <td>0.291876</td>\n",
       "      <td>3</td>\n",
       "    </tr>\n",
       "    <tr>\n",
       "      <th>3</th>\n",
       "      <td>R4</td>\n",
       "      <td>0.917774</td>\n",
       "      <td>0.714576</td>\n",
       "      <td>0.542544</td>\n",
       "      <td>0.142170</td>\n",
       "      <td>0.373341</td>\n",
       "      <td>0.674134</td>\n",
       "      <td>4</td>\n",
       "    </tr>\n",
       "    <tr>\n",
       "      <th>4</th>\n",
       "      <td>R5</td>\n",
       "      <td>0.441833</td>\n",
       "      <td>0.434014</td>\n",
       "      <td>0.617767</td>\n",
       "      <td>0.513138</td>\n",
       "      <td>0.650397</td>\n",
       "      <td>0.601039</td>\n",
       "      <td>5</td>\n",
       "    </tr>\n",
       "  </tbody>\n",
       "</table>\n",
       "</div>"
      ],
      "text/plain": [
       "  index        C1        C2        C3        C4        C5        C6  C8\n",
       "0    R1  0.771321  0.020752  0.633648  0.748804  0.498507  0.224797   1\n",
       "1    R2  0.198063  0.760531  0.169111  0.088340  0.685360  0.953393   2\n",
       "2    R3  0.003948  0.512192  0.812621  0.612526  0.721755  0.291876   3\n",
       "3    R4  0.917774  0.714576  0.542544  0.142170  0.373341  0.674134   4\n",
       "4    R5  0.441833  0.434014  0.617767  0.513138  0.650397  0.601039   5"
      ]
     },
     "execution_count": 27,
     "metadata": {},
     "output_type": "execute_result"
    }
   ],
   "source": []
  }
 ],
 "metadata": {
  "kernelspec": {
   "display_name": "Python 3",
   "language": "python",
   "name": "python3"
  },
  "language_info": {
   "codemirror_mode": {
    "name": "ipython",
    "version": 3
   },
   "file_extension": ".py",
   "mimetype": "text/x-python",
   "name": "python",
   "nbconvert_exporter": "python",
   "pygments_lexer": "ipython3",
   "version": "3.7.6"
  }
 },
 "nbformat": 4,
 "nbformat_minor": 4
}
