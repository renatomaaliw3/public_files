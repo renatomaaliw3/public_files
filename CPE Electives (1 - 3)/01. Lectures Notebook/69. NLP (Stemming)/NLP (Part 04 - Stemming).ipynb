{
  "nbformat": 4,
  "nbformat_minor": 0,
  "metadata": {
    "colab": {
      "provenance": []
    },
    "kernelspec": {
      "name": "python3",
      "display_name": "Python 3"
    },
    "language_info": {
      "name": "python"
    }
  },
  "cells": [
    {
      "cell_type": "markdown",
      "source": [
        "# Natural Language Processing"
      ],
      "metadata": {
        "id": "G1AV--VHx-Rn"
      }
    },
    {
      "cell_type": "markdown",
      "source": [
        "## Stemming"
      ],
      "metadata": {
        "id": "cdWy7-M0yFYH"
      }
    },
    {
      "cell_type": "code",
      "source": [
        "# Import\n",
        "\n",
        "import nltk # import the NLTK Library\n",
        "from nltk.stem.porter import PorterStemmer"
      ],
      "metadata": {
        "id": "HWJ2VbPB4zWT"
      },
      "execution_count": 1,
      "outputs": []
    },
    {
      "cell_type": "code",
      "source": [
        "# Porter Stemmer\n",
        "\n",
        "p_stemmer = PorterStemmer()"
      ],
      "metadata": {
        "id": "Ug4VJ-D1WpZM"
      },
      "execution_count": 10,
      "outputs": []
    },
    {
      "cell_type": "code",
      "source": [
        "# List of words\n",
        "\n",
        "words = ['run', 'runner', 'ran', 'runs', 'easily', 'fairly']"
      ],
      "metadata": {
        "id": "VZsDsCTkWvYY"
      },
      "execution_count": 6,
      "outputs": []
    },
    {
      "cell_type": "code",
      "source": [
        "for word in words:\n",
        "\n",
        "  print(word + ' --> ' + p_stemmer.stem(word))"
      ],
      "metadata": {
        "colab": {
          "base_uri": "https://localhost:8080/"
        },
        "id": "yPLhIt8XW2sA",
        "outputId": "2cbae23d-ac78-402a-a0d1-7f9ffe9fe159"
      },
      "execution_count": 8,
      "outputs": [
        {
          "output_type": "stream",
          "name": "stdout",
          "text": [
            "run --> run\n",
            "runner --> runner\n",
            "ran --> ran\n",
            "runs --> run\n",
            "easily --> easili\n",
            "fairly --> fairli\n"
          ]
        }
      ]
    },
    {
      "cell_type": "code",
      "source": [
        "# Snowball Stemmer\n",
        "\n",
        "from nltk.stem.snowball import SnowballStemmer\n",
        "\n",
        "s_stemmer = SnowballStemmer(language = 'english')"
      ],
      "metadata": {
        "id": "Z8COQtBGXSjg"
      },
      "execution_count": 13,
      "outputs": []
    },
    {
      "cell_type": "code",
      "source": [
        "# List of words\n",
        "\n",
        "words = ['run', 'runner', 'ran', 'runs', 'easily', 'fairly', 'fairness']"
      ],
      "metadata": {
        "id": "ZsT9nYsoXlm3"
      },
      "execution_count": 16,
      "outputs": []
    },
    {
      "cell_type": "code",
      "source": [
        "for word in words:\n",
        "\n",
        "  print(word + ' --> ' + s_stemmer.stem(word))"
      ],
      "metadata": {
        "colab": {
          "base_uri": "https://localhost:8080/"
        },
        "id": "zrv4T6RpXnhh",
        "outputId": "e1e7e853-73da-4eb6-d0ec-f3c5e5eb0ae7"
      },
      "execution_count": 18,
      "outputs": [
        {
          "output_type": "stream",
          "name": "stdout",
          "text": [
            "run --> run\n",
            "runner --> runner\n",
            "ran --> ran\n",
            "runs --> run\n",
            "easily --> easili\n",
            "fairly --> fair\n",
            "fairness --> fair\n"
          ]
        }
      ]
    },
    {
      "cell_type": "code",
      "source": [
        "# List of words\n",
        "\n",
        "words = ['generous', 'generation', 'generously', 'generate']"
      ],
      "metadata": {
        "id": "QxJx5SmKX6NA"
      },
      "execution_count": 19,
      "outputs": []
    },
    {
      "cell_type": "code",
      "source": [
        "for word in words:\n",
        "\n",
        "  print(word + ' --> ' + s_stemmer.stem(word))"
      ],
      "metadata": {
        "colab": {
          "base_uri": "https://localhost:8080/"
        },
        "id": "OcoCi6JrX_-l",
        "outputId": "28a6d229-3354-47ee-a7ff-ff6d1e4a8ff1"
      },
      "execution_count": 20,
      "outputs": [
        {
          "output_type": "stream",
          "name": "stdout",
          "text": [
            "generous --> generous\n",
            "generation --> generat\n",
            "generously --> generous\n",
            "generate --> generat\n"
          ]
        }
      ]
    }
  ]
}