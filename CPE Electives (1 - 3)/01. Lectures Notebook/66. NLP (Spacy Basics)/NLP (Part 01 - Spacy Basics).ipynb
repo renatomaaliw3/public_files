{
  "nbformat": 4,
  "nbformat_minor": 0,
  "metadata": {
    "colab": {
      "provenance": []
    },
    "kernelspec": {
      "name": "python3",
      "display_name": "Python 3"
    },
    "language_info": {
      "name": "python"
    }
  },
  "cells": [
    {
      "cell_type": "markdown",
      "source": [
        "# Natural Language Processing"
      ],
      "metadata": {
        "id": "G1AV--VHx-Rn"
      }
    },
    {
      "cell_type": "markdown",
      "source": [
        "## Spacy Basics"
      ],
      "metadata": {
        "id": "cdWy7-M0yFYH"
      }
    },
    {
      "cell_type": "code",
      "source": [
        "# Import\n",
        "\n",
        "import spacy # import the Spacy library"
      ],
      "metadata": {
        "id": "HWJ2VbPB4zWT"
      },
      "execution_count": 2,
      "outputs": []
    },
    {
      "cell_type": "code",
      "source": [
        "# Load language library\n",
        "\n",
        "nlp = spacy.load('en_core_web_sm')"
      ],
      "metadata": {
        "id": "HjBJO--L5Bod"
      },
      "execution_count": 3,
      "outputs": []
    },
    {
      "cell_type": "code",
      "source": [
        "# Create a document object\n",
        "\n",
        "doc = nlp(u'Tesla is looking at buying U.S. startup for $6 million')\n",
        "\n",
        "# NOTES:\n",
        "# u   - is for unicode string"
      ],
      "metadata": {
        "id": "6v-8fMXE5RL1"
      },
      "execution_count": 6,
      "outputs": []
    },
    {
      "cell_type": "code",
      "source": [
        "for token in doc:\n",
        "\n",
        "  print(token.text, token.pos_, token.dep_) # Raw text\n",
        "\n",
        "# NOTES:\n",
        "\n",
        "# token.pos     - part of speech, numbers corresponds to part of speech (noun, adverb, verb, conjugation, etc.)\n",
        "# token.pos_    - raw names\n",
        "# token.dep_    - syntactic dependencies"
      ],
      "metadata": {
        "colab": {
          "base_uri": "https://localhost:8080/"
        },
        "id": "D-tSc3j25eih",
        "outputId": "da6ca761-12e7-4a41-de96-9d5f2c1533e7"
      },
      "execution_count": 9,
      "outputs": [
        {
          "output_type": "stream",
          "name": "stdout",
          "text": [
            "Tesla PROPN nsubj\n",
            "is AUX aux\n",
            "looking VERB ROOT\n",
            "at ADP prep\n",
            "buying VERB pcomp\n",
            "U.S. PROPN compound\n",
            "startup NOUN dobj\n",
            "for ADP prep\n",
            "$ SYM quantmod\n",
            "6 NUM compound\n",
            "million NUM pobj\n"
          ]
        }
      ]
    },
    {
      "cell_type": "code",
      "source": [
        "# Pipeline Object\n",
        "\n",
        "nlp.pipeline\n",
        "\n",
        "# NOTES:\n",
        "# ner   - name entity recognizer"
      ],
      "metadata": {
        "colab": {
          "base_uri": "https://localhost:8080/"
        },
        "id": "7Qf22J4L6r4b",
        "outputId": "3b1bcec9-a7c0-4be4-da71-11922f2152f4"
      },
      "execution_count": 10,
      "outputs": [
        {
          "output_type": "execute_result",
          "data": {
            "text/plain": [
              "[('tok2vec', <spacy.pipeline.tok2vec.Tok2Vec at 0x7ff301f85960>),\n",
              " ('tagger', <spacy.pipeline.tagger.Tagger at 0x7ff301f85de0>),\n",
              " ('parser', <spacy.pipeline.dep_parser.DependencyParser at 0x7ff398be3300>),\n",
              " ('attribute_ruler',\n",
              "  <spacy.pipeline.attributeruler.AttributeRuler at 0x7ff301f4c9c0>),\n",
              " ('lemmatizer',\n",
              "  <spacy.lang.en.lemmatizer.EnglishLemmatizer at 0x7ff301f7e680>),\n",
              " ('ner', <spacy.pipeline.ner.EntityRecognizer at 0x7ff398b7ed50>)]"
            ]
          },
          "metadata": {},
          "execution_count": 10
        }
      ]
    },
    {
      "cell_type": "code",
      "source": [
        "# Tokenization\n",
        "# The process of splitting a text into smaller, manageable units\n",
        "\n",
        "# The tokens can represent words, subwords, characters, or sentences,\n",
        "# depending on the level of granularity required for the specific learning NLP task.\n",
        "\n",
        "doc2 = nlp(u\"Tesla isn't looking into startups anymore.\")\n",
        "\n",
        "for token in doc2:\n",
        "\n",
        "  print(token.text, token.pos_, token.dep_)\n",
        "\n",
        "# Notice how `isn't` has been split into two tokens. spaCy recognizes both the root verb `is`\n",
        "# and the negation attached to it. Notice also that both the extended whitespace and the\n",
        "# period at the end of the sentence are assigned their own tokens."
      ],
      "metadata": {
        "colab": {
          "base_uri": "https://localhost:8080/"
        },
        "id": "7otOtiXm7FZZ",
        "outputId": "39cedcfa-c3e1-4efb-8cc3-47219682e8ca"
      },
      "execution_count": 13,
      "outputs": [
        {
          "output_type": "stream",
          "name": "stdout",
          "text": [
            "Tesla PROPN nsubj\n",
            "is AUX aux\n",
            "n't PART neg\n",
            "looking VERB ROOT\n",
            "into ADP prep\n",
            "startups NOUN pobj\n",
            "anymore ADV advmod\n",
            ". PUNCT punct\n"
          ]
        }
      ]
    },
    {
      "cell_type": "code",
      "source": [
        "# Indexing\n",
        "\n",
        "doc2[0].pos_"
      ],
      "metadata": {
        "colab": {
          "base_uri": "https://localhost:8080/",
          "height": 36
        },
        "id": "yWvmLpIe8h_f",
        "outputId": "dcd3d8ff-40a6-4d15-a67a-e0f6144213c5"
      },
      "execution_count": 14,
      "outputs": [
        {
          "output_type": "execute_result",
          "data": {
            "text/plain": [
              "'PROPN'"
            ],
            "application/vnd.google.colaboratory.intrinsic+json": {
              "type": "string"
            }
          },
          "metadata": {},
          "execution_count": 14
        }
      ]
    },
    {
      "cell_type": "code",
      "source": [
        "# Indexing\n",
        "\n",
        "doc2[1].dep_"
      ],
      "metadata": {
        "colab": {
          "base_uri": "https://localhost:8080/",
          "height": 36
        },
        "id": "Qxd8YVtv83zb",
        "outputId": "a9777143-6072-48f5-9c4a-7844b0cefd56"
      },
      "execution_count": 15,
      "outputs": [
        {
          "output_type": "execute_result",
          "data": {
            "text/plain": [
              "'aux'"
            ],
            "application/vnd.google.colaboratory.intrinsic+json": {
              "type": "string"
            }
          },
          "metadata": {},
          "execution_count": 15
        }
      ]
    },
    {
      "cell_type": "code",
      "source": [
        "# Spans\n",
        "\n",
        "doc3 = nlp(u'Although commmonly attributed to John Lennon from his song \"Beautiful Boy\", \\\n",
        "the phrase \"Life is what happens to us while we are making other plans\" was written by \\\n",
        "cartoonist Allen Saunders and published in Reader\\'s Digest in 1957, when Lennon was 17.')"
      ],
      "metadata": {
        "id": "88ypzYqf-LJQ"
      },
      "execution_count": 16,
      "outputs": []
    },
    {
      "cell_type": "code",
      "source": [
        "# Indexing (Spans)\n",
        "\n",
        "life_quote = doc3[16:30]\n",
        "print(life_quote)"
      ],
      "metadata": {
        "colab": {
          "base_uri": "https://localhost:8080/"
        },
        "id": "q8RlLS__-QIw",
        "outputId": "6d412105-dc47-4614-f639-77bd9dcf7684"
      },
      "execution_count": 17,
      "outputs": [
        {
          "output_type": "stream",
          "name": "stdout",
          "text": [
            "\"Life is what happens to us while we are making other plans\"\n"
          ]
        }
      ]
    },
    {
      "cell_type": "code",
      "source": [
        "# Type\n",
        "\n",
        "type(life_quote)"
      ],
      "metadata": {
        "colab": {
          "base_uri": "https://localhost:8080/"
        },
        "id": "JVw_Aekk-T1f",
        "outputId": "35ba277c-4c60-4689-8996-6151622a80a4"
      },
      "execution_count": 18,
      "outputs": [
        {
          "output_type": "execute_result",
          "data": {
            "text/plain": [
              "spacy.tokens.span.Span"
            ]
          },
          "metadata": {},
          "execution_count": 18
        }
      ]
    },
    {
      "cell_type": "code",
      "source": [
        "# Type\n",
        "\n",
        "type(doc3)"
      ],
      "metadata": {
        "colab": {
          "base_uri": "https://localhost:8080/"
        },
        "id": "pv1FeL28-xvn",
        "outputId": "92a7a23c-49e3-4083-8641-2cf0bda44bc1"
      },
      "execution_count": 19,
      "outputs": [
        {
          "output_type": "execute_result",
          "data": {
            "text/plain": [
              "spacy.tokens.doc.Doc"
            ]
          },
          "metadata": {},
          "execution_count": 19
        }
      ]
    },
    {
      "cell_type": "code",
      "source": [
        "# Sentences\n",
        "\n",
        "doc4 = nlp(u'This is the first sentence. This is another sentence. This is the last sentence.')\n",
        "\n",
        "for sentence in doc4.sents:\n",
        "\n",
        "  print(sentence)"
      ],
      "metadata": {
        "colab": {
          "base_uri": "https://localhost:8080/"
        },
        "id": "Rv9E9pUX_Cts",
        "outputId": "40cd0262-80a7-4412-ebb0-e75d5cec939e"
      },
      "execution_count": 20,
      "outputs": [
        {
          "output_type": "stream",
          "name": "stdout",
          "text": [
            "This is the first sentence.\n",
            "This is another sentence.\n",
            "This is the last sentence.\n"
          ]
        }
      ]
    },
    {
      "cell_type": "code",
      "source": [
        "# Indexing\n",
        "\n",
        "doc4[6]"
      ],
      "metadata": {
        "colab": {
          "base_uri": "https://localhost:8080/"
        },
        "id": "oISFdN75_OWn",
        "outputId": "698ec00d-ceac-41d9-b763-5dfa4d8bbb34"
      },
      "execution_count": 26,
      "outputs": [
        {
          "output_type": "execute_result",
          "data": {
            "text/plain": [
              "This"
            ]
          },
          "metadata": {},
          "execution_count": 26
        }
      ]
    },
    {
      "cell_type": "code",
      "source": [
        "# Indexing\n",
        "\n",
        "doc4[7].is_sent_start # Is the start of a sentence?"
      ],
      "metadata": {
        "colab": {
          "base_uri": "https://localhost:8080/"
        },
        "id": "OqIlpfpV_W8l",
        "outputId": "40875be7-61f2-4c3b-e24d-de5f84eecea0"
      },
      "execution_count": 23,
      "outputs": [
        {
          "output_type": "execute_result",
          "data": {
            "text/plain": [
              "False"
            ]
          },
          "metadata": {},
          "execution_count": 23
        }
      ]
    }
  ]
}