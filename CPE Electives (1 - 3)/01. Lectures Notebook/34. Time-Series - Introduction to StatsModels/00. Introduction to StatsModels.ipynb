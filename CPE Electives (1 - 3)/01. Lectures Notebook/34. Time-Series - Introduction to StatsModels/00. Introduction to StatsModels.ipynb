{
  "nbformat": 4,
  "nbformat_minor": 0,
  "metadata": {
    "anaconda-cloud": {},
    "kernelspec": {
      "display_name": "Python 3",
      "language": "python",
      "name": "python3"
    },
    "language_info": {
      "codemirror_mode": {
        "name": "ipython",
        "version": 3
      },
      "file_extension": ".py",
      "mimetype": "text/x-python",
      "name": "python",
      "nbconvert_exporter": "python",
      "pygments_lexer": "ipython3",
      "version": "3.7.2"
    },
    "colab": {
      "name": "00-Introduction-to-Statsmodels.ipynb",
      "provenance": []
    }
  },
  "cells": [
    {
      "cell_type": "markdown",
      "metadata": {
        "id": "AMCa_mw44T8F"
      },
      "source": [
        "# Introduction to Statsmodels\n",
        "\n",
        "Statsmodels is a Python module that provides classes and functions for the estimation of many different statistical models, as well as for conducting statistical tests, and statistical data exploration. An extensive list of result statistics are available for each estimator. The results are tested against existing statistical packages to ensure that they are correct. The package is released under the open source Modified BSD (3-clause) license. The online documentation is hosted at <a href='https://www.statsmodels.org/stable/index.html'>statsmodels.org</a>. The statsmodels version used in the development of this course is 0.9.0.\n",
        "\n",
        "<div class=\"alert alert-info\"><h3>For Further Reading:</h3>\n",
        "<strong>\n",
        "<a href='http://www.statsmodels.org/stable/tsa.html'>Statsmodels Tutorial:</a></strong>&nbsp;&nbsp;<font color=black>Time Series Analysis</font></div>\n",
        "\n",
        "Let's walk through a very simple example of using statsmodels!"
      ]
    },
    {
      "cell_type": "markdown",
      "metadata": {
        "id": "d5T-gAIL4T8G"
      },
      "source": [
        "### Perform standard imports and load the dataset\n",
        "For these exercises we'll be using a statsmodels built-in macroeconomics dataset:\n",
        "\n",
        "<pre><strong>US Macroeconomic Data for 1959Q1 - 2009Q3</strong>\n",
        "Number of Observations - 203\n",
        "Number of Variables - 14\n",
        "Variable name definitions:\n",
        "    year      - 1959q1 - 2009q3\n",
        "    quarter   - 1-4\n",
        "    realgdp   - Real gross domestic product (Bil. of chained 2005 US$,\n",
        "                seasonally adjusted annual rate)\n",
        "    realcons  - Real personal consumption expenditures (Bil. of chained\n",
        "                2005 US$, seasonally adjusted annual rate)\n",
        "    realinv   - Real gross private domestic investment (Bil. of chained\n",
        "                2005 US$, seasonally adjusted annual rate)\n",
        "    realgovt  - Real federal consumption expenditures & gross investment\n",
        "                (Bil. of chained 2005 US$, seasonally adjusted annual rate)\n",
        "    realdpi   - Real private disposable income (Bil. of chained 2005\n",
        "                US$, seasonally adjusted annual rate)\n",
        "    cpi       - End of the quarter consumer price index for all urban\n",
        "                consumers: all items (1982-84 = 100, seasonally adjusted).\n",
        "    m1        - End of the quarter M1 nominal money stock (Seasonally\n",
        "                adjusted)\n",
        "    tbilrate  - Quarterly monthly average of the monthly 3-month\n",
        "                treasury bill: secondary market rate\n",
        "    unemp     - Seasonally adjusted unemployment rate (%)\n",
        "    pop       - End of the quarter total population: all ages incl. armed\n",
        "                forces over seas\n",
        "    infl      - Inflation rate (ln(cpi_{t}/cpi_{t-1}) * 400)\n",
        "    realint   - Real interest rate (tbilrate - infl)</pre>\n",
        "    "
      ]
    },
    {
      "cell_type": "code",
      "metadata": {
        "id": "SeOy4XZF4T8H",
        "outputId": "06a9a0cb-64de-4d99-bb6e-4c34bcd3338b"
      },
      "source": [
        "import numpy as np\n",
        "import pandas as pd\n",
        "%matplotlib inline\n",
        "\n",
        "df = pd.read_csv('../Data/macrodata.csv',index_col=0,parse_dates=True)\n",
        "df.head()"
      ],
      "execution_count": null,
      "outputs": [
        {
          "output_type": "execute_result",
          "data": {
            "text/html": [
              "<div>\n",
              "<style scoped>\n",
              "    .dataframe tbody tr th:only-of-type {\n",
              "        vertical-align: middle;\n",
              "    }\n",
              "\n",
              "    .dataframe tbody tr th {\n",
              "        vertical-align: top;\n",
              "    }\n",
              "\n",
              "    .dataframe thead th {\n",
              "        text-align: right;\n",
              "    }\n",
              "</style>\n",
              "<table border=\"1\" class=\"dataframe\">\n",
              "  <thead>\n",
              "    <tr style=\"text-align: right;\">\n",
              "      <th></th>\n",
              "      <th>year</th>\n",
              "      <th>quarter</th>\n",
              "      <th>realgdp</th>\n",
              "      <th>realcons</th>\n",
              "      <th>realinv</th>\n",
              "      <th>realgovt</th>\n",
              "      <th>realdpi</th>\n",
              "      <th>cpi</th>\n",
              "      <th>m1</th>\n",
              "      <th>tbilrate</th>\n",
              "      <th>unemp</th>\n",
              "      <th>pop</th>\n",
              "      <th>infl</th>\n",
              "      <th>realint</th>\n",
              "    </tr>\n",
              "  </thead>\n",
              "  <tbody>\n",
              "    <tr>\n",
              "      <th>1959-03-31</th>\n",
              "      <td>1959</td>\n",
              "      <td>1</td>\n",
              "      <td>2710.349</td>\n",
              "      <td>1707.4</td>\n",
              "      <td>286.898</td>\n",
              "      <td>470.045</td>\n",
              "      <td>1886.9</td>\n",
              "      <td>28.98</td>\n",
              "      <td>139.7</td>\n",
              "      <td>2.82</td>\n",
              "      <td>5.8</td>\n",
              "      <td>177.146</td>\n",
              "      <td>0.00</td>\n",
              "      <td>0.00</td>\n",
              "    </tr>\n",
              "    <tr>\n",
              "      <th>1959-06-30</th>\n",
              "      <td>1959</td>\n",
              "      <td>2</td>\n",
              "      <td>2778.801</td>\n",
              "      <td>1733.7</td>\n",
              "      <td>310.859</td>\n",
              "      <td>481.301</td>\n",
              "      <td>1919.7</td>\n",
              "      <td>29.15</td>\n",
              "      <td>141.7</td>\n",
              "      <td>3.08</td>\n",
              "      <td>5.1</td>\n",
              "      <td>177.830</td>\n",
              "      <td>2.34</td>\n",
              "      <td>0.74</td>\n",
              "    </tr>\n",
              "    <tr>\n",
              "      <th>1959-09-30</th>\n",
              "      <td>1959</td>\n",
              "      <td>3</td>\n",
              "      <td>2775.488</td>\n",
              "      <td>1751.8</td>\n",
              "      <td>289.226</td>\n",
              "      <td>491.260</td>\n",
              "      <td>1916.4</td>\n",
              "      <td>29.35</td>\n",
              "      <td>140.5</td>\n",
              "      <td>3.82</td>\n",
              "      <td>5.3</td>\n",
              "      <td>178.657</td>\n",
              "      <td>2.74</td>\n",
              "      <td>1.09</td>\n",
              "    </tr>\n",
              "    <tr>\n",
              "      <th>1959-12-31</th>\n",
              "      <td>1959</td>\n",
              "      <td>4</td>\n",
              "      <td>2785.204</td>\n",
              "      <td>1753.7</td>\n",
              "      <td>299.356</td>\n",
              "      <td>484.052</td>\n",
              "      <td>1931.3</td>\n",
              "      <td>29.37</td>\n",
              "      <td>140.0</td>\n",
              "      <td>4.33</td>\n",
              "      <td>5.6</td>\n",
              "      <td>179.386</td>\n",
              "      <td>0.27</td>\n",
              "      <td>4.06</td>\n",
              "    </tr>\n",
              "    <tr>\n",
              "      <th>1960-03-31</th>\n",
              "      <td>1960</td>\n",
              "      <td>1</td>\n",
              "      <td>2847.699</td>\n",
              "      <td>1770.5</td>\n",
              "      <td>331.722</td>\n",
              "      <td>462.199</td>\n",
              "      <td>1955.5</td>\n",
              "      <td>29.54</td>\n",
              "      <td>139.6</td>\n",
              "      <td>3.50</td>\n",
              "      <td>5.2</td>\n",
              "      <td>180.007</td>\n",
              "      <td>2.31</td>\n",
              "      <td>1.19</td>\n",
              "    </tr>\n",
              "  </tbody>\n",
              "</table>\n",
              "</div>"
            ],
            "text/plain": [
              "            year  quarter   realgdp  realcons  realinv  realgovt  realdpi  \\\n",
              "1959-03-31  1959        1  2710.349    1707.4  286.898   470.045   1886.9   \n",
              "1959-06-30  1959        2  2778.801    1733.7  310.859   481.301   1919.7   \n",
              "1959-09-30  1959        3  2775.488    1751.8  289.226   491.260   1916.4   \n",
              "1959-12-31  1959        4  2785.204    1753.7  299.356   484.052   1931.3   \n",
              "1960-03-31  1960        1  2847.699    1770.5  331.722   462.199   1955.5   \n",
              "\n",
              "              cpi     m1  tbilrate  unemp      pop  infl  realint  \n",
              "1959-03-31  28.98  139.7      2.82    5.8  177.146  0.00     0.00  \n",
              "1959-06-30  29.15  141.7      3.08    5.1  177.830  2.34     0.74  \n",
              "1959-09-30  29.35  140.5      3.82    5.3  178.657  2.74     1.09  \n",
              "1959-12-31  29.37  140.0      4.33    5.6  179.386  0.27     4.06  \n",
              "1960-03-31  29.54  139.6      3.50    5.2  180.007  2.31     1.19  "
            ]
          },
          "metadata": {
            "tags": []
          },
          "execution_count": 1
        }
      ]
    },
    {
      "cell_type": "markdown",
      "metadata": {
        "id": "Kw1nUcGD4T8J"
      },
      "source": [
        "### Plot the dataset"
      ]
    },
    {
      "cell_type": "code",
      "metadata": {
        "id": "AzGY2xKX4T8J",
        "outputId": "f87fa265-a48f-462d-f7ca-19649ce9eea6"
      },
      "source": [
        "ax = df['realgdp'].plot()\n",
        "ax.autoscale(axis='x',tight=True)\n",
        "ax.set(ylabel='REAL GDP');"
      ],
      "execution_count": null,
      "outputs": [
        {
          "output_type": "display_data",
          "data": {
            "image/png": "[encoded data removed]",
            "text/plain": [
              "<Figure size 432x288 with 1 Axes>"
            ]
          },
          "metadata": {
            "tags": [],
            "needs_background": "light"
          }
        }
      ]
    },
    {
      "cell_type": "markdown",
      "metadata": {
        "id": "Dwg4pvJM4T8K"
      },
      "source": [
        "## Using Statsmodels to get the trend\n",
        "<div class=\"alert alert-info\"><h3>Related Function:</h3>\n",
        "<tt><a href='https://www.statsmodels.org/stable/generated/statsmodels.tsa.filters.hp_filter.hpfilter.html'><strong>statsmodels.tsa.filters.hp_filter.hpfilter</strong></a><font color=black>(X, lamb=1600)</font>&nbsp;&nbsp;Hodrick-Prescott filter</div>\n",
        "    \n",
        "The <a href='https://en.wikipedia.org/wiki/Hodrick%E2%80%93Prescott_filter'>Hodrick-Prescott filter</a> separates a time-series  $y_t$ into a trend component $\\tau_t$ and a cyclical component $c_t$\n",
        "\n",
        "$y_t = \\tau_t + c_t$\n",
        "\n",
        "The components are determined by minimizing the following quadratic loss function, where $\\lambda$ is a smoothing parameter:\n",
        "\n",
        "$\\min_{\\\\{ \\tau_{t}\\\\} }\\sum_{t=1}^{T}c_{t}^{2}+\\lambda\\sum_{t=1}^{T}\\left[\\left(\\tau_{t}-\\tau_{t-1}\\right)-\\left(\\tau_{t-1}-\\tau_{t-2}\\right)\\right]^{2}$\n",
        "\n",
        "\n",
        "The $\\lambda$ value above handles variations in the growth rate of the trend component.<br>When analyzing quarterly data, the default lambda value of 1600 is recommended. Use 6.25 for annual data, and 129,600 for monthly data."
      ]
    },
    {
      "cell_type": "code",
      "metadata": {
        "collapsed": true,
        "id": "fqZufWfX4T8L"
      },
      "source": [
        "from statsmodels.tsa.filters.hp_filter import hpfilter\n",
        "\n",
        "# Tuple unpacking\n",
        "gdp_cycle, gdp_trend = hpfilter(df['realgdp'], lamb=1600)"
      ],
      "execution_count": null,
      "outputs": []
    },
    {
      "cell_type": "code",
      "metadata": {
        "scrolled": true,
        "id": "Hh0rF5Nm4T8L",
        "outputId": "f89b7cbc-aff8-4e12-ab21-8870ec7d8dce"
      },
      "source": [
        "gdp_cycle"
      ],
      "execution_count": null,
      "outputs": [
        {
          "output_type": "execute_result",
          "data": {
            "text/plain": [
              "1959-03-31     39.511915\n",
              "1959-06-30     80.088532\n",
              "1959-09-30     48.875455\n",
              "1959-12-31     30.591933\n",
              "1960-03-31     64.882667\n",
              "1960-06-30     23.040242\n",
              "1960-09-30     -1.355312\n",
              "1960-12-31    -67.462365\n",
              "1961-03-31    -81.367438\n",
              "1961-06-30    -60.167890\n",
              "1961-09-30    -46.369224\n",
              "1961-12-31    -20.695339\n",
              "1962-03-31     -2.162153\n",
              "1962-06-30     -4.718648\n",
              "1962-09-30    -13.556457\n",
              "1962-12-31    -44.369262\n",
              "1963-03-31    -43.320274\n",
              "1963-06-30    -44.546971\n",
              "1963-09-30    -26.298758\n",
              "1963-12-31    -44.261196\n",
              "1964-03-31    -14.434412\n",
              "1964-06-30    -20.266867\n",
              "1964-09-30    -19.137001\n",
              "1964-12-31    -54.824590\n",
              "1965-03-31    -15.962445\n",
              "1965-06-30    -13.740115\n",
              "1965-09-30     13.254828\n",
              "1965-12-31     56.030402\n",
              "1966-03-31    103.074337\n",
              "1966-06-30     72.175348\n",
              "                 ...    \n",
              "2002-06-30    -95.260035\n",
              "2002-09-30   -114.798768\n",
              "2002-12-31   -190.025905\n",
              "2003-03-31   -221.225647\n",
              "2003-06-30   -207.139428\n",
              "2003-09-30    -89.685415\n",
              "2003-12-31    -61.895316\n",
              "2004-03-31    -56.628782\n",
              "2004-06-30    -49.616781\n",
              "2004-09-30    -38.362890\n",
              "2004-12-31     -8.956672\n",
              "2005-03-31     39.070285\n",
              "2005-06-30     18.652990\n",
              "2005-09-30     42.798035\n",
              "2005-12-31     39.627354\n",
              "2006-03-31    141.269129\n",
              "2006-06-30    125.653779\n",
              "2006-09-30     70.676428\n",
              "2006-12-31    110.887665\n",
              "2007-03-31     99.564908\n",
              "2007-06-30    157.161271\n",
              "2007-09-30    231.874638\n",
              "2007-12-31    263.554667\n",
              "2008-03-31    204.422097\n",
              "2008-06-30    221.373942\n",
              "2008-09-30    102.018455\n",
              "2008-12-31   -107.269472\n",
              "2009-03-31   -349.047706\n",
              "2009-06-30   -397.557073\n",
              "2009-09-30   -333.115243\n",
              "Name: realgdp, Length: 203, dtype: float64"
            ]
          },
          "metadata": {
            "tags": []
          },
          "execution_count": 4
        }
      ]
    },
    {
      "cell_type": "markdown",
      "metadata": {
        "id": "Y98s-VzE4T8M"
      },
      "source": [
        "We see from these numbers that for the period from <strong>1960-09-30</strong> to <strong>1965-06-30</strong> actual values fall below the trendline."
      ]
    },
    {
      "cell_type": "code",
      "metadata": {
        "id": "_M7WWmY_4T8M",
        "outputId": "5ab806ec-8ffb-4c61-f88f-646a22ad2706"
      },
      "source": [
        "type(gdp_cycle)"
      ],
      "execution_count": null,
      "outputs": [
        {
          "output_type": "execute_result",
          "data": {
            "text/plain": [
              "pandas.core.series.Series"
            ]
          },
          "metadata": {
            "tags": []
          },
          "execution_count": 5
        }
      ]
    },
    {
      "cell_type": "code",
      "metadata": {
        "collapsed": true,
        "id": "kRGwbvKd4T8N"
      },
      "source": [
        "df['trend'] = gdp_trend"
      ],
      "execution_count": null,
      "outputs": []
    },
    {
      "cell_type": "code",
      "metadata": {
        "id": "sKfZ4mF74T8N",
        "outputId": "af1a6157-bf2d-45cd-8490-c871468a11ee"
      },
      "source": [
        "df[['trend','realgdp']].plot().autoscale(axis='x',tight=True);"
      ],
      "execution_count": null,
      "outputs": [
        {
          "output_type": "display_data",
          "data": {
            "image/png": "[encoded data removed]",
            "text/plain": [
              "<Figure size 432x288 with 1 Axes>"
            ]
          },
          "metadata": {
            "tags": [],
            "needs_background": "light"
          }
        }
      ]
    },
    {
      "cell_type": "code",
      "metadata": {
        "id": "sP75xLXt4T8O",
        "outputId": "08da28ea-0a34-4b18-b42c-a6bdd002b63c"
      },
      "source": [
        "df[['trend','realgdp']]['2000-03-31':].plot(figsize=(12,8)).autoscale(axis='x',tight=True);"
      ],
      "execution_count": null,
      "outputs": [
        {
          "output_type": "display_data",
          "data": {
            "image/png": "[encoded data removed]",
            "text/plain": [
              "<Figure size 864x576 with 1 Axes>"
            ]
          },
          "metadata": {
            "tags": [],
            "needs_background": "light"
          }
        }
      ]
    },
    {
      "cell_type": "markdown",
      "metadata": {
        "id": "41gu7SdZ4T8O"
      },
      "source": [
        "## Great job!"
      ]
    }
  ]
}