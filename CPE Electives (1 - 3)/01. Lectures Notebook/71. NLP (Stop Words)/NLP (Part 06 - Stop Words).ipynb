{
  "nbformat": 4,
  "nbformat_minor": 0,
  "metadata": {
    "colab": {
      "provenance": []
    },
    "kernelspec": {
      "name": "python3",
      "display_name": "Python 3"
    },
    "language_info": {
      "name": "python"
    }
  },
  "cells": [
    {
      "cell_type": "markdown",
      "source": [
        "# Natural Language Processing"
      ],
      "metadata": {
        "id": "G1AV--VHx-Rn"
      }
    },
    {
      "cell_type": "markdown",
      "source": [
        "## Stop Words"
      ],
      "metadata": {
        "id": "cdWy7-M0yFYH"
      }
    },
    {
      "cell_type": "code",
      "source": [
        "# Import\n",
        "\n",
        "import spacy # import the spacy Library"
      ],
      "metadata": {
        "id": "HWJ2VbPB4zWT"
      },
      "execution_count": 1,
      "outputs": []
    },
    {
      "cell_type": "code",
      "source": [
        "# Spacy\n",
        "\n",
        "nlp = spacy.load('en_core_web_sm') # has fewer lemmas than medium (_md, _lg)"
      ],
      "metadata": {
        "id": "Ug4VJ-D1WpZM"
      },
      "execution_count": 2,
      "outputs": []
    },
    {
      "cell_type": "code",
      "source": [
        "# Show stop words\n",
        "\n",
        "print(nlp.Defaults.stop_words)"
      ],
      "metadata": {
        "colab": {
          "base_uri": "https://localhost:8080/"
        },
        "id": "Ih6FEtuPsFSc",
        "outputId": "639cdf85-ba94-419d-bf8b-15ee9b4fd4ef"
      },
      "execution_count": 3,
      "outputs": [
        {
          "output_type": "stream",
          "name": "stdout",
          "text": [
            "{'she', 'which', 'less', 'to', 'between', 'then', 'could', 'nobody', 'from', 'not', 'whereupon', 'take', 'even', 'same', 'wherein', 'each', 'sixty', 'call', 'across', 'nothing', '‘s', 'became', 'perhaps', 'whatever', 'cannot', 'every', 'itself', 'its', 'seemed', 'that', 'at', 'for', 'either', 'without', 'we', 'fifty', 'neither', 'seems', 'former', 'who', 'give', 'among', '‘m', 'our', 'had', 'through', 'thru', 'you', 'go', 'about', 'namely', 'however', 'anyway', 'done', 'his', 'myself', 'side', 'sometimes', 'whenever', 'yours', 'off', \"'ll\", 'most', 'anyone', 'whom', 'therefore', 'move', 'how', 'part', 'two', '’d', 'become', 'hundred', 'after', 'both', 'last', 'ten', 'another', 'is', 'was', 'more', 'anyhow', 'whither', 'always', 'hereby', 'serious', 'upon', 'during', 'over', 'already', 'anything', 'though', 'afterwards', 'once', 'own', '‘d', 'nevertheless', 'been', 'such', \"n't\", 'might', 'ourselves', 'beside', 'they', 'against', 'him', 'toward', 'third', 'nine', 'name', 'formerly', 'above', 'themselves', 'latterly', 'together', 'all', 'below', 'due', 'while', 'too', 'bottom', 'one', 'thereupon', 'when', 'whose', 'before', 'hereupon', 'now', 'be', 'never', 'these', 'he', 'fifteen', 'whole', 'so', 'seeming', 'n’t', 'something', 'ours', 'again', 'otherwise', 'mine', 'indeed', 'thus', 'front', 'thereafter', 'why', 'using', 'becoming', 'yourself', 'therein', 'well', 'her', 'as', 'along', 'an', 'none', 'out', 'please', 'towards', 'others', 'in', 'do', 'latter', 'six', 'thereby', 'those', 'back', 'doing', 'hers', 'four', 'few', 'eleven', \"'re\", 'everything', 'other', 'here', 'whereas', 'there', 'them', 'i', 'five', 'yourselves', 'although', 'any', 'within', 'nor', 'should', 'ever', \"'ve\", '’m', 'via', 'rather', 'by', '‘ll', 'have', 'per', 'herein', '’re', 'because', 'throughout', 'becomes', 'around', 'meanwhile', 'many', 'made', 'empty', 'onto', 'show', 'whereby', \"'s\", 'my', 'does', 'keep', 'me', 'will', 'no', 'much', '‘ve', 'first', 'least', 'thence', 'until', 'this', 'next', 'beyond', 'n‘t', 'if', 'it', 'noone', 'everywhere', \"'m\", 'whereafter', 'hence', 'herself', 'your', 'am', 'and', 'make', 'wherever', 'twenty', 'behind', 'quite', 'somewhere', 'being', 'still', 'elsewhere', 'beforehand', 'would', 'with', 'some', 'three', 'what', 'anywhere', '’s', 'only', 'their', \"'d\", '’ll', 'see', 'where', 'regarding', 'may', 'top', 'the', 'down', 'except', 'on', 'used', 'of', 'yet', 'ca', 'nowhere', 'often', 'hereafter', 'unless', 'almost', 'or', 'whoever', 'else', 'than', 'various', 'forty', 'up', 'a', 'but', 'into', 'besides', '’ve', 'has', 'alone', 'sometime', 're', 'put', 'amongst', 'twelve', 'say', 'were', 'full', 'everyone', 'himself', 'amount', 'must', '‘re', 'did', 'seem', 'get', 'moreover', 'can', 'us', 'several', 'somehow', 'just', 'someone', 'under', 'also', 'since', 'further', 'mostly', 'whence', 'whether', 'enough', 'really', 'are', 'eight', 'very'}\n"
          ]
        }
      ]
    },
    {
      "cell_type": "code",
      "source": [
        "# Length of Stop Words\n",
        "\n",
        "len(nlp.Defaults.stop_words)"
      ],
      "metadata": {
        "colab": {
          "base_uri": "https://localhost:8080/"
        },
        "id": "lcyxc9RpsYwV",
        "outputId": "4fda2ae3-acdf-476a-f09b-78b740bd3ce4"
      },
      "execution_count": 4,
      "outputs": [
        {
          "output_type": "execute_result",
          "data": {
            "text/plain": [
              "326"
            ]
          },
          "metadata": {},
          "execution_count": 4
        }
      ]
    },
    {
      "cell_type": "code",
      "source": [
        "# Identify stop words\n",
        "\n",
        "nlp.vocab['is'].is_stop"
      ],
      "metadata": {
        "colab": {
          "base_uri": "https://localhost:8080/"
        },
        "id": "KqLbVqQjshWj",
        "outputId": "e41a5f0c-f3a2-4717-c050-3b2ed8f49c2b"
      },
      "execution_count": 5,
      "outputs": [
        {
          "output_type": "execute_result",
          "data": {
            "text/plain": [
              "True"
            ]
          },
          "metadata": {},
          "execution_count": 5
        }
      ]
    },
    {
      "cell_type": "code",
      "source": [
        "# Identify stop words\n",
        "\n",
        "nlp.vocab['mystery'].is_stop"
      ],
      "metadata": {
        "colab": {
          "base_uri": "https://localhost:8080/"
        },
        "id": "PMNx47v0ssMH",
        "outputId": "3c60d5ce-0f07-441c-e7c9-7e0339cd10ef"
      },
      "execution_count": 6,
      "outputs": [
        {
          "output_type": "execute_result",
          "data": {
            "text/plain": [
              "False"
            ]
          },
          "metadata": {},
          "execution_count": 6
        }
      ]
    },
    {
      "cell_type": "code",
      "source": [
        "# Adding your custom stop words\n",
        "\n",
        "nlp.Defaults.stop_words.add('btw')"
      ],
      "metadata": {
        "id": "sj-5c60lsxOM"
      },
      "execution_count": 7,
      "outputs": []
    },
    {
      "cell_type": "code",
      "source": [
        "# Set as stop words\n",
        "\n",
        "nlp.vocab['btw'].is_stop = True"
      ],
      "metadata": {
        "id": "3KH8BjLqs5yK"
      },
      "execution_count": 8,
      "outputs": []
    },
    {
      "cell_type": "code",
      "source": [
        "# Length of Stop Words\n",
        "\n",
        "len(nlp.Defaults.stop_words)"
      ],
      "metadata": {
        "colab": {
          "base_uri": "https://localhost:8080/"
        },
        "id": "RxF7y6f8tFZ_",
        "outputId": "9cb43814-aed0-4ef2-980b-7d4afbeabe06"
      },
      "execution_count": 9,
      "outputs": [
        {
          "output_type": "execute_result",
          "data": {
            "text/plain": [
              "327"
            ]
          },
          "metadata": {},
          "execution_count": 9
        }
      ]
    },
    {
      "cell_type": "code",
      "source": [
        "# Identify custom stop words\n",
        "\n",
        "nlp.vocab['btw'].is_stop"
      ],
      "metadata": {
        "colab": {
          "base_uri": "https://localhost:8080/"
        },
        "id": "3bldBByjtLL1",
        "outputId": "fd5fe848-326f-4fc8-e902-2cc398f9133f"
      },
      "execution_count": 10,
      "outputs": [
        {
          "output_type": "execute_result",
          "data": {
            "text/plain": [
              "True"
            ]
          },
          "metadata": {},
          "execution_count": 10
        }
      ]
    },
    {
      "cell_type": "code",
      "source": [
        "# Remove stop words\n",
        "\n",
        "nlp.Defaults.stop_words.remove('front')\n",
        "nlp.vocab['front'].is_stop = False"
      ],
      "metadata": {
        "id": "hL4ZYZ6itPlY"
      },
      "execution_count": 11,
      "outputs": []
    },
    {
      "cell_type": "code",
      "source": [
        "# Identify removed stop words\n",
        "\n",
        "nlp.vocab['front'].is_stop"
      ],
      "metadata": {
        "colab": {
          "base_uri": "https://localhost:8080/"
        },
        "id": "AwvrtkPbtiXG",
        "outputId": "def65e32-8f95-41bc-e22f-268c4a015a08"
      },
      "execution_count": 12,
      "outputs": [
        {
          "output_type": "execute_result",
          "data": {
            "text/plain": [
              "False"
            ]
          },
          "metadata": {},
          "execution_count": 12
        }
      ]
    }
  ]
}