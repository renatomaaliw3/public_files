{
  "nbformat": 4,
  "nbformat_minor": 0,
  "metadata": {
    "colab": {
      "provenance": []
    },
    "kernelspec": {
      "name": "python3",
      "display_name": "Python 3"
    },
    "language_info": {
      "name": "python"
    }
  },
  "cells": [
    {
      "cell_type": "markdown",
      "source": [
        "# Natural Language Processing"
      ],
      "metadata": {
        "id": "G1AV--VHx-Rn"
      }
    },
    {
      "cell_type": "markdown",
      "source": [
        "## Lemmatization"
      ],
      "metadata": {
        "id": "cdWy7-M0yFYH"
      }
    },
    {
      "cell_type": "code",
      "source": [
        "# Import\n",
        "\n",
        "import spacy # import the spacy Library"
      ],
      "metadata": {
        "id": "HWJ2VbPB4zWT"
      },
      "execution_count": 25,
      "outputs": []
    },
    {
      "cell_type": "code",
      "source": [
        "# Spacy\n",
        "\n",
        "nlp = spacy.load('en_core_web_sm') # has fewer lemmas than meidum (_md, _lg)"
      ],
      "metadata": {
        "id": "Ug4VJ-D1WpZM"
      },
      "execution_count": 26,
      "outputs": []
    },
    {
      "cell_type": "code",
      "source": [
        "doc1 = nlp(u\"I am a runner running in a race because I love to run since I ran today\")\n",
        "\n",
        "for token in doc1:\n",
        "\n",
        "    print(token.text, '\\t', token.pos_, '\\t', token.lemma, '\\t', token.lemma)\n",
        "\n",
        "# original word, POS, point to a specific lemma, the lemma"
      ],
      "metadata": {
        "colab": {
          "base_uri": "https://localhost:8080/"
        },
        "id": "oraS-xpylynF",
        "outputId": "708318d5-4e26-458f-d086-c2cc43d62059"
      },
      "execution_count": 27,
      "outputs": [
        {
          "output_type": "stream",
          "name": "stdout",
          "text": [
            "I \t PRON \t 4690420944186131903 \t 4690420944186131903\n",
            "am \t AUX \t 10382539506755952630 \t 10382539506755952630\n",
            "a \t DET \t 11901859001352538922 \t 11901859001352538922\n",
            "runner \t NOUN \t 12640964157389618806 \t 12640964157389618806\n",
            "running \t VERB \t 12767647472892411841 \t 12767647472892411841\n",
            "in \t ADP \t 3002984154512732771 \t 3002984154512732771\n",
            "a \t DET \t 11901859001352538922 \t 11901859001352538922\n",
            "race \t NOUN \t 8048469955494714898 \t 8048469955494714898\n",
            "because \t SCONJ \t 16950148841647037698 \t 16950148841647037698\n",
            "I \t PRON \t 4690420944186131903 \t 4690420944186131903\n",
            "love \t VERB \t 3702023516439754181 \t 3702023516439754181\n",
            "to \t PART \t 3791531372978436496 \t 3791531372978436496\n",
            "run \t VERB \t 12767647472892411841 \t 12767647472892411841\n",
            "since \t SCONJ \t 10066841407251338481 \t 10066841407251338481\n",
            "I \t PRON \t 4690420944186131903 \t 4690420944186131903\n",
            "ran \t VERB \t 12767647472892411841 \t 12767647472892411841\n",
            "today \t NOUN \t 11042482332948150395 \t 11042482332948150395\n"
          ]
        }
      ]
    },
    {
      "cell_type": "code",
      "source": [
        "# Custom Function for Lemmas\n",
        "\n",
        "def show_lemmas(text):\n",
        "\n",
        "    for token in text:\n",
        "\n",
        "        print(f'{token.text:{12}} {token.pos_:{6}} {token.lemma: < {22}} {token.lemma_}')"
      ],
      "metadata": {
        "id": "P1vE5K9qnp9H"
      },
      "execution_count": 28,
      "outputs": []
    },
    {
      "cell_type": "code",
      "source": [
        "doc2 = nlp(u\"I saw eighteen mice today!\")\n",
        "show_lemmas(doc2)"
      ],
      "metadata": {
        "colab": {
          "base_uri": "https://localhost:8080/"
        },
        "id": "9hkPCWv5oDKP",
        "outputId": "48ec93e1-48c8-4818-d14a-b46a60867de8"
      },
      "execution_count": 29,
      "outputs": [
        {
          "output_type": "stream",
          "name": "stdout",
          "text": [
            "I            PRON    4690420944186131903   I\n",
            "saw          VERB    11925638236994514241  see\n",
            "eighteen     NUM     9609336664675087640   eighteen\n",
            "mice         NOUN    1384165645700560590   mouse\n",
            "today        NOUN    11042482332948150395  today\n",
            "!            PUNCT   17494803046312582752  !\n"
          ]
        }
      ]
    }
  ]
}